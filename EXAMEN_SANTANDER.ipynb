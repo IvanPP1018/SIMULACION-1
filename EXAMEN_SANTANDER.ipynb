{
  "nbformat": 4,
  "nbformat_minor": 0,
  "metadata": {
    "colab": {
      "provenance": [],
      "authorship_tag": "ABX9TyNVt4eYYzDOXyvd/nEck3xJ",
      "include_colab_link": true
    },
    "kernelspec": {
      "name": "python3",
      "display_name": "Python 3"
    },
    "language_info": {
      "name": "python"
    }
  },
  "cells": [
    {
      "cell_type": "markdown",
      "metadata": {
        "id": "view-in-github",
        "colab_type": "text"
      },
      "source": [
        "<a href=\"https://colab.research.google.com/github/IvanPP1018/SIMULACION-1/blob/main/EXAMEN_SANTANDER.ipynb\" target=\"_parent\"><img src=\"https://colab.research.google.com/assets/colab-badge.svg\" alt=\"Open In Colab\"/></a>"
      ]
    },
    {
      "cell_type": "markdown",
      "source": [
        "**EXAMEN SANTANDER**\n",
        "\n",
        "**FECHA: 04/03/2025**\n",
        "\n",
        "**AUTOR: IVAN PÁEZ PÉREZ**\n",
        "\n",
        "**REPORTE: ESTATUS TARJETAS**"
      ],
      "metadata": {
        "id": "kdrZ0qwN7YG-"
      }
    },
    {
      "cell_type": "code",
      "execution_count": 119,
      "metadata": {
        "id": "tGYyNeVYwGSN"
      },
      "outputs": [],
      "source": [
        "#Declaramos librerias\n",
        "import pandas as pd\n",
        "import numpy as np\n",
        "from datetime import date"
      ]
    },
    {
      "cell_type": "code",
      "source": [
        "# Cargar archivos Excel\n",
        "ESTATUS_CLIENTES = \"ESTATUS CLIENTES.xlsx\"\n",
        "ESTATUS_CTAS = \"ESTATUS CTAS.xlsx\"\n",
        "OPERACIONES = \"OPERACIONES.xlsx\""
      ],
      "metadata": {
        "id": "qlh1bxjjwsRk"
      },
      "execution_count": 120,
      "outputs": []
    },
    {
      "cell_type": "code",
      "source": [
        "# Leer los datos de los archivos Excel\n",
        "datos_clientes = pd.read_excel(ESTATUS_CLIENTES)\n",
        "datos_cuentas = pd.read_excel(ESTATUS_CTAS)\n",
        "datos_operaciones = pd.read_excel(OPERACIONES)"
      ],
      "metadata": {
        "id": "rba0L9HRxHPo"
      },
      "execution_count": 121,
      "outputs": []
    },
    {
      "cell_type": "code",
      "source": [
        "# Convertir los DataFrames a listas de diccionarios para facilitar el acceso\n",
        "lista_clientes = datos_clientes.to_dict(orient='records')\n",
        "lista_cuentas = datos_cuentas.to_dict(orient='records')\n",
        "lista_operaciones = datos_operaciones.to_dict(orient='records')"
      ],
      "metadata": {
        "id": "o0UsB0KPxTna"
      },
      "execution_count": 122,
      "outputs": []
    },
    {
      "cell_type": "code",
      "source": [
        "# Definir meses y sus días correspondientes\n",
        "MESES = {10: 31, 11: 30, 12: 31}\n",
        "Dat_fes = [{10:'OCTUBRE'},{11:'NOVIEMBRE'},{12:'DICIEMBRE'}]"
      ],
      "metadata": {
        "id": "Jf8a449ExYF4"
      },
      "execution_count": 123,
      "outputs": []
    },
    {
      "cell_type": "code",
      "source": [
        "# Función para obtener la fecha correspondiente al mes\n",
        "def fecha(mes):\n",
        "    \"\"\"Retorna la fecha correspondiente al mes ingresado.\"\"\"\n",
        "    if mes in MESES:\n",
        "        return date(2024, mes, MESES[mes])\n",
        "    else:\n",
        "        return \"Mes no válido\""
      ],
      "metadata": {
        "id": "5_NIMjbBxbrw"
      },
      "execution_count": 124,
      "outputs": []
    },
    {
      "cell_type": "code",
      "source": [
        "# Función para obtener las cuentas de un cliente\n",
        "def obtener_cuentas_cliente(numero_cliente):\n",
        "    \"\"\"Retorna las cuentas asociadas a un cliente.\"\"\"\n",
        "    return datos_cuentas[datos_cuentas['NUM_CLIENTE'] == numero_cliente]['CUENTA'].unique()"
      ],
      "metadata": {
        "id": "kG1lv5Gixnba"
      },
      "execution_count": 126,
      "outputs": []
    },
    {
      "cell_type": "code",
      "source": [
        "\"\"\"Retorna una lista con el tipo de tarjeta (TDC o TDD) para cada cuenta.\"\"\"\n",
        "def Tarjetas_d_o_c(cuenta_cliente):\n",
        "  debido_o_credito = []\n",
        "  for kk in cuenta_cliente:\n",
        "    for zz in range(len(lista_cuentas)):\n",
        "      if kk == lista_cuentas[zz]['CUENTA']:\n",
        "        if lista_cuentas[zz]['PRODUCTO'] == 'TDC':\n",
        "          nombre = 'TDC'\n",
        "        else:\n",
        "          nombre = 'TDD'\n",
        "    debido_o_credito.append(nombre)\n",
        "    A12 = debido_o_credito\n",
        "  return A12"
      ],
      "metadata": {
        "id": "T4Z0pxWbx0t2"
      },
      "execution_count": 127,
      "outputs": []
    },
    {
      "cell_type": "code",
      "source": [
        "\"\"\"Retorna una lista con el tipo de tarjeta (100 o 200) para cada tarjeta\"\"\"\n",
        "def Resulta(Lista):\n",
        "  resultado = [100 if x == 'TDC' else 200 for x in Lista]\n",
        "  return resultado"
      ],
      "metadata": {
        "id": "4Szfo3xGx9sW"
      },
      "execution_count": 128,
      "outputs": []
    },
    {
      "cell_type": "code",
      "source": [
        "# Función para calcular la edad del cliente\n",
        "def calcular_edad(numero_cliente):\n",
        "    \"\"\"Calcula la edad del cliente basado en su RFC.\"\"\"\n",
        "    for cliente in lista_clientes:\n",
        "        if cliente['NUM_CLIENTE'] == numero_cliente:\n",
        "            rfc = cliente['RFC']\n",
        "            año = int(rfc[4:6])\n",
        "            mes_nacimiento = int(rfc[6:8])\n",
        "            dia_nacimiento = int(rfc[8:10])\n",
        "            año = 1900 + año if año > 25 else 2000 + año\n",
        "            edad = fecha(mes).year - date(año, mes_nacimiento, dia_nacimiento).year\n",
        "            return edad\n",
        "    return None"
      ],
      "metadata": {
        "id": "sIon6LhoyB_T"
      },
      "execution_count": 129,
      "outputs": []
    },
    {
      "cell_type": "code",
      "source": [
        "# Función para determinar el nivel socioeconómico\n",
        "def nivel_socioeconomico(numero_cliente):\n",
        "    \"\"\"Retorna el nivel socioeconómico basado en el ingreso mensual.\"\"\"\n",
        "    for cliente in lista_clientes:\n",
        "        if cliente['NUM_CLIENTE'] == numero_cliente:\n",
        "            ingreso = cliente['INGRESO_MENSUAL']\n",
        "            if ingreso >= 85000:\n",
        "                return 'A/B'\n",
        "            elif 35000 <= ingreso < 85000:\n",
        "                return 'C+'\n",
        "            elif 11600 <= ingreso < 35000:\n",
        "                return 'C'\n",
        "            elif 6800 <= ingreso < 11600:\n",
        "                return 'D+'\n",
        "            elif 2700 <= ingreso < 6800:\n",
        "                return 'D'\n",
        "            elif 0 <= ingreso < 2700:\n",
        "                return 'E'\n",
        "    return None"
      ],
      "metadata": {
        "id": "I22i1huDyFp5"
      },
      "execution_count": 130,
      "outputs": []
    },
    {
      "cell_type": "code",
      "source": [
        "# Función para contar el total de operaciones por cuenta\n",
        "def total_operaciones(cuenta_cliente):\n",
        "  \"\"\"Retorna el número total de operaciones por cuenta.\"\"\"\n",
        "  Portador = []\n",
        "  for ii in cuenta_cliente:\n",
        "    Sumita = 0\n",
        "    for ij in range(len(lista_operaciones)):\n",
        "      for k in range(len(Dat_fes)):\n",
        "        try:\n",
        "          if Dat_fes[k][mes] == lista_operaciones[ij]['MES']:\n",
        "            if ii == lista_operaciones[ij]['CUENTA']:\n",
        "               Sumita += 1\n",
        "        except KeyError:\n",
        "          pass\n",
        "    Portador.append(Sumita)\n",
        "  return Portador"
      ],
      "metadata": {
        "id": "cPGl8W-oyNuu"
      },
      "execution_count": 131,
      "outputs": []
    },
    {
      "cell_type": "code",
      "source": [
        "# Función para calcular el saldo de cada cuenta\n",
        "def Saldos(mes,cuenta_cliente):\n",
        "  \"\"\"Retorna el saldo de cada cuenta.\"\"\"\n",
        "  Saldo = []\n",
        "  for ii in cuenta_cliente:\n",
        "    S1 = 0\n",
        "    for ij in range(len(lista_operaciones)):\n",
        "      for k in range(len(Dat_fes)):\n",
        "        try:\n",
        "          if Dat_fes[k][mes] == lista_operaciones[ij]['MES']:\n",
        "            if ii == lista_operaciones[ij]['CUENTA']:\n",
        "              if lista_operaciones[ij]['TIPO OPERACIÓN'] == 1:\n",
        "                S1 -= lista_operaciones[ij]['IMPORTE']\n",
        "              else:\n",
        "                S1 += lista_operaciones[ij]['IMPORTE']\n",
        "        except KeyError:\n",
        "          pass\n",
        "    Saldo.append(round(S1,2))\n",
        "  return Saldo"
      ],
      "metadata": {
        "id": "kU_xDUaWyRxo"
      },
      "execution_count": 132,
      "outputs": []
    },
    {
      "cell_type": "code",
      "source": [
        "# Función para calcular el pago mínimo\n",
        "\n",
        "# Función R (contador de meses)\n",
        "def R(mes):\n",
        "    tt = 10\n",
        "    r = 0\n",
        "    while tt <= mes:\n",
        "        r += 1\n",
        "        tt += 1\n",
        "    return r\n",
        "\n",
        "# Función para calcular el pago mínimo\n",
        "def calcular_pago_minimo(mes, r, TATA,numero_cliente):\n",
        "    inicio_del_mes = 0\n",
        "    debito = 0  # Inicializar debito con un valor predeterminado\n",
        "    for hh in range(r):\n",
        "        for xx in range(len(TATA)):\n",
        "            if TATA[xx] == 'TDC':\n",
        "                Super_duplex = Saldos(mes - r + hh + 1, obtener_cuentas_cliente(numero_cliente))\n",
        "                if Super_duplex[xx] <= 0:\n",
        "                    pago_minimo = inicio_del_mes * 0.4 + Super_duplex[xx]\n",
        "                else:\n",
        "                    pago_minimo = 0\n",
        "            else:\n",
        "                debito = 0  # Actualizar debito si es una tarjeta de débito\n",
        "                pago_minimo = 0\n",
        "            Pago = round(np.abs(pago_minimo),2)\n",
        "        inicio_del_mes = pago_minimo\n",
        "\n",
        "    if len(obtener_cuentas_cliente(numero_cliente)) == 2:\n",
        "        return [Pago, round(debito,2)]  # Retorna una lista\n",
        "    else:\n",
        "        if TATA[0] == 'TDC':\n",
        "            return [Pago]  # Retorna una lista con un solo elemento\n",
        "        else:\n",
        "            return [round(debito,2)]  # Retorna una lista con un solo elemento"
      ],
      "metadata": {
        "id": "aXfjJXaQyVTd"
      },
      "execution_count": 149,
      "outputs": []
    },
    {
      "cell_type": "code",
      "source": [
        "# Función para verificar el cumplimiento de pagos\n",
        "def verificar_cumplimiento(cuentas, tipos_tarjeta, pagos_minimos,mes):\n",
        "    \"\"\"Verifica si se cumplió con el pago mínimo.\"\"\"\n",
        "    cumplimiento = []\n",
        "    for cuenta, tipo, pago in zip(cuentas, tipos_tarjeta, pagos_minimos):\n",
        "        if tipo == 'TDC':\n",
        "            saldo = Saldos(mes,[cuenta])[0]\n",
        "            cumplimiento.append('SI' if saldo >= pago else 'NO')\n",
        "        else:\n",
        "            cumplimiento.append('NA')  # No aplica para débito\n",
        "    return cumplimiento"
      ],
      "metadata": {
        "id": "XP6RgVMLybh1"
      },
      "execution_count": 134,
      "outputs": []
    },
    {
      "cell_type": "markdown",
      "source": [
        "**NOTA 1:**\n",
        "\n",
        "* UNA VEZ CARGADOS TODOS LOS CODIGOS DE ARRIBA, SOLO ES\n",
        "NECESARIO VOLVER A CARGAR DESDE AQUÍ PARA LA EJECUCIÓN DE LOS REPORTES DE LAS FECHAS FALTANTES.\n",
        "\n",
        "* CONSIDERA QUE AL INGRESAR EL MES SOLICITADO, TENDRÁS LA OPCIÓN DE INGRESAR 10 (CUANDO SOLICITES EL REPORTE DE OCTUBRE), 11 (CUANDO SOLICITES EL REPORTE DE NOVIEMBRE), 12 (CUANDO SOLICITES EL REPORTE DE DICIEMBRE).\n"
      ],
      "metadata": {
        "id": "8DML7UBBB2fq"
      }
    },
    {
      "cell_type": "code",
      "source": [
        "# Solicitar mes y número de cliente\n",
        "mes = int(input(\"Ingrese el mes (10, 11, 12): \"))\n",
        "\n",
        "#Valor arbitrario al cliente\n",
        "numero_cliente=10"
      ],
      "metadata": {
        "colab": {
          "base_uri": "https://localhost:8080/"
        },
        "id": "dR9WeBXYzRpk",
        "outputId": "53d40164-cabd-4668-ed67-c765bbc556f2"
      },
      "execution_count": 146,
      "outputs": [
        {
          "name": "stdout",
          "output_type": "stream",
          "text": [
            "Ingrese el mes (10, 11, 12): 12\n"
          ]
        }
      ]
    },
    {
      "cell_type": "markdown",
      "source": [
        "**NOTA 2:**\n",
        "\n",
        "* SOLO EXISTEN 4 CLIENTES, POR LO CUAL, AL SOLICITARTE CUÁNTOS CLIENTES SON, DEBERÁS INGRESAR EL NÚMERO 4.\n",
        "\n",
        "* LOS 4 TIPOS DE NÚMEROS DE CLIENTES QUE EXISTEN SON: 10, 20, 30 Y 40, DEBIDO A ESTO SE TE SOLICITARÁ 4 VECES QUE INGRESES EL NÚMERO DE CLIENTE, POR LO TANTO, DEBES DE INGRESAR PRIMERO \"10\", SEGUNDO \"20\", TERCERO \"30\" Y CUARTO \"40\".\n"
      ],
      "metadata": {
        "id": "H2cNolAgDw-T"
      }
    },
    {
      "cell_type": "code",
      "source": [
        "20# Función principal para generar la matriz de resultados\n",
        "def generar_matriz(clientes, mes):\n",
        "    \"\"\"Genera una matriz con los datos de los clientes y sus cuentas.\"\"\"\n",
        "    matriz = []\n",
        "    for cliente in clientes:\n",
        "        cuentas = obtener_cuentas_cliente(cliente)\n",
        "        tip = Tarjetas_d_o_c(cuentas)\n",
        "        tipos = Resulta(tip)\n",
        "        edades = [calcular_edad(cliente)] * len(cuentas)\n",
        "        niveles = [nivel_socioeconomico(cliente)] * len(cuentas)\n",
        "        operaciones = total_operaciones(cuentas)\n",
        "        saldos = Saldos(mes,cuentas)\n",
        "        pagos_minimos = calcular_pago_minimo(mes, R(mes), Tarjetas_d_o_c(cuentas),cliente)\n",
        "        cumplimiento = verificar_cumplimiento(cuentas, tip, pagos_minimos,mes)\n",
        "\n",
        "        for i in range(len(cuentas)):\n",
        "            fila = [\n",
        "                str(fecha(mes)),  # Fecha\n",
        "                cuentas[i],  # Número de cuenta\n",
        "                tipos[i],  # Tipo de tarjeta\n",
        "                edades[i],  # Edad\n",
        "                niveles[i],  # Nivel socioeconómico\n",
        "                operaciones[i],  # Total de operaciones\n",
        "                saldos[i],  # Saldo\n",
        "                pagos_minimos[i],  # Pago mínimo\n",
        "                cumplimiento[i]  # Cumplimiento\n",
        "            ]\n",
        "            matriz.append(fila)\n",
        "    return matriz\n",
        "\n",
        "# Solicitar número de clientes y sus números\n",
        "Numero_de_cliente = int(input('Digite cuántos clientes son: '))\n",
        "Lista_final = [int(input('Digite número de cliente: ')) for _ in range(Numero_de_cliente)]\n",
        "\n",
        "# Generar y mostrar la matriz\n",
        "matriz = generar_matriz(Lista_final, mes)\n",
        "for fila in matriz:\n",
        "    print(fila)"
      ],
      "metadata": {
        "colab": {
          "base_uri": "https://localhost:8080/"
        },
        "id": "XcS-uUlPyeZ7",
        "outputId": "dab91b9d-ad7a-4cbe-eb3c-e3b110c6d66b"
      },
      "execution_count": 147,
      "outputs": [
        {
          "output_type": "stream",
          "name": "stdout",
          "text": [
            "Digite cuántos clientes son: 4\n",
            "Digite número de cliente: 10\n",
            "Digite número de cliente: 20\n",
            "Digite número de cliente: 30\n",
            "Digite número de cliente: 40\n",
            "['2024-12-31', 234567, 100, 39, 'C+', 6, -4000.89, 0, 'NO']\n",
            "['2024-12-31', 654321, 200, 39, 'C+', 0, 0, 0, 'NA']\n",
            "['2024-12-31', 98765, 200, 39, 'D', 0, 0, 0, 'NA']\n",
            "['2024-12-31', 1234, 100, 33, 'C', 6, -300.0, 5532.0, 'NO']\n",
            "['2024-12-31', 543678, 100, 74, 'D+', 8, -630.0, 630.0, 'NO']\n"
          ]
        }
      ]
    },
    {
      "cell_type": "markdown",
      "source": [
        "**UNA VEZ INGRESADO EL MES DEL REPORTE QUE DESEAS SOLICITAR, SOLO CARGAR EL REPORTE DEL MES QUE SOLICITASTE PARA PODER ADQUIRIR DICHO REPORTE**\n",
        "\n",
        "Considera que volveras a ingresar la cantidad de clientes (4) y su respectivo número de cliente (10,20,30,40), como anteriormente lo ingresaste."
      ],
      "metadata": {
        "id": "-R3P70X0GOuL"
      }
    },
    {
      "cell_type": "markdown",
      "source": [
        "**REPORTE MES DE OCTUBRE**"
      ],
      "metadata": {
        "id": "-Q_4LWJU0ePZ"
      }
    },
    {
      "cell_type": "code",
      "source": [
        "\n",
        "# Función para guardar la matriz en un archivo de texto plano con datos centrados\n",
        "def guardar_matriz_en_txt(matriz, nombre_archivo):\n",
        "    \"\"\"Guarda la matriz en un archivo de texto plano, centrando los valores en cada columna.\"\"\"\n",
        "    # Definir el ancho de cada columna\n",
        "    anchos = [12, 10, 8, 6, 6, 8, 12, 12, 8]  # Ajusta estos valores según tus necesidades\n",
        "\n",
        "    with open(nombre_archivo, 'w') as archivo:\n",
        "        for fila in matriz:\n",
        "            # Formatear cada valor para que esté centrado en su columna\n",
        "            fila_formateada = []\n",
        "            for i, valor in enumerate(fila):\n",
        "                valor_str = str(valor)\n",
        "                espacio_extra = anchos[i] - len(valor_str)\n",
        "                izquierda = espacio_extra // 2\n",
        "                derecha = espacio_extra - izquierda\n",
        "                valor_centrado = ' ' * izquierda + valor_str + ' ' * derecha\n",
        "                fila_formateada.append(valor_centrado)\n",
        "\n",
        "            # Unir las columnas con '|' y escribir la fila en el archivo\n",
        "            fila_str = '|'.join(fila_formateada)\n",
        "            archivo.write(fila_str + '\\n')\n",
        "\n",
        "# Solicitar número de clientes y sus números\n",
        "Numero_de_cliente = int(input('Digite cuántos clientes son: '))\n",
        "Lista_final = [int(input('Digite número de cliente: ')) for _ in range(Numero_de_cliente)]\n",
        "\n",
        "# Generar la matriz\n",
        "matriz = generar_matriz(Lista_final, mes)\n",
        "\n",
        "# Guardar la matriz en un archivo de texto plano\n",
        "nombre_archivo = 'ESTATUS TARJETAS 202410.txt'\n",
        "guardar_matriz_en_txt(matriz, nombre_archivo)\n",
        "\n",
        "print(f\"La matriz se ha guardado en el archivo: {nombre_archivo}\")"
      ],
      "metadata": {
        "colab": {
          "base_uri": "https://localhost:8080/"
        },
        "id": "ZR-7t_wEymVg",
        "outputId": "0c083de6-3047-46f1-c557-aa8589b452d1"
      },
      "execution_count": 142,
      "outputs": [
        {
          "output_type": "stream",
          "name": "stdout",
          "text": [
            "Digite cuántos clientes son: 4\n",
            "Digite número de cliente: 10\n",
            "Digite número de cliente: 20\n",
            "Digite número de cliente: 30\n",
            "Digite número de cliente: 40\n",
            "La matriz se ha guardado en el archivo: ESTATUS TARJETAS 202410.txt\n"
          ]
        }
      ]
    },
    {
      "cell_type": "markdown",
      "source": [
        "**REPORTE MES DE NOVIEMBRE**"
      ],
      "metadata": {
        "id": "NpdkH5bx0wCn"
      }
    },
    {
      "cell_type": "code",
      "source": [
        "# Función para guardar la matriz en un archivo de texto plano con datos centrados\n",
        "def guardar_matriz_en_txt(matriz, nombre_archivo):\n",
        "    \"\"\"Guarda la matriz en un archivo de texto plano, centrando los valores en cada columna.\"\"\"\n",
        "    # Definir el ancho de cada columna\n",
        "    anchos = [12, 10, 8, 6, 6, 8, 12, 12, 8]  # Ajusta estos valores según tus necesidades\n",
        "\n",
        "    with open(nombre_archivo, 'w') as archivo:\n",
        "        for fila in matriz:\n",
        "            # Formatear cada valor para que esté centrado en su columna\n",
        "            fila_formateada = []\n",
        "            for i, valor in enumerate(fila):\n",
        "                valor_str = str(valor)\n",
        "                espacio_extra = anchos[i] - len(valor_str)\n",
        "                izquierda = espacio_extra // 2\n",
        "                derecha = espacio_extra - izquierda\n",
        "                valor_centrado = ' ' * izquierda + valor_str + ' ' * derecha\n",
        "                fila_formateada.append(valor_centrado)\n",
        "\n",
        "            # Unir las columnas con '|' y escribir la fila en el archivo\n",
        "            fila_str = '|'.join(fila_formateada)\n",
        "            archivo.write(fila_str + '\\n')\n",
        "\n",
        "# Solicitar número de clientes y sus números\n",
        "Numero_de_cliente = int(input('Digite cuántos clientes son: '))\n",
        "Lista_final = [int(input('Digite número de cliente: ')) for _ in range(Numero_de_cliente)]\n",
        "\n",
        "# Generar la matriz\n",
        "matriz = generar_matriz(Lista_final, mes)\n",
        "\n",
        "# Guardar la matriz en un archivo de texto plano\n",
        "nombre_archivo = 'ESTATUS TARJETAS 202411.txt'\n",
        "guardar_matriz_en_txt(matriz, nombre_archivo)\n",
        "\n",
        "print(f\"La matriz se ha guardado en el archivo: {nombre_archivo}\")"
      ],
      "metadata": {
        "colab": {
          "base_uri": "https://localhost:8080/"
        },
        "id": "MTrZGy0ez39c",
        "outputId": "678201a4-853d-4c53-bb92-be6f143881f4"
      },
      "execution_count": 145,
      "outputs": [
        {
          "output_type": "stream",
          "name": "stdout",
          "text": [
            "Digite cuántos clientes son: 4\n",
            "Digite número de cliente: 10\n",
            "Digite número de cliente: 20\n",
            "Digite número de cliente: 30\n",
            "Digite número de cliente: 40\n",
            "La matriz se ha guardado en el archivo: ESTATUS TARJETAS 202411.txt\n"
          ]
        }
      ]
    },
    {
      "cell_type": "markdown",
      "source": [
        "**REPORTE MES DE DICIEMBRE**"
      ],
      "metadata": {
        "id": "jEn-_pg306QO"
      }
    },
    {
      "cell_type": "code",
      "source": [
        "# Función para guardar la matriz en un archivo de texto plano con datos centrados\n",
        "def guardar_matriz_en_txt(matriz, nombre_archivo):\n",
        "    \"\"\"Guarda la matriz en un archivo de texto plano, centrando los valores en cada columna.\"\"\"\n",
        "    # Definir el ancho de cada columna\n",
        "    anchos = [12, 10, 8, 6, 6, 8, 12, 12, 8]  # Ajusta estos valores según tus necesidades\n",
        "\n",
        "    with open(nombre_archivo, 'w') as archivo:\n",
        "        for fila in matriz:\n",
        "            # Formatear cada valor para que esté centrado en su columna\n",
        "            fila_formateada = []\n",
        "            for i, valor in enumerate(fila):\n",
        "                valor_str = str(valor)\n",
        "                espacio_extra = anchos[i] - len(valor_str)\n",
        "                izquierda = espacio_extra // 2\n",
        "                derecha = espacio_extra - izquierda\n",
        "                valor_centrado = ' ' * izquierda + valor_str + ' ' * derecha\n",
        "                fila_formateada.append(valor_centrado)\n",
        "\n",
        "            # Unir las columnas con '|' y escribir la fila en el archivo\n",
        "            fila_str = '|'.join(fila_formateada)\n",
        "            archivo.write(fila_str + '\\n')\n",
        "\n",
        "# Solicitar número de clientes y sus números\n",
        "Numero_de_cliente = int(input('Digite cuántos clientes son: '))\n",
        "Lista_final = [int(input('Digite número de cliente: ')) for _ in range(Numero_de_cliente)]\n",
        "\n",
        "# Generar la matriz\n",
        "matriz = generar_matriz(Lista_final, mes)\n",
        "\n",
        "# Guardar la matriz en un archivo de texto plano\n",
        "nombre_archivo = 'ESTATUS TARJETAS 202412.txt'\n",
        "guardar_matriz_en_txt(matriz, nombre_archivo)\n",
        "\n",
        "print(f\"La matriz se ha guardado en el archivo: {nombre_archivo}\")"
      ],
      "metadata": {
        "colab": {
          "base_uri": "https://localhost:8080/"
        },
        "id": "aVAJ1CYpz9O2",
        "outputId": "a9311cf8-6371-49ca-df1b-b2f152aa6663"
      },
      "execution_count": 148,
      "outputs": [
        {
          "output_type": "stream",
          "name": "stdout",
          "text": [
            "Digite cuántos clientes son: 4\n",
            "Digite número de cliente: 10\n",
            "Digite número de cliente: 20\n",
            "Digite número de cliente: 30\n",
            "Digite número de cliente: 40\n",
            "La matriz se ha guardado en el archivo: ESTATUS TARJETAS 202412.txt\n"
          ]
        }
      ]
    },
    {
      "cell_type": "markdown",
      "source": [
        "**Al finalizar el proceso, puedes adquirir otro reporte, volviendo a ejecutar nuevamente todo a partir de la Nota 1, ingresando la fecha del reporte que deseas solicitar**"
      ],
      "metadata": {
        "id": "PwrosiWMHnSH"
      }
    }
  ]
}