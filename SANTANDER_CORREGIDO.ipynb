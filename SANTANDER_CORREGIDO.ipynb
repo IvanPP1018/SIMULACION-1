{
  "nbformat": 4,
  "nbformat_minor": 0,
  "metadata": {
    "colab": {
      "provenance": [],
      "authorship_tag": "ABX9TyPC8F+oKhu71wWuFhfQDwzQ",
      "include_colab_link": true
    },
    "kernelspec": {
      "name": "python3",
      "display_name": "Python 3"
    },
    "language_info": {
      "name": "python"
    }
  },
  "cells": [
    {
      "cell_type": "markdown",
      "metadata": {
        "id": "view-in-github",
        "colab_type": "text"
      },
      "source": [
        "<a href=\"https://colab.research.google.com/github/IvanPP1018/SIMULACION-1/blob/main/SANTANDER_CORREGIDO.ipynb\" target=\"_parent\"><img src=\"https://colab.research.google.com/assets/colab-badge.svg\" alt=\"Open In Colab\"/></a>"
      ]
    },
    {
      "cell_type": "code",
      "execution_count": 1,
      "metadata": {
        "id": "HGq1ijt1uIAU"
      },
      "outputs": [],
      "source": [
        "import pandas as pd\n",
        "import numpy as np\n",
        "from prettytable import PrettyTable as PT\n",
        "from datetime import date"
      ]
    },
    {
      "cell_type": "code",
      "source": [
        "#Cargamos el archivo excel\n",
        "Estatus = \"ESTATUS CLIENTES.xlsx\"\n",
        "datos = pd.read_excel(Estatus)\n",
        "\n",
        "print(datos)"
      ],
      "metadata": {
        "colab": {
          "base_uri": "https://localhost:8080/"
        },
        "id": "RCnV0iEgu8gT",
        "outputId": "f2ef08f6-7868-4927-f644-287853f3c199"
      },
      "execution_count": 2,
      "outputs": [
        {
          "output_type": "stream",
          "name": "stdout",
          "text": [
            "          MES  NUM_CLIENTE           NOMBRE            RFC  INGRESO_MENSUAL\n",
            "0     Octubre           10       Juan Pérez  PETJ851011TL2            70000\n",
            "1     Octubre           20  Lolita Martinez  MARL851109YO1             5000\n",
            "2     Octubre           30  Fernanda Toledo  TOPT911224D3E            20000\n",
            "3     Octubre           40    Ricardo Gómez  GOHR501001T45             9000\n",
            "4   Noviembre           10       Juan Pérez  PETJ900910TL2            90000\n",
            "5   Noviembre           20  Lolita Martinez  MARL861109YO1             7000\n",
            "6   Noviembre           30  Fernanda Toledo  TOPT911224D3E            20000\n",
            "7   Noviembre           40    Ricardo Gómez  GOHR501001T45             9000\n",
            "8   Diciembre           10       Juan Pérez  PETJ900910TL2            90000\n",
            "9   Diciembre           20  Lolita Martinez  MARL861109YO1             7000\n",
            "10  Diciembre           30  Fernanda Toledo  TOPT911224D3E            20000\n",
            "11  Diciembre           40    Ricardo Gómez  GOHR501001T45             9000\n"
          ]
        }
      ]
    },
    {
      "cell_type": "code",
      "source": [
        "ESTATUS1 = \"ESTATUS CTAS.xlsx\"\n",
        "datos2= pd.read_excel(ESTATUS1)\n",
        "print(datos2)"
      ],
      "metadata": {
        "colab": {
          "base_uri": "https://localhost:8080/"
        },
        "id": "xJhfbsp2u_bs",
        "outputId": "d7750b9c-6a44-4368-b683-287c0245bd4f"
      },
      "execution_count": 3,
      "outputs": [
        {
          "output_type": "stream",
          "name": "stdout",
          "text": [
            "          MES  CUENTA  NUM_CLIENTE PRODUCTO ESTATUS\n",
            "0     OCTUBRE  234567           10      TDC       A\n",
            "1     OCTUBRE  654321           10      TDD       A\n",
            "2     OCTUBRE   98765           20      TDD       A\n",
            "3     OCTUBRE    1234           30      TDC       A\n",
            "4     OCTUBRE  543678           40      TDC       A\n",
            "5   NOVIEMBRE  234567           10      TDC       A\n",
            "6   NOVIEMBRE  654321           10      TDD       A\n",
            "7   NOVIEMBRE   98765           20      TDD       A\n",
            "8   NOVIEMBRE    1234           30      TDC       A\n",
            "9   NOVIEMBRE  543678           40      TDC       A\n",
            "10  DICIEMBRE  234567           10      TDC       A\n",
            "11  DICIEMBRE  654321           10      TDD       C\n",
            "12  DICIEMBRE   98765           20      TDD       C\n",
            "13  DICIEMBRE    1234           30      TDC       A\n",
            "14  DICIEMBRE  543678           40      TDC       A\n"
          ]
        }
      ]
    },
    {
      "cell_type": "code",
      "source": [
        "ESTATUS2 = \"OPERACIONES.xlsx\"\n",
        "datos3= pd.read_excel(ESTATUS2)\n",
        "print(datos3)"
      ],
      "metadata": {
        "colab": {
          "base_uri": "https://localhost:8080/"
        },
        "id": "luAFFWQVvCB4",
        "outputId": "505a6b51-b2b1-4e00-8165-9a2c809b9f63"
      },
      "execution_count": 4,
      "outputs": [
        {
          "output_type": "stream",
          "name": "stdout",
          "text": [
            "          MES FECHA_OPERACIÓN  CUENTA  TIPO OPERACIÓN  IMPORTE\n",
            "0     OCTUBRE      2024-10-01    1234               1   4000.0\n",
            "1     OCTUBRE      2024-10-03  654321               2  10000.0\n",
            "2     OCTUBRE      2024-10-04    1234               1   5000.0\n",
            "3     OCTUBRE      2024-10-05  654321               1    500.0\n",
            "4     OCTUBRE      2024-10-05  543678               1    100.0\n",
            "..        ...             ...     ...             ...      ...\n",
            "76  DICIEMBRE      2024-12-08  543678               1    100.0\n",
            "77  DICIEMBRE      2024-12-10  543678               1    400.0\n",
            "78  DICIEMBRE      2024-12-12  543678               1    500.0\n",
            "79  DICIEMBRE      2024-12-14  543678               1   1000.0\n",
            "80  DICIEMBRE      2024-12-16  543678               2   1500.0\n",
            "\n",
            "[81 rows x 5 columns]\n"
          ]
        }
      ]
    },
    {
      "cell_type": "code",
      "source": [
        "#FECHA_DATOS---- 1)\n",
        "def fecha(mes):\n",
        "  try:\n",
        "    if mes == 10:\n",
        "      return date(2024,mes,31)\n",
        "    elif mes == 11:\n",
        "      return date(2024,mes,30)\n",
        "    elif mes == 12:\n",
        "      return date(2024,mes,31)\n",
        "    else:\n",
        "      return \"Mes no valido\"\n",
        "  except TypeError:\n",
        "    return \"Mes no valido\"\n",
        "\n",
        "#el mes en número\n",
        "mes = int(input(\"Ingrese el mes: \"))\n",
        "print(fecha(mes))\n",
        "\n"
      ],
      "metadata": {
        "colab": {
          "base_uri": "https://localhost:8080/"
        },
        "id": "Db72Hd6fv9BG",
        "outputId": "5b2fae13-faca-4899-b02b-c6cc270847f1"
      },
      "execution_count": 5,
      "outputs": [
        {
          "output_type": "stream",
          "name": "stdout",
          "text": [
            "Ingrese el mes: 11\n",
            "2024-11-30\n"
          ]
        }
      ]
    },
    {
      "cell_type": "code",
      "source": [
        "lista_datos = datos.to_dict(orient='records')\n",
        "print(lista_datos)\n",
        "#print(lista_datos[0])"
      ],
      "metadata": {
        "colab": {
          "base_uri": "https://localhost:8080/"
        },
        "id": "PTzRmMnRwPTu",
        "outputId": "f7ef19f9-e9dd-4972-adf8-15bf2a7a235c"
      },
      "execution_count": 6,
      "outputs": [
        {
          "output_type": "stream",
          "name": "stdout",
          "text": [
            "[{'MES': 'Octubre', 'NUM_CLIENTE': 10, 'NOMBRE': 'Juan Pérez', 'RFC': 'PETJ851011TL2', 'INGRESO_MENSUAL': 70000}, {'MES': 'Octubre', 'NUM_CLIENTE': 20, 'NOMBRE': 'Lolita Martinez', 'RFC': 'MARL851109YO1', 'INGRESO_MENSUAL': 5000}, {'MES': 'Octubre', 'NUM_CLIENTE': 30, 'NOMBRE': 'Fernanda Toledo', 'RFC': 'TOPT911224D3E', 'INGRESO_MENSUAL': 20000}, {'MES': 'Octubre', 'NUM_CLIENTE': 40, 'NOMBRE': 'Ricardo Gómez', 'RFC': 'GOHR501001T45', 'INGRESO_MENSUAL': 9000}, {'MES': 'Noviembre', 'NUM_CLIENTE': 10, 'NOMBRE': 'Juan Pérez', 'RFC': 'PETJ900910TL2', 'INGRESO_MENSUAL': 90000}, {'MES': 'Noviembre', 'NUM_CLIENTE': 20, 'NOMBRE': 'Lolita Martinez', 'RFC': 'MARL861109YO1', 'INGRESO_MENSUAL': 7000}, {'MES': 'Noviembre', 'NUM_CLIENTE': 30, 'NOMBRE': 'Fernanda Toledo', 'RFC': 'TOPT911224D3E', 'INGRESO_MENSUAL': 20000}, {'MES': 'Noviembre', 'NUM_CLIENTE': 40, 'NOMBRE': 'Ricardo Gómez', 'RFC': 'GOHR501001T45', 'INGRESO_MENSUAL': 9000}, {'MES': 'Diciembre', 'NUM_CLIENTE': 10, 'NOMBRE': 'Juan Pérez', 'RFC': 'PETJ900910TL2', 'INGRESO_MENSUAL': 90000}, {'MES': 'Diciembre', 'NUM_CLIENTE': 20, 'NOMBRE': 'Lolita Martinez', 'RFC': 'MARL861109YO1', 'INGRESO_MENSUAL': 7000}, {'MES': 'Diciembre', 'NUM_CLIENTE': 30, 'NOMBRE': 'Fernanda Toledo', 'RFC': 'TOPT911224D3E', 'INGRESO_MENSUAL': 20000}, {'MES': 'Diciembre', 'NUM_CLIENTE': 40, 'NOMBRE': 'Ricardo Gómez', 'RFC': 'GOHR501001T45', 'INGRESO_MENSUAL': 9000}]\n"
          ]
        }
      ]
    },
    {
      "cell_type": "code",
      "source": [
        "lista_datos2 = datos2.to_dict(orient='records')\n",
        "#print(lista_datos)\n",
        "print(lista_datos2[0])"
      ],
      "metadata": {
        "colab": {
          "base_uri": "https://localhost:8080/"
        },
        "id": "y3r8HgcbwaTC",
        "outputId": "b8aba30a-0ab3-4dbd-d845-bd50026708a4"
      },
      "execution_count": 7,
      "outputs": [
        {
          "output_type": "stream",
          "name": "stdout",
          "text": [
            "{'MES': 'OCTUBRE', 'CUENTA': 234567, 'NUM_CLIENTE': 10, 'PRODUCTO': 'TDC', 'ESTATUS': 'A'}\n"
          ]
        }
      ]
    },
    {
      "cell_type": "code",
      "source": [
        "lista_datos3 = datos3.to_dict(orient='records')\n",
        "#print(lista_datos)\n",
        "print(lista_datos3[0])"
      ],
      "metadata": {
        "colab": {
          "base_uri": "https://localhost:8080/"
        },
        "id": "WnlBf2VDwcGq",
        "outputId": "df9b1d66-658e-49d7-935f-f75128bbb71c"
      },
      "execution_count": 8,
      "outputs": [
        {
          "output_type": "stream",
          "name": "stdout",
          "text": [
            "{'MES': 'OCTUBRE', 'FECHA_OPERACIÓN': Timestamp('2024-10-01 00:00:00'), 'CUENTA': 1234, 'TIPO OPERACIÓN': 1, 'IMPORTE': 4000.0}\n"
          ]
        }
      ]
    },
    {
      "cell_type": "code",
      "source": [
        "numero_cliente = int(input('Digite número de cliente: '))"
      ],
      "metadata": {
        "colab": {
          "base_uri": "https://localhost:8080/"
        },
        "id": "GPnmykbJykH7",
        "outputId": "4339b896-029b-4d43-cf35-eb5d70b9bcf1"
      },
      "execution_count": 9,
      "outputs": [
        {
          "name": "stdout",
          "output_type": "stream",
          "text": [
            "Digite número de cliente: 10\n"
          ]
        }
      ]
    },
    {
      "cell_type": "code",
      "source": [
        "#CUENTA------- 2)\n",
        "cuenta_cliente = datos2[datos2['NUM_CLIENTE'] == numero_cliente]['CUENTA'].unique()\n",
        "print(cuenta_cliente)"
      ],
      "metadata": {
        "colab": {
          "base_uri": "https://localhost:8080/"
        },
        "id": "il4Ga7ROyoM_",
        "outputId": "5e4d5c13-be2b-410d-f52d-5ea23e00ef60"
      },
      "execution_count": 11,
      "outputs": [
        {
          "output_type": "stream",
          "name": "stdout",
          "text": [
            "[234567 654321]\n"
          ]
        }
      ]
    },
    {
      "cell_type": "code",
      "source": [
        "#PRODUCTO ------- 3)\n",
        "\n",
        "def Tarjetas_d_o_c(cuenta_cliente):\n",
        "  debido_o_credito = []\n",
        "  for kk in cuenta_cliente:\n",
        "    for zz in range(len(lista_datos2)):\n",
        "      if kk == lista_datos2[zz]['CUENTA']:\n",
        "        if lista_datos2[zz]['PRODUCTO'] == 'TDC':\n",
        "          nombre = 'TDC'\n",
        "        else:\n",
        "          nombre = 'TDD'\n",
        "    debido_o_credito.append(nombre)\n",
        "    A12 = debido_o_credito\n",
        "  return A12\n",
        "\n",
        "print(Tarjetas_d_o_c(cuenta_cliente))\n",
        "resultado = [100 if x == 'TDC' else 200 for x in Tarjetas_d_o_c(cuenta_cliente)]\n",
        "print(resultado)"
      ],
      "metadata": {
        "colab": {
          "base_uri": "https://localhost:8080/"
        },
        "id": "xOpYQQWOz0JF",
        "outputId": "4a915b33-8a8c-439e-edab-508dd272fb6b"
      },
      "execution_count": 15,
      "outputs": [
        {
          "output_type": "stream",
          "name": "stdout",
          "text": [
            "['TDC', 'TDD']\n",
            "[100, 200]\n"
          ]
        }
      ]
    },
    {
      "cell_type": "code",
      "source": [
        "#EDAD CLIENTE------ 4)\n",
        "Lista = [10,20,30,40]\n",
        "\n",
        "if numero_cliente == Lista[0]:\n",
        "  rfc = lista_datos[0]['RFC']\n",
        "elif numero_cliente == Lista[1]:\n",
        "  rfc = lista_datos[1]['RFC']\n",
        "elif numero_cliente == Lista[2]:\n",
        "  rfc = lista_datos[2]['RFC']\n",
        "elif numero_cliente == Lista[3]:\n",
        "  rfc = lista_datos[3]['RFC']\n",
        "\n",
        "#print(rfc)\n",
        "\n",
        "Fe = rfc[4:10]\n",
        "#print(Fe)\n",
        "\n",
        "#print(type(Fe))\n",
        "\n",
        "año = int(Fe[0:2])\n",
        "mes = int(Fe[2:4])\n",
        "dia = int(Fe[4:6])\n",
        "#print(año)\n",
        "#print(mes)\n",
        "#print(dia)\n",
        "\n",
        "if  25 < año <= 99:\n",
        "  año = año + 1900\n",
        "else:\n",
        "  año = 2000\n",
        "#print(año)\n",
        "#print(date(año,mes,dia))\n",
        "def edad(año,mes,dia):\n",
        "  hoy = fecha(mes)\n",
        "  fecha_nacimiento = date(año,mes,dia)\n",
        "  edad = hoy.year - fecha_nacimiento.year\n",
        "  return edad\n",
        "\n",
        "print(edad(año,mes,dia))"
      ],
      "metadata": {
        "colab": {
          "base_uri": "https://localhost:8080/"
        },
        "id": "FvFstJDI0Dj7",
        "outputId": "a121f3b1-44a3-4033-ad46-d2ec85d0e377"
      },
      "execution_count": 22,
      "outputs": [
        {
          "output_type": "stream",
          "name": "stdout",
          "text": [
            "39\n"
          ]
        }
      ]
    },
    {
      "cell_type": "code",
      "source": [
        "#NIVEL SOCIOECONOMICO ----- 5"
      ],
      "metadata": {
        "id": "kez7h7ba1xpU"
      },
      "execution_count": null,
      "outputs": []
    },
    {
      "cell_type": "code",
      "source": [
        "#NUMERO DE OPERACIONES ----6)\n",
        "\n",
        "Portador = []\n",
        "for ii in cuenta_cliente:\n",
        "  Dat_fes = [{10:'OCTUBRE'},{11:'NOVIEMBRE'},{12:'DICIEMBRE'}]\n",
        "  contador1 = 0\n",
        "  contador2 = 0\n",
        "\n",
        "  for ij in range(len(lista_datos3)):\n",
        "    for k in range(len(Dat_fes)):\n",
        "      try:\n",
        "        if Dat_fes[k][mes] == lista_datos3[ij]['MES']:\n",
        "          if ii == lista_datos3[ij]['CUENTA']:\n",
        "            if lista_datos3[ij]['TIPO OPERACIÓN'] == 1:\n",
        "              contador1 += 1\n",
        "            else:\n",
        "              contador2 += 1\n",
        "      except KeyError:\n",
        "        pass\n",
        "\n",
        "  Portador.append(contador1)\n",
        "  Portador.append(contador2)\n",
        "\n",
        "print(Portador)\n"
      ],
      "metadata": {
        "colab": {
          "base_uri": "https://localhost:8080/"
        },
        "id": "om13EyZt2Jen",
        "outputId": "acf1cf6e-af5a-4143-f0e7-5ead300e934f"
      },
      "execution_count": 23,
      "outputs": [
        {
          "output_type": "stream",
          "name": "stdout",
          "text": [
            "[6, 1, 2, 2]\n"
          ]
        }
      ]
    },
    {
      "cell_type": "code",
      "source": [
        "#SALDO ------ 7\n",
        "\n",
        "def Saldos(mes):\n",
        "  Saldo = []\n",
        "  for ii in cuenta_cliente:\n",
        "    Dat_fes = [{10:'OCTUBRE'},{11:'NOVIEMBRE'},{12:'DICIEMBRE'}]\n",
        "    S1 = 0\n",
        "    for ij in range(len(lista_datos3)):\n",
        "      for k in range(len(Dat_fes)):\n",
        "        try:\n",
        "          if Dat_fes[k][mes] == lista_datos3[ij]['MES']:\n",
        "            if ii == lista_datos3[ij]['CUENTA']:\n",
        "              if lista_datos3[ij]['TIPO OPERACIÓN'] == 1:\n",
        "                S1 -= lista_datos3[ij]['IMPORTE']\n",
        "              else:\n",
        "                S1 += lista_datos3[ij]['IMPORTE']\n",
        "        except KeyError:\n",
        "          pass\n",
        "    Saldo.append(S1)\n",
        "  return Saldo\n",
        "print(Saldos(mes))"
      ],
      "metadata": {
        "colab": {
          "base_uri": "https://localhost:8080/"
        },
        "id": "S-10cOI92QES",
        "outputId": "fca2ace3-1218-4ae7-9f59-2c218ea1d61d"
      },
      "execution_count": 29,
      "outputs": [
        {
          "output_type": "stream",
          "name": "stdout",
          "text": [
            "[7949.5, 13700.0]\n"
          ]
        }
      ]
    },
    {
      "cell_type": "code",
      "source": [
        "#PAGO MINIMO ----- 8)\n",
        "\n",
        "\n",
        "tt = 10\n",
        "r = 0\n",
        "while tt <= mes:\n",
        "  r +=1\n",
        "  tt += 1\n",
        "\n",
        "#print(r)\n",
        "\n",
        "inicio_del_mes = 0\n",
        "TATA = Tarjetas_d_o_c(cuenta_cliente)\n",
        "for hh in range(r):\n",
        "  for xx in range(len(TATA)):\n",
        "    if TATA[xx] == 'TDC':\n",
        "      #calculamos el pago mínimo\n",
        "      Super_duplex = Saldos(mes-r+hh+1)\n",
        "      if Super_duplex[xx] <= 0:\n",
        "        pago_minimo = inicio_del_mes*0.4 + Super_duplex[xx]\n",
        "      else:\n",
        "        pago_minimo = 0\n",
        "    else:\n",
        "      debito = 0\n",
        "     #print('Debito: ',debito)\n",
        "    Pago = np.abs(pago_minimo)\n",
        "\n",
        "  inicio_del_mes = pago_minimo\n",
        "\n",
        "\n",
        "print('Debito: ',debito)\n",
        "\n",
        "print('Pago mínimo: ',Pago)\n"
      ],
      "metadata": {
        "colab": {
          "base_uri": "https://localhost:8080/"
        },
        "id": "TsU-kj_x2lbX",
        "outputId": "da54f322-5974-417e-ca6c-0f8a78a0b36b"
      },
      "execution_count": 31,
      "outputs": [
        {
          "output_type": "stream",
          "name": "stdout",
          "text": [
            "Debito:  0\n",
            "Pago mínimo:  0\n"
          ]
        }
      ]
    },
    {
      "cell_type": "code",
      "source": [
        "#CUMPLE------- 9\n",
        "\n",
        "STD = []\n",
        "for pi in range(len(cuenta_cliente)):\n",
        "  STD.append({cuenta_cliente[pi]:TATA[pi]})\n",
        "\n",
        "\n",
        "#print(STD)\n",
        "\n",
        "\n",
        "Dat_fes = [{10:'OCTUBRE'},{11:'NOVIEMBRE'},{12:'DICIEMBRE'}]\n",
        "conta = 0\n",
        "\n",
        "\n",
        "for ii in cuenta_cliente:\n",
        "  for ij in range(len(lista_datos3)):\n",
        "    for k in range(len(Dat_fes)):\n",
        "      try:\n",
        "        if Dat_fes[k][mes] == lista_datos3[ij]['MES']:\n",
        "          if ii == lista_datos3[ij]['CUENTA']:\n",
        "            for kk in range(len(STD)):\n",
        "              if STD[kk][ii] == 'TDC':\n",
        "                if lista_datos3[ij]['TIPO OPERACIÓN'] == 2:\n",
        "                  conta += lista_datos3[ij]['IMPORTE']\n",
        "      except KeyError:\n",
        "        pass\n",
        "#print(conta)\n",
        "\n",
        "if conta > Pago:\n",
        "    print(\"Sí\")\n",
        "else:\n",
        "    print(\"No\")"
      ],
      "metadata": {
        "colab": {
          "base_uri": "https://localhost:8080/"
        },
        "id": "-F5i8Scd29-l",
        "outputId": "88a2a311-a795-495d-f129-9a043d10bd0e"
      },
      "execution_count": 33,
      "outputs": [
        {
          "output_type": "stream",
          "name": "stdout",
          "text": [
            "Sí\n"
          ]
        }
      ]
    }
  ]
}