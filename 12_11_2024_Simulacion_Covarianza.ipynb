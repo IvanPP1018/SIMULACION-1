{
  "nbformat": 4,
  "nbformat_minor": 0,
  "metadata": {
    "colab": {
      "provenance": [],
      "authorship_tag": "ABX9TyPMRY1wbuSAMiE3ESX7HV4z",
      "include_colab_link": true
    },
    "kernelspec": {
      "name": "python3",
      "display_name": "Python 3"
    },
    "language_info": {
      "name": "python"
    }
  },
  "cells": [
    {
      "cell_type": "markdown",
      "metadata": {
        "id": "view-in-github",
        "colab_type": "text"
      },
      "source": [
        "<a href=\"https://colab.research.google.com/github/IvanPP1018/SIMULACION-1/blob/main/12_11_2024_Simulacion_Covarianza.ipynb\" target=\"_parent\"><img src=\"https://colab.research.google.com/assets/colab-badge.svg\" alt=\"Open In Colab\"/></a>"
      ]
    },
    {
      "cell_type": "code",
      "execution_count": 1,
      "metadata": {
        "colab": {
          "base_uri": "https://localhost:8080/"
        },
        "id": "hKjll0IAoRlq",
        "outputId": "56eeaf0e-1dba-41c5-fe5a-2722f0608492"
      },
      "outputs": [
        {
          "output_type": "stream",
          "name": "stdout",
          "text": [
            "96.85822766729717\n"
          ]
        }
      ],
      "source": [
        "from random import random\n",
        "from scipy.stats import pearsonr\n",
        "lx=[]\n",
        "ly=[]\n",
        "nr=1000000\n",
        "for i in range(nr):\n",
        "  u=random()\n",
        "  x=1/(1+u)\n",
        "  y=u\n",
        "  lx.append(x)\n",
        "  ly.append(y)\n",
        "r=pearsonr(lx,ly)[0]\n",
        "print(100*r**2)"
      ]
    },
    {
      "cell_type": "code",
      "source": [
        "from random import random\n",
        "from scipy.stats import pearsonr\n",
        "def f(x):\n",
        "  return x\n",
        "lx=[]\n",
        "ly=[]\n",
        "nr=1000000\n",
        "for i in range(nr):\n",
        "  u=random()\n",
        "  x=1/(1+u)\n",
        "  y=f(u)\n",
        "  lx.append(x)\n",
        "  ly.append(y)\n",
        "r=pearsonr(lx,ly)[0]\n",
        "print(100*r**2)"
      ],
      "metadata": {
        "colab": {
          "base_uri": "https://localhost:8080/"
        },
        "id": "Jo2zinRkr3fD",
        "outputId": "17239144-7026-429e-f82a-b3e8af67b043"
      },
      "execution_count": 6,
      "outputs": [
        {
          "output_type": "stream",
          "name": "stdout",
          "text": [
            "96.8586591299631\n"
          ]
        }
      ]
    },
    {
      "cell_type": "code",
      "source": [
        "from random import random\n",
        "from scipy.stats import pearsonr\n",
        "def f(x):\n",
        "  return 1/x\n",
        "lx=[]\n",
        "ly=[]\n",
        "nr=1000000\n",
        "for i in range(nr):\n",
        "  u=random()\n",
        "  x=1/(1+u)\n",
        "  y=f(u)\n",
        "  lx.append(x)\n",
        "  ly.append(y)\n",
        "r=pearsonr(lx,ly)[0]\n",
        "print(100*r**2)"
      ],
      "metadata": {
        "colab": {
          "base_uri": "https://localhost:8080/"
        },
        "id": "1_b2DclPsCJH",
        "outputId": "081875b5-59b2-400f-ac80-fa9733027492"
      },
      "execution_count": 4,
      "outputs": [
        {
          "output_type": "stream",
          "name": "stdout",
          "text": [
            "0.006281666420422919\n"
          ]
        }
      ]
    },
    {
      "cell_type": "code",
      "source": [
        "from random import random\n",
        "from scipy.stats import pearsonr\n",
        "def f(x):\n",
        "  return x**2\n",
        "lx=[]\n",
        "ly=[]\n",
        "nr=1000000\n",
        "for i in range(nr):\n",
        "  u=random()\n",
        "  x=1/(1+u)\n",
        "  y=f(u)\n",
        "  lx.append(x)\n",
        "  ly.append(y)\n",
        "r=pearsonr(lx,ly)[0]\n",
        "print(100*r**2)"
      ],
      "metadata": {
        "colab": {
          "base_uri": "https://localhost:8080/"
        },
        "id": "0ASMe_awsIBI",
        "outputId": "021e67c7-673a-4704-9ea9-5bf53704b4d0"
      },
      "execution_count": 7,
      "outputs": [
        {
          "output_type": "stream",
          "name": "stdout",
          "text": [
            "82.68520525614827\n"
          ]
        }
      ]
    },
    {
      "cell_type": "code",
      "source": [
        "from random import random\n",
        "from scipy.stats import pearsonr\n",
        "from math import sqrt\n",
        "def f(x):\n",
        "  return sqrt(x)\n",
        "lx=[]\n",
        "ly=[]\n",
        "nr=1000000\n",
        "for i in range(nr):\n",
        "  u=random()\n",
        "  x=1/(1+u)\n",
        "  y=f(u)\n",
        "  lx.append(x)\n",
        "  ly.append(y)\n",
        "r=pearsonr(lx,ly)[0]\n",
        "print(100*r**2)"
      ],
      "metadata": {
        "colab": {
          "base_uri": "https://localhost:8080/"
        },
        "id": "K3suP3ACsKZg",
        "outputId": "2a9d8e0f-5006-4d18-f5e4-3c01398266ac"
      },
      "execution_count": 8,
      "outputs": [
        {
          "output_type": "stream",
          "name": "stdout",
          "text": [
            "99.64184575186275\n"
          ]
        }
      ]
    },
    {
      "cell_type": "code",
      "source": [
        "from random import random\n",
        "from scipy.stats import pearsonr\n",
        "from math import sqrt,log\n",
        "from numpy import cov\n",
        "def f(x):\n",
        "  return sqrt(x)\n",
        "lx=[]\n",
        "ly=[]\n",
        "nr=1000000\n",
        "for i in range(nr):\n",
        "  u=random()\n",
        "  x=1/(1+u)\n",
        "  y=f(u)\n",
        "  lx.append(x)\n",
        "  ly.append(y)\n",
        "r=pearsonr(lx,ly)[0]\n",
        "print(100*r**2)\n",
        "co=cov(lx,ly)\n",
        "print(co)"
      ],
      "metadata": {
        "colab": {
          "base_uri": "https://localhost:8080/"
        },
        "id": "VOTh9G89sVlM",
        "outputId": "fbdb6680-5fab-43dd-9e00-17b7132b3e15"
      },
      "execution_count": 9,
      "outputs": [
        {
          "output_type": "stream",
          "name": "stdout",
          "text": [
            "99.64093342892046\n",
            "[[ 0.01957887 -0.03294641]\n",
            " [-0.03294641  0.05564048]]\n"
          ]
        }
      ]
    },
    {
      "cell_type": "code",
      "source": [
        "from random import random\n",
        "from scipy.stats import pearsonr\n",
        "from math import sqrt,log\n",
        "from numpy import cov\n",
        "from statistics import mean,variance\n",
        "def f(x):\n",
        "  return sqrt(x)\n",
        "lx=[]\n",
        "ly=[]\n",
        "nr=1000000\n",
        "for i in range(nr):\n",
        "  u=random()\n",
        "  x=1/(1+u)\n",
        "  y=f(u)\n",
        "  lx.append(x)\n",
        "  ly.append(y)\n",
        "r=pearsonr(lx,ly)[0]\n",
        "print(100*r**2)\n",
        "co=cov(lx,ly)\n",
        "co1=co[0,1]\n",
        "print(co,co1)\n",
        "alpha=-co1/co[1,1]\n",
        "print(alpha)\n",
        "lz=[]\n",
        "for i in range(nr):\n",
        "  lz.append(lx[i]+alpha*(ly[i]-2/3))\n",
        "mx=mean(lz)\n",
        "mz=mean(lz)\n",
        "vx=variance(lx)\n",
        "vz=variance(lz)\n",
        "print(mx,mz,log(2))\n",
        "print(vx,vz,100*(vx-vz)/vx)\n"
      ],
      "metadata": {
        "colab": {
          "base_uri": "https://localhost:8080/"
        },
        "id": "dHRdVA9ttIoy",
        "outputId": "30191f07-fece-4a6d-e20f-146c75566d7f"
      },
      "execution_count": 18,
      "outputs": [
        {
          "output_type": "stream",
          "name": "stdout",
          "text": [
            "99.64086704515988\n",
            "[[ 0.01956677 -0.03292956]\n",
            " [-0.03292956  0.05561798]] -0.03292956021320164\n",
            "0.5920668476088425\n",
            "0.6931426226020848 0.6931426226020848 0.6931471805599453\n",
            "0.019566771633710782 7.027072513498686e-05 99.64086704515975\n"
          ]
        }
      ]
    }
  ]
}