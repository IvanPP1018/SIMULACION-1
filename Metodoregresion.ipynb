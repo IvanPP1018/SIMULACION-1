{
  "nbformat": 4,
  "nbformat_minor": 0,
  "metadata": {
    "colab": {
      "provenance": [],
      "authorship_tag": "ABX9TyMooHnibG1PBIl0/gIJ+7ab",
      "include_colab_link": true
    },
    "kernelspec": {
      "name": "python3",
      "display_name": "Python 3"
    },
    "language_info": {
      "name": "python"
    }
  },
  "cells": [
    {
      "cell_type": "markdown",
      "metadata": {
        "id": "view-in-github",
        "colab_type": "text"
      },
      "source": [
        "<a href=\"https://colab.research.google.com/github/IvanPP1018/SIMULACION-1/blob/main/Metodoregresion.ipynb\" target=\"_parent\"><img src=\"https://colab.research.google.com/assets/colab-badge.svg\" alt=\"Open In Colab\"/></a>"
      ]
    },
    {
      "cell_type": "code",
      "execution_count": 14,
      "metadata": {
        "colab": {
          "base_uri": "https://localhost:8080/",
          "height": 211
        },
        "id": "W6mtPrhWLhX8",
        "outputId": "b5350d2a-0fa3-4d7b-ac94-dd15707ca2a2"
      },
      "outputs": [
        {
          "output_type": "error",
          "ename": "NameError",
          "evalue": "name 'a' is not defined",
          "traceback": [
            "\u001b[0;31m---------------------------------------------------------------------------\u001b[0m",
            "\u001b[0;31mNameError\u001b[0m                                 Traceback (most recent call last)",
            "\u001b[0;32m<ipython-input-14-37bcb231d6b6>\u001b[0m in \u001b[0;36m<cell line: 12>\u001b[0;34m()\u001b[0m\n\u001b[1;32m     10\u001b[0m \u001b[0mnumeros_gen\u001b[0m\u001b[0;34m=\u001b[0m\u001b[0;34m[\u001b[0m\u001b[0;34m]\u001b[0m\u001b[0;34m\u001b[0m\u001b[0;34m\u001b[0m\u001b[0m\n\u001b[1;32m     11\u001b[0m \u001b[0;31m#Primer numero generado\u001b[0m\u001b[0;34m\u001b[0m\u001b[0;34m\u001b[0m\u001b[0m\n\u001b[0;32m---> 12\u001b[0;31m \u001b[0mxn\u001b[0m\u001b[0;34m=\u001b[0m\u001b[0;34m(\u001b[0m\u001b[0ma\u001b[0m\u001b[0;34m*\u001b[0m\u001b[0mb\u001b[0m\u001b[0;34m)\u001b[0m\u001b[0;34m%\u001b[0m\u001b[0mm\u001b[0m\u001b[0;34m\u001b[0m\u001b[0;34m\u001b[0m\u001b[0m\n\u001b[0m\u001b[1;32m     13\u001b[0m \u001b[0mnumeros_gen\u001b[0m\u001b[0;34m.\u001b[0m\u001b[0mappend\u001b[0m\u001b[0;34m(\u001b[0m\u001b[0mxn\u001b[0m\u001b[0;34m)\u001b[0m\u001b[0;34m\u001b[0m\u001b[0;34m\u001b[0m\u001b[0m\n\u001b[1;32m     14\u001b[0m \u001b[0;31m#Generar más numeros\u001b[0m\u001b[0;34m\u001b[0m\u001b[0;34m\u001b[0m\u001b[0m\n",
            "\u001b[0;31mNameError\u001b[0m: name 'a' is not defined"
          ]
        }
      ],
      "source": [
        "def mcongruencia(a,b,m,n):\n",
        "  a(int)=coeficiente multiplicativo\n",
        "  b(int)=coeficiente aditivo\n",
        "  m(i)=modulo\n",
        "  n(i)=numero de repeticiones\n",
        "  return\n",
        "  list: lista de numeros\n",
        "\n",
        "#Lista para almacenar los numeros generados\n",
        "numeros_gen=[]\n",
        "#Primer numero generado\n",
        "xn=(a*b)%m\n",
        "numeros_gen.append(xn)\n",
        "#Generar más numeros\n",
        "for i in range (1,n):\n",
        "  #siguiente numero generado\n",
        "  xn=(a*xn+b)%m\n",
        "  numeros_gen.append(xn)\n",
        "return numeros_gen\n",
        "\n",
        "\n",
        " #Generar numeros usando el metodo\n",
        "numeros_gen=mcongruencia(a,b,m,n)\n",
        " #Impresión\n",
        "print(\"Numeros generados:\")\n",
        "print(numeros_gen)\n",
        "\n",
        "\n",
        "\n",
        "\n",
        "\n",
        "\n",
        "\n"
      ]
    },
    {
      "cell_type": "code",
      "source": [
        "def mcongruencia(a,b,m,n):\n",
        "  a=a1\n",
        "  b(int)=b1\n",
        "  m(i)=m1\n",
        "  n(i)=n1\n",
        "  return\n",
        "  list: lista de numeros\n"
      ],
      "metadata": {
        "id": "ktHFKb2yZGEB",
        "outputId": "c2d0a9d7-010c-431f-acd0-b691bcee6e3c",
        "colab": {
          "base_uri": "https://localhost:8080/",
          "height": 106
        }
      },
      "execution_count": 42,
      "outputs": [
        {
          "output_type": "error",
          "ename": "SyntaxError",
          "evalue": "cannot assign to function call here. Maybe you meant '==' instead of '='? (<ipython-input-42-dacb340297b0>, line 3)",
          "traceback": [
            "\u001b[0;36m  File \u001b[0;32m\"<ipython-input-42-dacb340297b0>\"\u001b[0;36m, line \u001b[0;32m3\u001b[0m\n\u001b[0;31m    b(int)=b1\u001b[0m\n\u001b[0m    ^\u001b[0m\n\u001b[0;31mSyntaxError\u001b[0m\u001b[0;31m:\u001b[0m cannot assign to function call here. Maybe you meant '==' instead of '='?\n"
          ]
        }
      ]
    },
    {
      "cell_type": "code",
      "source": [
        "def mcongruencia(a,b,m,n):\n",
        "  a=5\n",
        "  b=5\n",
        "  m=16\n",
        "  n=100\n",
        "  return\n",
        "  list"
      ],
      "metadata": {
        "id": "9rl1Lhy-U44y"
      },
      "execution_count": 15,
      "outputs": []
    },
    {
      "cell_type": "code",
      "source": [
        "#Lista para almacenar los numeros generados\n",
        "numeros_gen=[]\n",
        "#Primer numero generado\n",
        "a=5\n",
        "b=5\n",
        "m=16\n",
        "n=10\n",
        "xn=(a*b)%m\n",
        "numeros_gen.append(xn)\n",
        "#Generar más numeros\n",
        "    for i in range (1,n):\n",
        "  #siguiente numero generado\n",
        "      xn=(a*xn+b)%m\n",
        "      numeros_gen.append(xn)\n",
        "    return numeros_gen\n"
      ],
      "metadata": {
        "id": "GgY0rkgLU-VJ",
        "outputId": "a10dcaa9-a6c8-4c47-dd62-8ae90ccab9fe",
        "colab": {
          "base_uri": "https://localhost:8080/",
          "height": 106
        }
      },
      "execution_count": 39,
      "outputs": [
        {
          "output_type": "error",
          "ename": "IndentationError",
          "evalue": "unexpected indent (<ipython-input-39-495dccdba04d>, line 11)",
          "traceback": [
            "\u001b[0;36m  File \u001b[0;32m\"<ipython-input-39-495dccdba04d>\"\u001b[0;36m, line \u001b[0;32m11\u001b[0m\n\u001b[0;31m    for i in range (1,n):\u001b[0m\n\u001b[0m    ^\u001b[0m\n\u001b[0;31mIndentationError\u001b[0m\u001b[0;31m:\u001b[0m unexpected indent\n"
          ]
        }
      ]
    }
  ]
}