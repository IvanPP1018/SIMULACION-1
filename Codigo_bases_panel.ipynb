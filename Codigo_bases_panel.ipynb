{
  "nbformat": 4,
  "nbformat_minor": 0,
  "metadata": {
    "colab": {
      "provenance": [],
      "authorship_tag": "ABX9TyOzhCTUG82WzRe57p2cBD37",
      "include_colab_link": true
    },
    "kernelspec": {
      "name": "python3",
      "display_name": "Python 3"
    },
    "language_info": {
      "name": "python"
    }
  },
  "cells": [
    {
      "cell_type": "markdown",
      "metadata": {
        "id": "view-in-github",
        "colab_type": "text"
      },
      "source": [
        "<a href=\"https://colab.research.google.com/github/IvanPP1018/SIMULACION-1/blob/main/Codigo_bases_panel.ipynb\" target=\"_parent\"><img src=\"https://colab.research.google.com/assets/colab-badge.svg\" alt=\"Open In Colab\"/></a>"
      ]
    },
    {
      "cell_type": "code",
      "execution_count": null,
      "metadata": {
        "id": "6NXHVcgfyVm5"
      },
      "outputs": [],
      "source": [
        "import pandas as pd\n",
        "import statsmodels.api as sm\n",
        "from scipy import stats\n",
        "\n",
        "# Cargar la base de datos en formato panel desde Excel\n",
        "# Cambia 'base_panel.xlsx' por el nombre de tu archivo\n",
        "ruta_archivo = 'base_panel.xlsx'\n",
        "df = pd.read_excel(ruta_archivo)\n",
        "\n",
        "# Mostrar primeras filas para verificar\n",
        "print(df.head())\n",
        "\n",
        "# Definir las variables independientes y dependiente\n",
        "X = df[['IMOR', 'Cobertura cartera vencida', 'ROA', 'ROE']]\n",
        "y = df['Ratio de liquidez']\n",
        "\n",
        "# Agregar constante a las variables independientes para el intercepto en la regresión\n",
        "X = sm.add_constant(X)\n",
        "\n",
        "# Crear y ajustar el modelo de regresión lineal múltiple\n",
        "modelo = sm.OLS(y, X).fit()\n",
        "\n",
        "# Mostrar resumen de la regresión\n",
        "print(modelo.summary())\n",
        "\n",
        "# Calcular intervalos de confianza al 95% para los coeficientes\n",
        "intervalos_confianza = modelo.conf_int(alpha=0.05)\n",
        "print(\"\\nIntervalos de confianza al 95% para los coeficientes:\")\n",
        "print(intervalos_confianza)\n",
        "\n",
        "# Análisis de probabilidad de normalidad para cada variable con test de Shapiro-Wilk\n",
        "variables = ['Ratio de liquidez', 'IMOR', 'Cobertura cartera vencida', 'ROA', 'ROE']\n",
        "\n",
        "print(\"\\nAnálisis de normalidad (Shapiro-Wilk) para cada variable:\")\n",
        "for var in variables:\n",
        "    estadistico, p_value = stats.shapiro(df[var])\n",
        "    print(f\"{var}: Estadístico = {estadistico:.4f}, p-valor = {p_value:.4f}\")\n",
        "    if p_value > 0.05:\n",
        "        print(f\"   → La variable {var} parece seguir una distribución normal (95% confianza)\\n\")\n",
        "    else:\n",
        "        print(f\"   → La variable {var} NO parece seguir una distribución normal (95% confianza)\\n\")\n"
      ]
    }
  ]
}