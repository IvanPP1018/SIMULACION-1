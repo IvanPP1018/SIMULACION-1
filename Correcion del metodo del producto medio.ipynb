{
  "nbformat": 4,
  "nbformat_minor": 0,
  "metadata": {
    "colab": {
      "provenance": [],
      "authorship_tag": "ABX9TyPcoduPB9u21JTODIAID+Yc",
      "include_colab_link": true
    },
    "kernelspec": {
      "name": "python3",
      "display_name": "Python 3"
    },
    "language_info": {
      "name": "python"
    }
  },
  "cells": [
    {
      "cell_type": "markdown",
      "metadata": {
        "id": "view-in-github",
        "colab_type": "text"
      },
      "source": [
        "<a href=\"https://colab.research.google.com/github/IvanPP1018/SIMULACION-1/blob/main/Correcion%20del%20metodo%20del%20producto%20medio.ipynb\" target=\"_parent\"><img src=\"https://colab.research.google.com/assets/colab-badge.svg\" alt=\"Open In Colab\"/></a>"
      ]
    },
    {
      "cell_type": "code",
      "execution_count": 1,
      "metadata": {
        "colab": {
          "base_uri": "https://localhost:8080/"
        },
        "id": "dF0eOHkMllSE",
        "outputId": "d85164b0-b28f-4d49-8cdc-cea27dc780f6"
      },
      "outputs": [
        {
          "output_type": "stream",
          "name": "stdout",
          "text": [
            "Ingrese la primera semilla: 123\n",
            "Ingrese la segunda semilla: 256\n",
            "Ingrese el número de iteraciones: 10\n",
            "Números generados por el método del producto medio:\n",
            "[148, 788, 166, 308, 112, 449, 28, 257, 719, 847]\n"
          ]
        }
      ],
      "source": [
        "def producto_medio(semilla1, semilla2, n):\n",
        "    numeros_generados = []  # Inicializa una lista vacía para almacenar los números generados\n",
        "\n",
        "    for _ in range(n):  # Itera n veces\n",
        "        # Multiplicar las semillas\n",
        "        producto = semilla1 * semilla2  # Multiplica las dos semillas\n",
        "\n",
        "        # Tomar los dígitos del medio del producto\n",
        "        producto_str = str(producto)  # Convierte el producto a una cadena de caracteres\n",
        "        longitud_producto = len(producto_str)  # Obtiene la longitud de la cadena\n",
        "        # Define la cantidad de dígitos a tomar dependiendo de si la longitud del producto es par o impar\n",
        "        cifras = 3 if longitud_producto % 2 == 0 or longitud_producto % 2 != 0 else 2\n",
        "        # Calcula los índices de inicio y fin para tomar los dígitos del medio\n",
        "        d_inicio = (longitud_producto - cifras) // 2\n",
        "        d_fin = d_inicio + cifras\n",
        "        numeros_medios = int(producto_str[d_inicio:d_fin])  # Convierte los dígitos del medio a un entero\n",
        "\n",
        "        # Actualizar las semillas para la siguiente iteración\n",
        "        semilla1 = semilla2  # La semilla 1 se actualiza con el valor de la semilla 2\n",
        "        semilla2 = numeros_medios  # La semilla 2 se actualiza con los dígitos del medio del producto\n",
        "\n",
        "        numeros_generados.append(numeros_medios)  # Agrega los dígitos del medio a la lista de números generados\n",
        "\n",
        "    return numeros_generados  # Devuelve la lista de números generados\n",
        "\n",
        "# Solicitar al usuario que ingrese las semillas y el número de iteraciones\n",
        "semilla1 = int(input(\"Ingrese la primera semilla: \"))  # Solicita al usuario que ingrese la primera semilla\n",
        "semilla2 = int(input(\"Ingrese la segunda semilla: \"))  # Solicita al usuario que ingrese la segunda semilla\n",
        "n = int(input(\"Ingrese el número de iteraciones: \"))  # Solicita al usuario que ingrese el número de iteraciones\n",
        "\n",
        "# Generar números usando el método del producto medio\n",
        "numeros_generados = producto_medio(semilla1, semilla2, n)  # Llama a la función producto_medio con las semillas y el número de iteraciones\n",
        "\n",
        "# Mostrar los números generados\n",
        "print(\"Números generados por el método del producto medio:\")\n",
        "print(numeros_generados)  # Imprime la lista de números generados\n"
      ]
    }
  ]
}