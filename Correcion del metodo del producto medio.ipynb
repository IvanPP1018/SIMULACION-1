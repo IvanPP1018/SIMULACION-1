{
  "nbformat": 4,
  "nbformat_minor": 0,
  "metadata": {
    "colab": {
      "provenance": [],
      "authorship_tag": "ABX9TyNNffoCAkrdfMmvTL32eTQt",
      "include_colab_link": true
    },
    "kernelspec": {
      "name": "python3",
      "display_name": "Python 3"
    },
    "language_info": {
      "name": "python"
    }
  },
  "cells": [
    {
      "cell_type": "markdown",
      "metadata": {
        "id": "view-in-github",
        "colab_type": "text"
      },
      "source": [
        "<a href=\"https://colab.research.google.com/github/IvanPP1018/SIMULACION-1/blob/main/Correcion%20del%20metodo%20del%20producto%20medio.ipynb\" target=\"_parent\"><img src=\"https://colab.research.google.com/assets/colab-badge.svg\" alt=\"Open In Colab\"/></a>"
      ]
    },
    {
      "cell_type": "code",
      "execution_count": 16,
      "metadata": {
        "colab": {
          "base_uri": "https://localhost:8080/"
        },
        "id": "dF0eOHkMllSE",
        "outputId": "1067492d-a490-45dd-fd55-4eb031d4c3bd"
      },
      "outputs": [
        {
          "output_type": "stream",
          "name": "stdout",
          "text": [
            "Ingrese la primera semilla: 123\n",
            "Ingrese la segunda semilla: 456\n",
            "Ingrese el número de iteraciones: 4\n",
            "Números generados por el método del producto medio:\n",
            "[608, 772, 693, 349]\n"
          ]
        }
      ],
      "source": [
        "def producto_medio(semilla1, semilla2, n):\n",
        "    numeros_generados = []\n",
        "\n",
        "    for _ in range(n):\n",
        "        # Multiplicar las semillas\n",
        "        producto = semilla1 * semilla2\n",
        "\n",
        "        # Tomar los dígitos del medio del producto\n",
        "        producto_str = str(producto)\n",
        "        longitud_producto = len(producto_str)\n",
        "        cifras = 3 if longitud_producto % 2 == 0 or longitud_producto % 2 != 0 else 2\n",
        "# 3 cifras si longitud es par, 2 cifras si es impar\n",
        "        d_inicio = (longitud_producto - cifras) // 2\n",
        "        d_fin = d_inicio + cifras\n",
        "        numeros_medios = int(producto_str[d_inicio:d_fin])\n",
        "\n",
        "        # Actualizar las semillas para la siguiente iteración\n",
        "        semilla1 = semilla2\n",
        "        semilla2 = numeros_medios\n",
        "\n",
        "        numeros_generados.append(numeros_medios)\n",
        "\n",
        "    return numeros_generados\n",
        "\n",
        "# Solicitar al usuario que ingrese las semillas y el número de iteraciones\n",
        "semilla1 = int(input(\"Ingrese la primera semilla: \"))\n",
        "semilla2 = int(input(\"Ingrese la segunda semilla: \"))\n",
        "n = int(input(\"Ingrese el número de iteraciones: \"))\n",
        "\n",
        "# Generar números usando el método del producto medio\n",
        "numeros_generados = producto_medio(semilla1, semilla2, n)\n",
        "\n",
        "# Mostrar los números generados\n",
        "print(\"Números generados por el método del producto medio:\")\n",
        "print(numeros_generados)\n",
        "\n"
      ]
    }
  ]
}