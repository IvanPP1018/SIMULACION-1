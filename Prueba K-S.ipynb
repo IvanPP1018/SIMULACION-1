{
  "nbformat": 4,
  "nbformat_minor": 0,
  "metadata": {
    "colab": {
      "provenance": [],
      "authorship_tag": "ABX9TyOSvuz8pWfbMivzU8G7Tajv",
      "include_colab_link": true
    },
    "kernelspec": {
      "name": "python3",
      "display_name": "Python 3"
    },
    "language_info": {
      "name": "python"
    }
  },
  "cells": [
    {
      "cell_type": "markdown",
      "metadata": {
        "id": "view-in-github",
        "colab_type": "text"
      },
      "source": [
        "<a href=\"https://colab.research.google.com/github/IvanPP1018/SIMULACION-1/blob/main/Prueba%20K-S.ipynb\" target=\"_parent\"><img src=\"https://colab.research.google.com/assets/colab-badge.svg\" alt=\"Open In Colab\"/></a>"
      ]
    },
    {
      "cell_type": "code",
      "source": [
        "import math  # Importación del módulo math para operaciones matemáticas\n",
        "\n",
        "alp = 0.05  # Nivel de significancia para la prueba de Kolmogorov-Smirnov\n",
        "valores = [0.8797, 0.3884, 0.6289, 0.8750, 0.5999, 0.8589, 0.9996, 0.2415, 0.3808, 0.9606,  # Lista de valores observados\n",
        "           0.9848, 0.3469, 0.7977, 0.5844, 0.8147, 0.6431, 0.7387, 0.5613, 0.0318, 0.7401,\n",
        "           0.4557, 0.1592, 0.8536, 0.8846, 0.3410, 0.1492, 0.8681, 0.5291, 0.3188, 0.5992,\n",
        "           0.9170, 0.2204, 0.5991, 0.5461, 0.5739, 0.3254, 0.0856, 0.2258, 0.4603, 0.5027,\n",
        "           0.8376, 0.6235, 0.3681, 0.2088, 0.1525, 0.2006, 0.4720, 0.4272, 0.6360, 0.0954]\n",
        "\n",
        "def resul(n, D, vc):  # Función para determinar si se rechaza o no la hipótesis nula\n",
        "    d = (0.875897 / math.sqrt(n))  # Cálculo del valor crítico de la prueba K-S\n",
        "\n",
        "    if D < d:  # Si el máximo entre D+ y D- es menor que el valor crítico\n",
        "        print(\"No se rechaza Ho: La prueba sigue una distribución uniforme\")\n",
        "        print(\"El valor crítico ({}) es mayor que el máximo entre D+ y D- ({}).\".format(vc, D))\n",
        "    else:  # Si el máximo entre D+ y D- es mayor que el valor crítico\n",
        "        print(\"Se rechaza Ho: La prueba no sigue una distribución uniforme\")\n",
        "        print(\"El valor crítico ({}) es menor que el máximo entre D+ y D- ({}).\".format(vc, D))\n",
        "    return\n",
        "\n",
        "def Dmas(D):  # Función para calcular D+ y D- y obtener el máximo entre ellos\n",
        "    K = []\n",
        "    n = len(D)\n",
        "    j = 1\n",
        "    for i in D:  # Cálculo de D+\n",
        "        K.append(abs(j / n - i))\n",
        "        j = j + 1\n",
        "\n",
        "    MAX1 = max(K)\n",
        "    print(\"D+: \", MAX1)\n",
        "    L = []\n",
        "    a = 1\n",
        "    for k in D:  # Cálculo de D-\n",
        "        L.append(abs(k - (a - 1) / n))\n",
        "        a = a + 1\n",
        "\n",
        "    MAX2 = max(L)\n",
        "    print(\"D-: \", MAX2)\n",
        "    maximo = max(MAX1, MAX2)  # Obtención del máximo entre D+ y D-\n",
        "    print(\"Máximo entre D+ y D-:\", maximo)\n",
        "    M = [MAX1, MAX2]\n",
        "    return M\n",
        "\n",
        "D = sorted(valores)\n",
        "M = Dmas(D)\n",
        "K = max(M)\n",
        "n = len(valores)\n",
        "\n",
        "# Cálculo del valor crítico para la prueba K-S\n",
        "valor_critico = 1.36 / math.sqrt(n)\n",
        "\n",
        "resul(n, K, valor_critico)  # Determinar si se rechaza o no la hipótesis nula con base en el valor crítico y el máximo entre D+ y D-\n",
        "\n",
        "# Mostrar los valores de Xi junto con D+ y D- en una tabla\n",
        "from prettytable import PrettyTable\n",
        "\n",
        "tabla_valores = PrettyTable([\"Xi\", \"D+\", \"D-\"])\n",
        "for i in range(len(valores)):  # Llenar la tabla con los valores observados de Xi, D+ y D-\n",
        "    tabla_valores.add_row([valores[i], abs((i + 1) / len(valores) - valores[i]), abs(i / len(valores) - valores[i])])\n",
        "\n",
        "print(\"\\nTabla de valores Xi con D+ y D-:\")\n",
        "print(tabla_valores)\n",
        "\n",
        "print(\"\\nValor crítico:\", valor_critico)  # Imprimir el valor crítico de la prueba K-S\n"
      ],
      "metadata": {
        "colab": {
          "base_uri": "https://localhost:8080/"
        },
        "id": "Hu5GX654-nJh",
        "outputId": "30567167-7ccc-4b85-caa8-61f2fb4e9882"
      },
      "execution_count": 5,
      "outputs": [
        {
          "output_type": "stream",
          "name": "stdout",
          "text": [
            "D+:  0.07879999999999998\n",
            "D-:  0.09879999999999997\n",
            "Máximo entre D+ y D-: 0.09879999999999997\n",
            "No se rechaza Ho: La prueba sigue una distribución uniforme\n",
            "El valor crítico (0.19233304448274094) es mayor que el máximo entre D+ y D- (0.09879999999999997).\n",
            "\n",
            "Tabla de valores Xi con D+ y D-:\n",
            "+--------+-----------------------+----------------------+\n",
            "|   Xi   |           D+          |          D-          |\n",
            "+--------+-----------------------+----------------------+\n",
            "| 0.8797 |         0.8597        |        0.8797        |\n",
            "| 0.3884 |  0.34840000000000004  |        0.3684        |\n",
            "| 0.6289 |         0.5689        |        0.5889        |\n",
            "| 0.875  |         0.795         |        0.815         |\n",
            "| 0.5999 |         0.4999        |        0.5199        |\n",
            "| 0.8589 |         0.7389        |        0.7589        |\n",
            "| 0.9996 |         0.8596        |        0.8796        |\n",
            "| 0.2415 |  0.08149999999999999  | 0.10149999999999998  |\n",
            "| 0.3808 |  0.20080000000000003  | 0.22080000000000002  |\n",
            "| 0.9606 |   0.7605999999999999  |        0.7806        |\n",
            "| 0.9848 |         0.7648        |  0.7847999999999999  |\n",
            "| 0.3469 |         0.1069        | 0.12689999999999999  |\n",
            "| 0.7977 |         0.5377        |        0.5577        |\n",
            "| 0.5844 |         0.3044        |        0.3244        |\n",
            "| 0.8147 |   0.5146999999999999  |        0.5347        |\n",
            "| 0.6431 |         0.3231        |        0.3431        |\n",
            "| 0.7387 |         0.3987        |        0.4187        |\n",
            "| 0.5613 |  0.20130000000000003  |        0.2213        |\n",
            "| 0.0318 |         0.3482        |        0.3282        |\n",
            "| 0.7401 |  0.34009999999999996  |        0.3601        |\n",
            "| 0.4557 |  0.03570000000000001  | 0.05569999999999997  |\n",
            "| 0.1592 |         0.2808        |        0.2608        |\n",
            "| 0.8536 |         0.3936        |        0.4136        |\n",
            "| 0.8846 |  0.40460000000000007  | 0.42460000000000003  |\n",
            "| 0.341  |  0.15899999999999997  | 0.13899999999999996  |\n",
            "| 0.1492 |         0.3708        |        0.3508        |\n",
            "| 0.8681 |  0.32809999999999995  | 0.34809999999999997  |\n",
            "| 0.5291 |  0.03090000000000004  | 0.01090000000000002  |\n",
            "| 0.3188 |         0.2612        | 0.24120000000000008  |\n",
            "| 0.5992 | 0.0008000000000000229 | 0.019199999999999995 |\n",
            "| 0.917  |  0.29700000000000004  | 0.31700000000000006  |\n",
            "| 0.2204 |         0.4196        | 0.39959999999999996  |\n",
            "| 0.5991 |  0.060900000000000065 | 0.04090000000000005  |\n",
            "| 0.5461 |  0.13390000000000002  |        0.1139        |\n",
            "| 0.5739 |         0.1261        | 0.10610000000000008  |\n",
            "| 0.3254 |  0.39459999999999995  | 0.37459999999999993  |\n",
            "| 0.0856 |         0.6544        |        0.6344        |\n",
            "| 0.2258 |         0.5342        |        0.5142        |\n",
            "| 0.4603 |  0.31970000000000004  |        0.2997        |\n",
            "| 0.5027 |         0.2973        |        0.2773        |\n",
            "| 0.8376 |  0.01760000000000006  | 0.03759999999999997  |\n",
            "| 0.6235 |  0.21649999999999991  |  0.1964999999999999  |\n",
            "| 0.3681 |         0.4919        |        0.4719        |\n",
            "| 0.2088 |         0.6712        |        0.6512        |\n",
            "| 0.1525 |         0.7475        |        0.7275        |\n",
            "| 0.2006 |         0.7194        |        0.6994        |\n",
            "| 0.472  |  0.46799999999999997  | 0.44800000000000006  |\n",
            "| 0.4272 |   0.5327999999999999  |  0.5127999999999999  |\n",
            "| 0.636  |         0.344         | 0.32399999999999995  |\n",
            "| 0.0954 |         0.9046        |  0.8845999999999999  |\n",
            "+--------+-----------------------+----------------------+\n",
            "\n",
            "Valor crítico: 0.19233304448274094\n"
          ]
        }
      ]
    },
    {
      "cell_type": "markdown",
      "source": [
        "Este código realiza la prueba de bondad de ajuste de Kolmogorov-Smirnov para verificar si una muestra de datos sigue una distribución uniforme. Para ello, calcula los estadísticos D+ y D- a partir de los datos observados y luego determina el máximo entre estos dos valores. Este máximo se compara con un valor crítico calculado a partir del nivel de significancia especificado.\n",
        "\n",
        "Si el máximo entre D+ y D- es menor que el valor crítico, se concluye que no hay evidencia suficiente para rechazar la hipótesis nula, lo que implica que los datos podrían seguir una distribución uniforme. Por otro lado, si el máximo supera el valor crítico, se rechaza la hipótesis nula, lo que sugiere que los datos no siguen una distribución uniforme."
      ],
      "metadata": {
        "id": "okPLfbtL-xQb"
      }
    }
  ]
}