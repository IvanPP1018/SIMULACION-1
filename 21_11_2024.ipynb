{
  "nbformat": 4,
  "nbformat_minor": 0,
  "metadata": {
    "colab": {
      "provenance": [],
      "authorship_tag": "ABX9TyPte+DN77Tut7nw497w6B9h",
      "include_colab_link": true
    },
    "kernelspec": {
      "name": "python3",
      "display_name": "Python 3"
    },
    "language_info": {
      "name": "python"
    }
  },
  "cells": [
    {
      "cell_type": "markdown",
      "metadata": {
        "id": "view-in-github",
        "colab_type": "text"
      },
      "source": [
        "<a href=\"https://colab.research.google.com/github/IvanPP1018/SIMULACION-1/blob/main/21_11_2024.ipynb\" target=\"_parent\"><img src=\"https://colab.research.google.com/assets/colab-badge.svg\" alt=\"Open In Colab\"/></a>"
      ]
    },
    {
      "cell_type": "code",
      "execution_count": 4,
      "metadata": {
        "colab": {
          "base_uri": "https://localhost:8080/"
        },
        "id": "IOrABjQM4hwo",
        "outputId": "f136332b-392c-4590-a4c8-4b3161e43adc"
      },
      "outputs": [
        {
          "output_type": "stream",
          "name": "stdout",
          "text": [
            "0.6034 0.2393108331083311 0.48919406487439226\n"
          ]
        }
      ],
      "source": [
        "from random import expovariate\n",
        "from statistics import mean, variance,stdev\n",
        "def I(x,y):\n",
        "  if x+y>1:\n",
        "    return 1\n",
        "  else:\n",
        "    return 0\n",
        "\n",
        "nr=100000\n",
        "l=[]\n",
        "l1=[]\n",
        "for i in range (nr):\n",
        "  x=expovariate(1)\n",
        "  y=expovariate(2)\n",
        "  l.append(I(x,y))\n",
        "m=mean(l)\n",
        "v=variance(l)\n",
        "o=stdev(l)\n",
        "print(m,v,o)"
      ]
    },
    {
      "cell_type": "code",
      "source": [
        "from random import expovariate\n",
        "from math import exp\n",
        "from statistics import mean, variance,stdev\n",
        "def I(x,y):\n",
        "  if x+y>1:\n",
        "    return 1\n",
        "  else:\n",
        "    return 0\n",
        "\n",
        "nr=100000\n",
        "l=[]\n",
        "l1=[]\n",
        "for i in range (nr):\n",
        "  x=expovariate(1)\n",
        "  y=expovariate(2)\n",
        "  if y>1:\n",
        "    EIY=1\n",
        "  else:\n",
        "    EIY=exp(y-1)\n",
        "  l1.append(EIY)\n",
        "  l.append(I(x,y))\n",
        "\n",
        "\n",
        "m=mean(l)\n",
        "v=variance(l)\n",
        "o=stdev(l)\n",
        "print(m,v,o)\n",
        "\n",
        "m1=mean(l1)\n",
        "v1=variance(l1)\n",
        "print(m1,v1)\n",
        "print(100*(v-v1)/v)"
      ],
      "metadata": {
        "colab": {
          "base_uri": "https://localhost:8080/"
        },
        "id": "yrrei4S58PIC",
        "outputId": "ee21bc73-7a25-4de8-8cf8-c45b4db66a5c"
      },
      "execution_count": 9,
      "outputs": [
        {
          "output_type": "stream",
          "name": "stdout",
          "text": [
            "0.60051 0.239900138901389 0.489796017645498\n",
            "0.6002354029847216 0.045408736040179504\n",
            "81.07181752869064\n"
          ]
        }
      ]
    }
  ]
}