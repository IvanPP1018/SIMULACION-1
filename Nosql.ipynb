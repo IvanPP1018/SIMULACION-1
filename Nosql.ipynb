{
  "nbformat": 4,
  "nbformat_minor": 0,
  "metadata": {
    "colab": {
      "provenance": [],
      "authorship_tag": "ABX9TyNjAPbiG71OEsYg+J6kzbFO",
      "include_colab_link": true
    },
    "kernelspec": {
      "name": "python3",
      "display_name": "Python 3"
    },
    "language_info": {
      "name": "python"
    }
  },
  "cells": [
    {
      "cell_type": "markdown",
      "metadata": {
        "id": "view-in-github",
        "colab_type": "text"
      },
      "source": [
        "<a href=\"https://colab.research.google.com/github/IvanPP1018/SIMULACION-1/blob/main/Nosql.ipynb\" target=\"_parent\"><img src=\"https://colab.research.google.com/assets/colab-badge.svg\" alt=\"Open In Colab\"/></a>"
      ]
    },
    {
      "cell_type": "code",
      "execution_count": null,
      "metadata": {
        "colab": {
          "base_uri": "https://localhost:8080/"
        },
        "id": "gIk9bGU32gM4",
        "outputId": "e9ce879a-0367-47e3-d534-435d4c8340ca"
      },
      "outputs": [
        {
          "output_type": "execute_result",
          "data": {
            "text/plain": [
              "<firebase_admin.App at 0x7b182c57d450>"
            ]
          },
          "metadata": {},
          "execution_count": 11
        }
      ],
      "source": [
        "import firebase_admin\n",
        "from firebase_admin import credentials\n",
        "\n",
        "cred = credentials.Certificate(\"key.json.json\")\n",
        "firebase_admin.initialize_app(cred)"
      ]
    },
    {
      "cell_type": "code",
      "source": [
        "# prompt: quiero escribir datos en firestore\n",
        "\n",
        "from firebase_admin import firestore\n",
        "\n",
        "db = firestore.client()\n",
        "\n",
        "doc_ref = db.collection('estudiantes').document('estudiante2')\n",
        "doc_ref.set({\n",
        "    'first': 'Aline',\n",
        "    'last': 'Bautista',\n",
        "    'born': 2212\n",
        "})"
      ],
      "metadata": {
        "colab": {
          "base_uri": "https://localhost:8080/"
        },
        "id": "xOA2Mav84gCR",
        "outputId": "ac6cb9d3-2bb5-4ef5-f97b-a161ef6ed909"
      },
      "execution_count": 14,
      "outputs": [
        {
          "output_type": "execute_result",
          "data": {
            "text/plain": [
              "update_time {\n",
              "  seconds: 1730250106\n",
              "  nanos: 172276000\n",
              "}"
            ]
          },
          "metadata": {},
          "execution_count": 14
        }
      ]
    },
    {
      "cell_type": "code",
      "source": [
        "# prompt: por que se imprime primer born,last,first , por que se imprime en ese orden y no en orden como esta el codigo?\n",
        "\n",
        "doc_ref = db.collection('estudiantes').document('estudiante 1')\n",
        "doc = doc_ref.get()\n",
        "if doc.exists:\n",
        "  data = doc.to_dict()\n",
        "  print(data.get('first'))\n",
        "  print(data.get('last'))\n",
        "  print(data.get('born'))\n",
        "else:\n",
        "  print('No such document!')"
      ],
      "metadata": {
        "id": "CI5ZePwC5MWh"
      },
      "execution_count": null,
      "outputs": []
    },
    {
      "cell_type": "code",
      "source": [
        "#prompt: I want to read data from my firestore database\n",
        "#Example: read all documents from a collection\n",
        "doc=db.collection('your_collection_name').stream()\n",
        "\n",
        "for i in doc:\n",
        "    print(f'{doc.id} => {doc.to_dict()}')\n",
        "\n",
        "#example: read a specific document\n",
        "doc_ref=db.collection('your_collection_name').document('your_document_id')\n",
        "doc=doc_ref.get()\n",
        "if doc.exists:\n",
        "    print(f'Document data: {doc.to_dict()}')\n",
        "else:\n",
        "    print(u'No such document!')"
      ],
      "metadata": {
        "id": "12HkkB9E8DZx"
      },
      "execution_count": null,
      "outputs": []
    }
  ]
}