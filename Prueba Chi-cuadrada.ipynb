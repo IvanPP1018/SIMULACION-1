{
  "nbformat": 4,
  "nbformat_minor": 0,
  "metadata": {
    "colab": {
      "provenance": [],
      "authorship_tag": "ABX9TyM4HauLodk1sxu5nxqVvJCd",
      "include_colab_link": true
    },
    "kernelspec": {
      "name": "python3",
      "display_name": "Python 3"
    },
    "language_info": {
      "name": "python"
    }
  },
  "cells": [
    {
      "cell_type": "markdown",
      "metadata": {
        "id": "view-in-github",
        "colab_type": "text"
      },
      "source": [
        "<a href=\"https://colab.research.google.com/github/IvanPP1018/SIMULACION-1/blob/main/Prueba%20Chi-cuadrada.ipynb\" target=\"_parent\"><img src=\"https://colab.research.google.com/assets/colab-badge.svg\" alt=\"Open In Colab\"/></a>"
      ]
    },
    {
      "cell_type": "code",
      "execution_count": null,
      "metadata": {
        "id": "S1bg3FCSnJ0s"
      },
      "outputs": [],
      "source": [
        "import numpy as np\n",
        "from scipy.stats import chi2\n",
        "\n",
        "def goodness_of_fit(observed, expected, dof):\n",
        "    # Calcula la suma de las diferencias al cuadrado entre los valores observados y esperados\n",
        "    chi_square = np.sum((observed - expected)**2 / expected)\n",
        "\n",
        "    # Calcula el p-valor utilizando la distribución chi-cuadrado\n",
        "    p_value = 1 - chi2.cdf(chi_square, dof)\n",
        "\n",
        "    return chi_square, p_value\n",
        "\n",
        "def main():\n",
        "    # Ingreso del rango de números observados\n",
        "    start = int(input(\"Ingrese el primer número del rango: \"))\n",
        "    end = int(input(\"Ingrese el último número del rango: \"))\n",
        "    observed = np.random.randint(start, end+1, size=100)  # Genera 100 números aleatorios dentro del rango dado\n",
        "\n",
        "    # Distribución teórica esperada\n",
        "    expected = np.full_like(observed, 100/(end-start+1))  # Distribución uniforme\n",
        "\n",
        "    # Grados de libertad (número de categorías - 1)\n",
        "    dof = len(observed) - 1\n",
        "\n",
        "    # Realiza la prueba de bondad de ajuste\n",
        "    chi_square, p_value = goodness_of_fit(observed, expected, dof)\n",
        "\n",
        "    print(\"\\nResultados de la Prueba de Bondad de Ajuste:\")\n",
        "    print(\"Estadístico de Chi-cuadrado:\", chi_square)\n",
        "    print(\"p-valor:\", p_value)\n",
        "\n",
        "    # Comprueba si se rechaza la hipótesis nula\n",
        "    alpha = 0.10\n",
        "    if p_value < alpha:\n",
        "        print(\"Se rechaza la hipótesis nula: la distribución observada difiere significativamente de la distribución esperada.\")\n",
        "    else:\n",
        "        print(\"No se rechaza la hipótesis nula: no hay suficiente evidencia para afirmar que la distribución observada difiere significativamente de la distribución esperada.\")\n",
        "\n",
        "if __name__ == \"__main__\":\n",
        "    main()\n",
        "\n"
      ]
    }
  ]
}