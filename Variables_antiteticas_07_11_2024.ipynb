{
  "nbformat": 4,
  "nbformat_minor": 0,
  "metadata": {
    "colab": {
      "provenance": [],
      "authorship_tag": "ABX9TyOKsQRgimiOzW5ZAL9JlY69",
      "include_colab_link": true
    },
    "kernelspec": {
      "name": "python3",
      "display_name": "Python 3"
    },
    "language_info": {
      "name": "python"
    }
  },
  "cells": [
    {
      "cell_type": "markdown",
      "metadata": {
        "id": "view-in-github",
        "colab_type": "text"
      },
      "source": [
        "<a href=\"https://colab.research.google.com/github/IvanPP1018/SIMULACION-1/blob/main/Variables_antiteticas_07_11_2024.ipynb\" target=\"_parent\"><img src=\"https://colab.research.google.com/assets/colab-badge.svg\" alt=\"Open In Colab\"/></a>"
      ]
    },
    {
      "cell_type": "code",
      "execution_count": 1,
      "metadata": {
        "colab": {
          "base_uri": "https://localhost:8080/"
        },
        "id": "eYpRUT727Z18",
        "outputId": "e247a377-09ef-4bee-8407-6daab9d124ff"
      },
      "outputs": [
        {
          "output_type": "stream",
          "name": "stdout",
          "text": [
            "0.6930734407137531 0.019558370826567244\n",
            "0.6931595949037629 0.0005964327198415458\n",
            "96.95049896982536\n"
          ]
        }
      ],
      "source": [
        "from statistics import mean, variance\n",
        "from random import random\n",
        "\n",
        "lx = []\n",
        "lz = []\n",
        "nr = 1000000\n",
        "\n",
        "for i in range(nr):\n",
        "    u = random()\n",
        "    x = 1 / (1 + u)\n",
        "    y = 1 / (2 - u)\n",
        "    z = (x + y) / 2\n",
        "    lx.append(x)\n",
        "    lz.append(z)\n",
        "\n",
        "ux = mean(lx)\n",
        "uz = mean(lz)\n",
        "vx = variance(lx)\n",
        "vz = variance(lz)\n",
        "\n",
        "print(ux, vx)\n",
        "print(uz, vz)\n",
        "print(100 * (vx - vz) / vx)"
      ]
    },
    {
      "cell_type": "code",
      "source": [
        "from statistics import mean, variance\n",
        "from random import random\n",
        "\n",
        "lx = []\n",
        "lz = []\n",
        "nr = 1000000\n",
        "\n",
        "for i in range(nr):\n",
        "    u = random()\n",
        "    x = 1 / (1 + u)\n",
        "    y = 1 / (2 - u)\n",
        "    z = (x + y) / 2\n",
        "    lx.append(x)\n",
        "    lz.append(z)\n",
        "\n",
        "ux = mean(lx)\n",
        "uz = mean(lz)\n",
        "vx = variance(lx)\n",
        "vz = variance(lz)\n",
        "\n",
        "print(ux,vx,vx/nr)###\n",
        "print(uz,vz,vz/nr)###\n",
        "print(100 * (vx - vz) / vx)"
      ],
      "metadata": {
        "colab": {
          "base_uri": "https://localhost:8080/"
        },
        "id": "O0FadXyp81XE",
        "outputId": "64fe3280-a187-4731-9714-e06694ae801e"
      },
      "execution_count": 2,
      "outputs": [
        {
          "output_type": "stream",
          "name": "stdout",
          "text": [
            "0.6932963822066917 0.019570094232953597 1.9570094232953598e-08\n",
            "0.6931652368561197 0.0005964455649514239 5.964455649514239e-10\n",
            "96.95226012786856\n"
          ]
        }
      ]
    },
    {
      "cell_type": "markdown",
      "source": [
        "**Repetir dos veces**"
      ],
      "metadata": {
        "id": "o6P7s8TH9SdQ"
      }
    },
    {
      "cell_type": "code",
      "source": [
        "from statistics import mean, variance\n",
        "from random import random\n",
        "for  j in range(2):\n",
        "  lx = []\n",
        "  lz = []\n",
        "  nr = 1000000\n",
        "\n",
        "  for i in range(nr):\n",
        "      u = random()\n",
        "      x = 1 / (1 + u)\n",
        "      y = 1 / (2 - u)\n",
        "      z = (x + y) / 2\n",
        "      lx.append(x)\n",
        "      lz.append(z)\n",
        "\n",
        "  ux = mean(lx)\n",
        "  uz = mean(lz)\n",
        "  vx = variance(lx)\n",
        "  vz = variance(lz)\n",
        "  print(ux,vx,vx/nr)\n",
        "  print(uz,vz,vz/nr)\n",
        "print(100 * (vx - vz) / vx)"
      ],
      "metadata": {
        "colab": {
          "base_uri": "https://localhost:8080/"
        },
        "id": "nlcMfsIH9R9U",
        "outputId": "fd7b5a72-77c1-4432-9f06-3d9efcc40ce3"
      },
      "execution_count": 4,
      "outputs": [
        {
          "output_type": "stream",
          "name": "stdout",
          "text": [
            "0.6934040293830823 0.019568528434776255 1.9568528434776254e-08\n",
            "0.6931700217447698 0.0005959583118536429 5.959583118536429e-10\n",
            "0.6932276445792422 0.019586648232552656 1.9586648232552656e-08\n",
            "0.6931918670580078 0.0005966610993693404 5.966610993693404e-10\n",
            "96.95373556371068\n"
          ]
        }
      ]
    },
    {
      "cell_type": "markdown",
      "source": [
        "**Otro código**"
      ],
      "metadata": {
        "id": "wXABXJ0N_AHH"
      }
    },
    {
      "cell_type": "code",
      "source": [
        "from statistics import mean,variance\n",
        "from random import gauss\n",
        "from math import sqrt\n",
        "from numba import jit\n",
        "\n",
        "@jit(nopython=True)\n",
        "def F(x,u,o):\n",
        "  return u*x\n",
        "\n",
        "@jit(nopython=True)\n",
        "def G(x,u,o):\n",
        "  return o*x\n",
        "\n",
        "@jit(nopython=True)\n",
        "def f(x0,u,o,T,delta):\n",
        "  oo=sqrt(delta)\n",
        "  x=x0\n",
        "  y=x0\n",
        "  t=0\n",
        "  while t<T:\n",
        "    w=oo*gauss(0,1)\n",
        "    x=x+delta*F(x,u,o)+G(x,u,o)*w\n",
        "    y=y+delta*F(y,u,o)-G(y,u,o)*w\n",
        "    t=t+delta\n",
        "  return x,(x+y)/2\n",
        "u=0.001\n",
        "o=0.02\n",
        "x0=2\n",
        "delta=0.001\n",
        "T=10\n",
        "nr=10000\n",
        "lx=[]\n",
        "lz=[]\n",
        "for i in range(nr):\n",
        "  x,z=f(x0,u,o,T,delta)\n",
        "  lx.append(x)\n",
        "  lz.append(z)\n",
        "\n",
        "vx=variance(lx)\n",
        "vz=variance(lz)\n",
        "print(vx,vz)\n",
        "print(100*(vx-vz)/vx)\n",
        "\n"
      ],
      "metadata": {
        "colab": {
          "base_uri": "https://localhost:8080/"
        },
        "id": "Llr82_CV_DFr",
        "outputId": "445bc2c6-0a92-4a68-a152-7f370d6ea857"
      },
      "execution_count": 11,
      "outputs": [
        {
          "output_type": "stream",
          "name": "stdout",
          "text": [
            "0.016467023463677982 3.276409752116877e-05\n",
            "99.80103205905161\n"
          ]
        }
      ]
    }
  ]
}