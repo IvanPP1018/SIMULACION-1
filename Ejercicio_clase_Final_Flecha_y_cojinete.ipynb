{
  "cells": [
    {
      "cell_type": "markdown",
      "id": "c21e5530",
      "metadata": {
        "id": "c21e5530"
      },
      "source": [
        "# Ejemplo: Flecha y cojinete"
      ]
    },
    {
      "cell_type": "markdown",
      "id": "61f9bd36",
      "metadata": {
        "id": "61f9bd36"
      },
      "source": [
        "Una flecha será embonada en un cojinete como se muestra a continuación\n",
        "\n",
        "<img src=\"https://github.com/Medetl/Simulacion/blob/main/Unidad%20II/cojinete.png?raw=1\">"
      ]
    },
    {
      "cell_type": "markdown",
      "id": "5f658ca1",
      "metadata": {
        "id": "5f658ca1"
      },
      "source": [
        "Si $x_1$ sigue una distribución normal con media $1.5$ y varianza $0.0016$, y $x_2$ esta misma distribución con media $1.48$ y varianza $0.0009$, determine:\n",
        "\n",
        "a) La probabilidad de que haya interferencia.\n",
        "\n",
        "b) El número de veces que es necesario simular el experimento, si se quiere que la probabilidad de interferencia estimada difiera de su valor verdadero en menos de $0.01$, con un nivel de seguridad del $95\\%.$"
      ]
    },
    {
      "cell_type": "markdown",
      "id": "fac00420",
      "metadata": {
        "id": "fac00420"
      },
      "source": [
        "Vamos a resolver este problema, procurando seguir la metodología vista en el curso."
      ]
    },
    {
      "cell_type": "markdown",
      "id": "ccd32164",
      "metadata": {
        "id": "ccd32164"
      },
      "source": [
        "### 1. Identifique las variables\n",
        "\n",
        "Tenemos dos: $x_1$ y $x_2$."
      ]
    },
    {
      "cell_type": "markdown",
      "id": "ae8735e5",
      "metadata": {
        "id": "ae8735e5"
      },
      "source": [
        "### 2 y 3. Determine la distribución de probabilidad y modele las variables aleatorias\n",
        "\n",
        "En el planteamiento ya se especifica que $x_1 \\sim N(1.5, 0.04)$ y que $x_1 \\sim N(1.48, 0.03)$."
      ]
    },
    {
      "cell_type": "markdown",
      "id": "b1b57a13",
      "metadata": {
        "id": "b1b57a13"
      },
      "source": [
        "### 4. Defina el modelo del sistema y los objetivos de la simulación\n",
        "\n",
        "La diferencia $x_1 - x_2$ modela adecuadamente el sistema.\n",
        "\n",
        "Si $x_2 - x_1 > 0$ el diametro de la flecha es más grande que el espacio en el cojinte y, por tanto, hay interferencia. De lo contrario, las piezas embonan sin problema.\n",
        "\n",
        "Objetivo: determinar la frecuencia con que esto ocurre, lo cual nos da una estimación de la probabilidad de interefrencia.\n",
        "\n",
        "Una forma de implementarlo es mediante el siguiente código."
      ]
    },
    {
      "cell_type": "code",
      "execution_count": 1,
      "id": "191b1e9b",
      "metadata": {
        "id": "191b1e9b"
      },
      "outputs": [],
      "source": [
        "import numpy as np\n",
        "import random\n",
        "import matplotlib.pyplot as plt\n",
        "from scipy.stats import norm"
      ]
    },
    {
      "cell_type": "code",
      "execution_count": 4,
      "id": "e64c27d2",
      "metadata": {
        "id": "e64c27d2"
      },
      "outputs": [],
      "source": [
        "def interferencia():                #Esta función devuelve el valor 1 si hay interferencia o 0 si no la hay.\n",
        "    interf=0\n",
        "    x_1 = random.gauss(1.50,0.04)    #La funcion gauss genera un número que sigue una distribucion normal con\n",
        "    x_2 = random.gauss(1.48,0.03)   # la media y la desvicion estandar especificados.\n",
        "    if 0.0 < x_2 - x_1:\n",
        "        interf += 1\n",
        "    return interf"
      ]
    },
    {
      "cell_type": "code",
      "execution_count": 5,
      "id": "ebe51777",
      "metadata": {
        "id": "ebe51777",
        "colab": {
          "base_uri": "https://localhost:8080/"
        },
        "outputId": "b21a8c6b-c471-4601-b3a7-8c1453bafab2"
      },
      "outputs": [
        {
          "output_type": "execute_result",
          "data": {
            "text/plain": [
              "0"
            ]
          },
          "metadata": {},
          "execution_count": 5
        }
      ],
      "source": [
        "interferencia()"
      ]
    },
    {
      "cell_type": "markdown",
      "id": "d6186dac",
      "metadata": {
        "id": "d6186dac"
      },
      "source": [
        "### 5. Diseñe el experimento\n",
        "\n",
        "Para estimar la probabilidad de interferencia, ejecutamos $n$ veces la función anterior y calculamos de manera acumulativa\n",
        "la probabilidad de interferencia."
      ]
    },
    {
      "cell_type": "code",
      "execution_count": 56,
      "id": "f9a766a5",
      "metadata": {
        "id": "f9a766a5"
      },
      "outputs": [],
      "source": [
        "def prob_inter(n):\n",
        "    prob = []                       # Esta funcion devuelve esta lista \"prob\", con los valores de la probabilidad\n",
        "    inter = 0                       # estimada al contar las veces que hay interferencia y dividir entre las veces que\n",
        "    for i in range(n):              # se ha reptido la observacion mientras aumenta el numero de iteraciones.\n",
        "        inter += interferencia()    # Se llama a una función \"interferencia()\" que devuelve 1 si hay interferencia y 0 si no la hay. El resultado se suma a \"inter\".\n",
        "        prob.append(inter/(i+1))     # Se calcula la probabilidad estimada de interferencia en este punto, dividiendo la cantidad acumulada de interferencias por el número total de iteraciones hasta este punto\n",
        "    return prob                        # Se devuelve la lista de probabilidades."
      ]
    },
    {
      "cell_type": "code",
      "execution_count": 57,
      "id": "8099a245",
      "metadata": {
        "id": "8099a245"
      },
      "outputs": [],
      "source": [
        "X = prob_inter(500)                # Asignamos valores a n y realizamos el experimento"
      ]
    },
    {
      "cell_type": "code",
      "execution_count": 58,
      "id": "c5a5a3c2",
      "metadata": {
        "id": "c5a5a3c2",
        "colab": {
          "base_uri": "https://localhost:8080/",
          "height": 447
        },
        "outputId": "ab8eeb16-11a6-4f20-9332-e6d068e9b2d6"
      },
      "outputs": [
        {
          "output_type": "execute_result",
          "data": {
            "text/plain": [
              "[<matplotlib.lines.Line2D at 0x78cd097170a0>]"
            ]
          },
          "metadata": {},
          "execution_count": 58
        },
        {
          "output_type": "display_data",
          "data": {
            "text/plain": [
              "<Figure size 640x480 with 1 Axes>"
            ],
            "image/png": "[encoded data removed]"
          },
          "metadata": {}
        }
      ],
      "source": [
        "plt.plot(X)                         # La gráfica muestra que la convergencia está garantizada con 500 iteraciones\n",
        "                                    # Sin embargo, diferentes ejecuciones darán resultados distintos"
      ]
    },
    {
      "cell_type": "code",
      "execution_count": 9,
      "id": "4ac4c689",
      "metadata": {
        "id": "4ac4c689",
        "colab": {
          "base_uri": "https://localhost:8080/"
        },
        "outputId": "94c6b639-cc5c-4d96-a3a0-07b44d4cff07"
      },
      "outputs": [
        {
          "output_type": "stream",
          "name": "stdout",
          "text": [
            "0.3732895218328377 0.03128305969647072\n"
          ]
        }
      ],
      "source": [
        "print(np.mean(X), np.std(X))"
      ]
    },
    {
      "cell_type": "markdown",
      "id": "34727279",
      "metadata": {
        "id": "34727279"
      },
      "source": [
        "### 6. Repita el experimento $n$ veces\n",
        "\n",
        "Una forma de hacerlo es mediante el siguiente codigo."
      ]
    },
    {
      "cell_type": "code",
      "execution_count": 59,
      "id": "908f1884",
      "metadata": {
        "id": "908f1884"
      },
      "outputs": [],
      "source": [
        "def modelo(n):\n",
        "    lista=[]                      # Se crea una lista vacía llamada \"lista\".\n",
        "    for i in range(n):            # Se inicia un bucle que se repetirá \"n\" veces, donde \"n\" es el número de iteraciones especificado al llamar a la función.\n",
        "        s = prob_inter(500)       # Se llama a la función \"prob_inter(500)\" para obtener una lista de probabilidades de interferencia estimadas mediante 500 repeticiones del experimento.\n",
        "        lista.append(np.mean(s))  # Se calcula la media de las probabilidades de interferencia estimadas y se agrega este valor a la lista \"lista\".\n",
        "    return lista                   # Se devuelve la lista de medias de probabilidades de interferencia."
      ]
    },
    {
      "cell_type": "code",
      "execution_count": 11,
      "id": "34868564",
      "metadata": {
        "id": "34868564"
      },
      "outputs": [],
      "source": [
        "Y=modelo(120)"
      ]
    },
    {
      "cell_type": "code",
      "execution_count": 12,
      "id": "8a95845e",
      "metadata": {
        "id": "8a95845e",
        "colab": {
          "base_uri": "https://localhost:8080/",
          "height": 430
        },
        "outputId": "9d7d7e81-0324-4c8a-d410-e0f4b5b92d43"
      },
      "outputs": [
        {
          "output_type": "display_data",
          "data": {
            "text/plain": [
              "<Figure size 640x480 with 1 Axes>"
            ],
            "image/png": "[encoded data removed]"
          },
          "metadata": {}
        }
      ],
      "source": [
        "plt.hist(Y)\n",
        "plt.show()"
      ]
    },
    {
      "cell_type": "code",
      "execution_count": 13,
      "id": "e892a16c",
      "metadata": {
        "id": "e892a16c",
        "colab": {
          "base_uri": "https://localhost:8080/"
        },
        "outputId": "e7bbd574-848d-4c45-d97c-7bd929de1d57"
      },
      "outputs": [
        {
          "output_type": "stream",
          "name": "stdout",
          "text": [
            "0.34203703248380335 0.028909983165051237\n"
          ]
        }
      ],
      "source": [
        "print(np.mean(Y), np.std(Y))"
      ]
    },
    {
      "cell_type": "markdown",
      "id": "e5dc2362",
      "metadata": {
        "id": "e5dc2362"
      },
      "source": [
        "### Paso 7. Hallamos el intervalo de confianza.\n",
        "\n",
        "$$\\bar{x}-z_{\\alpha/2} \\cdot \\frac{s}{\\sqrt{n}} < \\mu < \\bar{x}+z_{\\alpha/2}\\cdot \\frac{s}{\\sqrt{n}}$$"
      ]
    },
    {
      "cell_type": "code",
      "execution_count": 14,
      "id": "23d0b48e",
      "metadata": {
        "id": "23d0b48e",
        "colab": {
          "base_uri": "https://localhost:8080/"
        },
        "outputId": "2c943bab-c8ca-432f-bcfd-8203be72666b"
      },
      "outputs": [
        {
          "output_type": "execute_result",
          "data": {
            "text/plain": [
              "0.34203703248380335"
            ]
          },
          "metadata": {},
          "execution_count": 14
        }
      ],
      "source": [
        "np.mean(Y)"
      ]
    },
    {
      "cell_type": "code",
      "execution_count": 15,
      "id": "b29c74e6",
      "metadata": {
        "id": "b29c74e6",
        "colab": {
          "base_uri": "https://localhost:8080/"
        },
        "outputId": "f2b6417f-72b9-4ea6-ad0b-65239a87d68a"
      },
      "outputs": [
        {
          "output_type": "execute_result",
          "data": {
            "text/plain": [
              "(0.33402359398892467, 0.350050470978682)"
            ]
          },
          "metadata": {},
          "execution_count": 15
        }
      ],
      "source": [
        "np.mean(Y) - 1.96*np.std(Y)/np.sqrt(50), np.mean(Y) + 1.96*np.std(Y)/np.sqrt(50)"
      ]
    },
    {
      "cell_type": "markdown",
      "id": "112c0954",
      "metadata": {
        "id": "112c0954"
      },
      "source": [
        "### Para determinar el número de simulaciones"
      ]
    },
    {
      "cell_type": "markdown",
      "id": "0a1a63e7",
      "metadata": {
        "id": "0a1a63e7"
      },
      "source": [
        "$$ N > \\Bigg( \\frac{2 \\sigma z_{\\alpha/2}}{\\epsilon} \\Bigg) ^2 $$"
      ]
    },
    {
      "cell_type": "code",
      "execution_count": 16,
      "id": "1478d745",
      "metadata": {
        "id": "1478d745"
      },
      "outputs": [],
      "source": [
        "N = (2*np.std(X)*1.96/0.01)**2"
      ]
    },
    {
      "cell_type": "code",
      "execution_count": 17,
      "id": "fa6ae0ce",
      "metadata": {
        "id": "fa6ae0ce",
        "colab": {
          "base_uri": "https://localhost:8080/"
        },
        "outputId": "3511aa42-b511-4b59-c983-1e1aab490bff"
      },
      "outputs": [
        {
          "output_type": "stream",
          "name": "stdout",
          "text": [
            "150.38017327097953\n"
          ]
        }
      ],
      "source": [
        "print(N)"
      ]
    },
    {
      "cell_type": "markdown",
      "id": "a6d1c695",
      "metadata": {
        "id": "a6d1c695"
      },
      "source": [
        "### Podemos comparar con la sulución analítica del problema.\n",
        "\n",
        "Para ello usamos la teoría sobre la suma de variables con distribución normal."
      ]
    },
    {
      "cell_type": "markdown",
      "source": [
        "**Teorema de la combinación lineal de variables aleatorias normales**\n",
        "\n",
        "Cualquier combinación lineal de variables aleatorias normales independientes es una variable aleatoria normal con media la misma combinación lineal de las medias y con varianza la combinación lineal de las varianzas con los coeficientes que las acompañan al cuadrado.\n",
        "\n",
        "Sean las variables aleatorias $x_i$ con $i=1,2,3,...n$ todas ellas independientes tales que\n",
        "$$x_i\\sim N(\\mu_i, σ_i)$$\n",
        "\n",
        "Consideremos una combinación lineal de estas variables aleatorias de la forma:\n",
        "$$Y=a_ix_i+a_2x_2+...+a_nx_n$$\n",
        "\n",
        "donde $a_1, a_2,...,a_n$ son coeficientes constantes.\n",
        "\n",
        "Ya que cualquier combinación lineal de variables aleatorias normales sigue una distribución normal,\n",
        "$$Y\\sim N\\left(\\sum_{i=1}^n a_i\\mu_i,\\sqrt{\\sum_{i=1}^n a_i^2\\sigma_i^2}\\right)$$"
      ],
      "metadata": {
        "id": "eV6xo0hFs2HA"
      },
      "id": "eV6xo0hFs2HA"
    },
    {
      "cell_type": "markdown",
      "source": [
        "Usando el teorema anterior\n",
        "$$Y=x_2-x_1$$\n",
        "Esto se distribuye normalmente con media\n",
        "$$\\mu_Y=1(1.48)+1.5(-1)=-0.02$$\n",
        "Y desviación estandar\n",
        "$$σ_Y=\\sqrt{1^2(0.0009)+(-1)^2(0.0016)}=0.05$$\n",
        "\n",
        "Entonces\n",
        "$$P(x_2-x_1>0)=P(Y>0)=1-P(Y=0)=1-F(0)$$\n",
        "\n",
        "Donde $F(0)$ es la función de distribución de Y, esta se define como\n",
        "$$F(x)=\\int_{-∞}^x \\frac{1}{\\sqrt{2\\pi}σ}e^{-\\frac{1}{2}\\left(\\frac{x-\\mu}{\\sigma}\\right)^2}$$\n",
        "\n",
        "Sin embargo, para simplificar los calculos nos apoyaremos de las tablas de distribución normal tipificada, por lo que debemos estandarizar nuestra variable Y como sigue\n",
        "\n",
        "$$P\\left(\\frac{Y-\\mu_Y}{\\sigma_Y}>\\frac{0-(-0.02)}{0.05}\\right)=P(z>0.4)$$\n",
        "\n",
        "Finalmente, la probabilidad de que haya interferencia es\n",
        "$$P(x_2-x_1>0)=1-P(z=0.4)=1-0.6554=0.3446$$\n",
        "\n",
        "La ley de los grandes números nos dice que si realizamos una misma prueba muchas veces, la frecuencia con la que ocurre un evento específico se acercará a un valor constante. Este valor constante representa la probabilidad de que ese evento ocurra.\n",
        "\n",
        "Entonces, si repetimos el experimento varias veces como en el paso 6 y calculamos la frecuencia con la que ocurre la interferencia, encontramos que es aproximadamente el  $34.46\\%$.Esto significa que esa probabilidad es la misma cada vez de que exista interferencia en un ensayo.\n"
      ],
      "metadata": {
        "id": "Twa5gZc41s-x"
      },
      "id": "Twa5gZc41s-x"
    },
    {
      "cell_type": "code",
      "execution_count": 18,
      "id": "7284bee0",
      "metadata": {
        "id": "7284bee0",
        "colab": {
          "base_uri": "https://localhost:8080/"
        },
        "outputId": "cc4ee9d1-1599-468a-ca51-d49d714cc227"
      },
      "outputs": [
        {
          "output_type": "execute_result",
          "data": {
            "text/plain": [
              "0.3445782583896758"
            ]
          },
          "metadata": {},
          "execution_count": 18
        }
      ],
      "source": [
        "norm.cdf(-0.04, -0.02, 0.05)"
      ]
    },
    {
      "cell_type": "code",
      "execution_count": 19,
      "id": "a1a842a2",
      "metadata": {
        "id": "a1a842a2",
        "colab": {
          "base_uri": "https://localhost:8080/"
        },
        "outputId": "328808f3-f779-456e-88ca-16a275795ed8"
      },
      "outputs": [
        {
          "output_type": "execute_result",
          "data": {
            "text/plain": [
              "0.0025412259058724684"
            ]
          },
          "metadata": {},
          "execution_count": 19
        }
      ],
      "source": [
        "norm.cdf(-0.04, -0.02, 0.05)-np.mean(Y)"
      ]
    }
  ],
  "metadata": {
    "kernelspec": {
      "display_name": "Python 3 (ipykernel)",
      "language": "python",
      "name": "python3"
    },
    "language_info": {
      "codemirror_mode": {
        "name": "ipython",
        "version": 3
      },
      "file_extension": ".py",
      "mimetype": "text/x-python",
      "name": "python",
      "nbconvert_exporter": "python",
      "pygments_lexer": "ipython3",
      "version": "3.7.3"
    },
    "colab": {
      "provenance": []
    }
  },
  "nbformat": 4,
  "nbformat_minor": 5
}