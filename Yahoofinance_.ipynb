{
  "nbformat": 4,
  "nbformat_minor": 0,
  "metadata": {
    "colab": {
      "provenance": [],
      "authorship_tag": "ABX9TyP68F8NvTBV4xeDaRSj0zk1",
      "include_colab_link": true
    },
    "kernelspec": {
      "name": "python3",
      "display_name": "Python 3"
    },
    "language_info": {
      "name": "python"
    }
  },
  "cells": [
    {
      "cell_type": "markdown",
      "metadata": {
        "id": "view-in-github",
        "colab_type": "text"
      },
      "source": [
        "<a href=\"https://colab.research.google.com/github/IvanPP1018/SIMULACION-1/blob/main/Yahoofinance_.ipynb\" target=\"_parent\"><img src=\"https://colab.research.google.com/assets/colab-badge.svg\" alt=\"Open In Colab\"/></a>"
      ]
    },
    {
      "cell_type": "code",
      "execution_count": 1,
      "metadata": {
        "colab": {
          "base_uri": "https://localhost:8080/"
        },
        "id": "16JYk1n9c5q_",
        "outputId": "bb03e890-ca5b-49a0-9fa2-e3b998f0f595"
      },
      "outputs": [
        {
          "output_type": "stream",
          "name": "stdout",
          "text": [
            "Datos guardados en 'finance_data.xlsx'\n"
          ]
        }
      ],
      "source": [
        "import requests\n",
        "from bs4 import BeautifulSoup\n",
        "import pandas as pd\n",
        "\n",
        "# Lista de identificadores de empresas (como aparece en la URL)\n",
        "companies = [\n",
        "    \"%5EGSPC\", \"%5EDJI\", \"%5EIXIC\", \"%5ERUT\", \"CL%3DF\", \"GC%3DF\",\n",
        "    \"%5EFTSE\", \"%5EFCHI\", \"%5EGDAXI\", \"%5EN100\", \"000001.SS\", \"%5EN225\",\n",
        "    \"%5EHSI\", \"%5EAXJO\", \"%5EADOW\", \"%5EIRX\", \"%5EFVX\", \"%5ETNX\",\n",
        "    \"%5ETYX\", \"2YY%3DF\", \"ZN%3DF\", \"CL%3DF\", \"SI%3DF\", \"BZ%3DF\",\n",
        "    \"EURUSD%3DX\", \"JPY%3DX\", \"GBP%3DX\", \"AUD%3DX\", \"CAD%3DX\",\n",
        "    \"MXN%3DX\", \"BTC-USD\", \"XRP-USD\", \"ETH-USD\", \"USDT-USD\", \"BNB-USD\", \"SOL-USD\"\n",
        "]\n",
        "\n",
        "data = []  # Lista para almacenar la información\n",
        "\n",
        "# Iterar sobre cada empresa\n",
        "for company in companies:\n",
        "    url = f'https://finance.yahoo.com/quote/{company}/'\n",
        "    response = requests.get(url, headers={\"User-Agent\": \"Mozilla/5.0\"})\n",
        "    soup = BeautifulSoup(response.text, 'html.parser')\n",
        "\n",
        "    # Extraer el valor de cierre (\"Previous Close\")\n",
        "    try:\n",
        "        # Buscar el <fin-streamer> con data-field = regularMarketPreviousClose\n",
        "        fin_streamer = soup.find('fin-streamer', {'data-field': 'regularMarketPreviousClose'})\n",
        "\n",
        "        if fin_streamer:\n",
        "            # Primero intentamos extraer 'data-value'\n",
        "            close_value = fin_streamer.get('data-value', 'N/A')\n",
        "\n",
        "            # Si no se encuentra, verificamos el texto contenido\n",
        "            if close_value == \"N/A\" or not close_value:\n",
        "                close_value = fin_streamer.text.strip()\n",
        "        else:\n",
        "            close_value = \"N/A\"\n",
        "    except Exception as e:\n",
        "        close_value = f\"Error: {e}\"  # Registrar errores específicos si ocurren\n",
        "\n",
        "    # Guardar los datos en la lista\n",
        "    data.append({\n",
        "        'company': company,\n",
        "        'previous_close': close_value\n",
        "    })\n",
        "\n",
        "# Convertir los datos a un DataFrame y exportar a Excel\n",
        "df = pd.DataFrame(data)\n",
        "df.to_excel('finance_data.xlsx', index=False)\n",
        "\n",
        "print(\"Datos guardados en 'finance_data.xlsx'\")"
      ]
    }
  ]
}