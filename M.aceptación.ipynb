{
  "nbformat": 4,
  "nbformat_minor": 0,
  "metadata": {
    "colab": {
      "provenance": [],
      "authorship_tag": "ABX9TyO5WGsJdGWY/HBtPE90gdyA",
      "include_colab_link": true
    },
    "kernelspec": {
      "name": "python3",
      "display_name": "Python 3"
    },
    "language_info": {
      "name": "python"
    }
  },
  "cells": [
    {
      "cell_type": "markdown",
      "metadata": {
        "id": "view-in-github",
        "colab_type": "text"
      },
      "source": [
        "<a href=\"https://colab.research.google.com/github/IvanPP1018/SIMULACION-1/blob/main/M.aceptaci%C3%B3n.ipynb\" target=\"_parent\"><img src=\"https://colab.research.google.com/assets/colab-badge.svg\" alt=\"Open In Colab\"/></a>"
      ]
    },
    {
      "cell_type": "code",
      "execution_count": 3,
      "metadata": {
        "id": "HOTrwHAHhoCd"
      },
      "outputs": [],
      "source": [
        "import numpy as np\n",
        "import matplotlib.pyplot as plt\n",
        "def f(x):\n",
        "  return 20*x*(1-x)**3\n"
      ]
    },
    {
      "cell_type": "code",
      "source": [
        "def rejection_sampling(num_samples):\n",
        "  samples=[]\n",
        "  c=135/64\n",
        "  for _ in range (num_samples):\n",
        "    while True:\n",
        "      x=np.random.rand()#muestra entre 0 y 1\n",
        "      u=np.random.rand()#genera un valor de aceptacion /rechazo\n"
      ],
      "metadata": {
        "id": "vtg-wZBQjwQj"
      },
      "execution_count": 4,
      "outputs": []
    },
    {
      "cell_type": "code",
      "source": [
        "if u*c <= f(x):#acepta la muestra con probabilidad  f(x)/c\n",
        "  samples.append(x)\n",
        "  break\n",
        "  return samples\n",
        "\n"
      ],
      "metadata": {
        "id": "fLxEFo1ak9g5"
      },
      "execution_count": null,
      "outputs": []
    }
  ]
}