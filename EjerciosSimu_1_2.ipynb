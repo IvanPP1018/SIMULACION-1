{
  "nbformat": 4,
  "nbformat_minor": 0,
  "metadata": {
    "colab": {
      "provenance": [],
      "authorship_tag": "ABX9TyO1a4BABRW06izRtoXjSZ6h",
      "include_colab_link": true
    },
    "kernelspec": {
      "name": "python3",
      "display_name": "Python 3"
    },
    "language_info": {
      "name": "python"
    }
  },
  "cells": [
    {
      "cell_type": "markdown",
      "metadata": {
        "id": "view-in-github",
        "colab_type": "text"
      },
      "source": [
        "<a href=\"https://colab.research.google.com/github/IvanPP1018/SIMULACION-1/blob/main/EjerciosSimu_1_2.ipynb\" target=\"_parent\"><img src=\"https://colab.research.google.com/assets/colab-badge.svg\" alt=\"Open In Colab\"/></a>"
      ]
    },
    {
      "cell_type": "markdown",
      "source": [
        "Ejercicio 1"
      ],
      "metadata": {
        "id": "AAkpqgwmW4pn"
      }
    },
    {
      "cell_type": "code",
      "execution_count": null,
      "metadata": {
        "id": "wYoJY3wiWwI6"
      },
      "outputs": [],
      "source": [
        "import numpy as np\n",
        "import matplotlib.pyplot as plt\n",
        "\n",
        "# Paso 1: Definir el número de pasos y el tiempo\n",
        "n = 10  # Número de pasos (W_1 a W_10)\n",
        "t = np.arange(1, n + 1)  # Tiempo (1, 2, ..., 10)\n",
        "W = np.zeros(n)  # Inicializar W_0 = 0\n",
        "\n",
        "# Paso 2: Simular los incrementos del movimiento browniano\n",
        "# Simulamos los incrementos como normales N(0, sqrt(1)) para cada intervalo de tiempo.\n",
        "increments = np.random.normal(0, np.sqrt(1), n)  # Incrementos con media 0 y varianza 1\n",
        "\n",
        "# Paso 3: Acumular los incrementos para obtener los valores de W_1, W_2, ..., W_10\n",
        "W = np.cumsum(increments)  # Acumulamos los incrementos\n",
        "\n",
        "# Paso 4: Imprimir los valores simulados de W_1 a W_10\n",
        "W_values = {f'W_{i+1}': W[i] for i in range(n)}  # Diccionario con los valores de W_1 a W_10\n",
        "print(W_values)\n",
        "\n",
        "# Paso 5: Graficar la trayectoria del movimiento browniano\n",
        "plt.plot(t, W, marker=\"o\", linestyle=\"-\", color=\"b\", label=\"W(t)\")\n",
        "plt.title(\"Simulación de una trayectoria de W(t) para t = 1 a 10\")\n",
        "plt.xlabel(\"Tiempo t\")\n",
        "plt.ylabel(\"W(t)\")\n",
        "plt.grid(True)\n",
        "plt.legend()\n",
        "plt.show()"
      ]
    },
    {
      "cell_type": "markdown",
      "source": [
        "Ejercicio 2"
      ],
      "metadata": {
        "id": "ag9hQ03CW93S"
      }
    },
    {
      "cell_type": "code",
      "source": [
        "import numpy as np\n",
        "import matplotlib.pyplot as plt\n",
        "\n",
        "# Parámetros\n",
        "n_simulaciones = 10000  # número de simulaciones\n",
        "delta_ts = [0.1, 0.01, 0.001, 0.0001]  # valores de delta t\n",
        "\n",
        "# Inicializamos los resultados\n",
        "resultados = []\n",
        "\n",
        "# Simulamos para cada valor de delta t\n",
        "for delta_t in delta_ts:\n",
        "    W_delta_t = np.sqrt(delta_t) * np.random.randn(n_simulaciones)  # Movimiento Browniano\n",
        "    estimado = np.mean(W_delta_t**2 - delta_t)  # Estimación\n",
        "    resultados.append(estimado)\n",
        "\n",
        "    # Imprimir la estimación\n",
        "    print(f\"Estimación para Delta t = {delta_t}: E(W_{delta_t}^2 - Delta t) = {estimado}\")\n",
        "\n",
        "# Graficamos E(W_delta_t^2 - delta_t) contra delta_t\n",
        "plt.plot(delta_ts, resultados, marker='o')\n",
        "plt.xscale('log')  # Escala logarítmica para delta_t\n",
        "plt.xlabel('Delta t')\n",
        "plt.ylabel('E(W_delta_t^2 - Delta t)')\n",
        "plt.title('Estimación de E(W_delta_t^2 - Delta t)')\n",
        "plt.grid(True)\n",
        "plt.show()"
      ],
      "metadata": {
        "id": "yhqZSx-DW_yl"
      },
      "execution_count": null,
      "outputs": []
    },
    {
      "cell_type": "markdown",
      "source": [
        "**Observaciones esperadas:**\n",
        "\n",
        "\n",
        "\n",
        "*   Dado que para un movimiento brawniano $E(w_t^2)=t$, el valor esperado $E(W_{Δt}^2-Δt)$ debería converger a cero conforme a $Δt$ disminuye, ya que el término $ W^2_{Δt}$.\n",
        "*   Gráficamente, deberíamos observar que la diferencia entre $W^2_{Δt}$ y $Δt$ tiende a hacerse pequeña con valores pequeños de $Δt$."
      ],
      "metadata": {
        "id": "HwMBbWoNXDaB"
      }
    }
  ]
}