{
  "nbformat": 4,
  "nbformat_minor": 0,
  "metadata": {
    "colab": {
      "provenance": [],
      "authorship_tag": "ABX9TyNzl+Ev+imgS67p/NlghWQk",
      "include_colab_link": true
    },
    "kernelspec": {
      "name": "python3",
      "display_name": "Python 3"
    },
    "language_info": {
      "name": "python"
    }
  },
  "cells": [
    {
      "cell_type": "markdown",
      "metadata": {
        "id": "view-in-github",
        "colab_type": "text"
      },
      "source": [
        "<a href=\"https://colab.research.google.com/github/IvanPP1018/SIMULACION-1/blob/main/Correcion%20metodo%20de%20congruencia(Ciclo%20de%20vida).ipynb\" target=\"_parent\"><img src=\"https://colab.research.google.com/assets/colab-badge.svg\" alt=\"Open In Colab\"/></a>"
      ]
    },
    {
      "cell_type": "code",
      "source": [
        "def congruencia_lineal(semilla, a, b, m, n):\n",
        "    # Lista para almacenar los números generados\n",
        "    numeros_generados = []\n",
        "\n",
        "    # Diccionario para almacenar el índice de la primera aparición de cada número generado\n",
        "    indice_primera_aparicion = {}\n",
        "\n",
        "    # Primer número generado\n",
        "    xn = semilla\n",
        "    numeros_generados.append(xn)  # Agrega el primer número generado a la lista\n",
        "    indice_primera_aparicion[xn] = 0  # Guarda el índice de la primera aparición del primer número generado\n",
        "\n",
        "    # Generar más números\n",
        "    for i in range(1, n):\n",
        "        # Siguiente número generado\n",
        "        xn = (a * xn + b) % m\n",
        "        numeros_generados.append(xn)  # Agrega el siguiente número generado a la lista\n",
        "        # Verificar si xn ya ha sido generado antes\n",
        "        if xn in indice_primera_aparicion:\n",
        "            ciclo_inicio = indice_primera_aparicion[xn]  # Índice de la primera aparición de xn\n",
        "            ciclo_fin = i  # Índice actual\n",
        "            ciclo_vida = ciclo_fin - ciclo_inicio  # Duración del ciclo\n",
        "            return ciclo_vida, numeros_generados  # Devuelve el ciclo de vida y la lista de números generados\n",
        "        else:\n",
        "            indice_primera_aparicion[xn] = i  # Guarda el índice de la primera aparición de xn\n",
        "\n",
        "    return None, numeros_generados  # Si no se encuentra ningún ciclo, devuelve None y la lista de números generados\n",
        "\n",
        "# Solicitar al usuario que ingrese los parámetros\n",
        "semilla = int(input(\"Ingrese el valor inicial (semilla): \"))  # Solicita al usuario la semilla inicial\n",
        "a = int(input(\"Ingrese el coeficiente multiplicativo (a): \"))  # Solicita al usuario el coeficiente multiplicativo\n",
        "b = int(input(\"Ingrese el coeficiente aditivo (b): \"))  # Solicita al usuario el coeficiente aditivo\n",
        "m = int(input(\"Ingrese el módulo (m): \"))  # Solicita al usuario el módulo\n",
        "n = int(input(\"Ingrese el número de iteraciones (n): \"))  # Solicita al usuario el número de iteraciones\n",
        "\n",
        "# Calcular ciclo de vida y lista de números generados\n",
        "ciclo_vida, numeros_generados = congruencia_lineal(semilla, a, b, m, n)\n",
        "\n",
        "# Mostrar el ciclo de vida y la lista de números generados en grupos de 10\n",
        "if ciclo_vida is not None:\n",
        "    print(\"El ciclo de vida es:\", ciclo_vida)  # Imprime el ciclo de vida si se encontró un ciclo\n",
        "    print(\"Números generados:\")\n",
        "    for i in range(0, len(numeros_generados), 10):\n",
        "        print(numeros_generados[i:i+10])  # Imprime la lista de números generados en grupos de 10\n",
        "else:\n",
        "    print(\"No se encontró un ciclo de vida en las primeras\", n, \"iteraciones.\")  # Imprime un mensaje si no se encontró ningún ciclo"
      ],
      "metadata": {
        "id": "nH8BZ9lzp7pW",
        "outputId": "a3add96e-0e52-4d7a-a36a-64f7621c1d60",
        "colab": {
          "base_uri": "https://localhost:8080/"
        }
      },
      "execution_count": 1,
      "outputs": [
        {
          "output_type": "stream",
          "name": "stdout",
          "text": [
            "Ingrese el valor inicial (semilla): 21\n",
            "Ingrese el coeficiente multiplicativo (a): 21\n",
            "Ingrese el coeficiente aditivo (b): 15\n",
            "Ingrese el módulo (m): 31\n",
            "Ingrese el número de iteraciones (n): 100\n",
            "El ciclo de vida es: 30\n",
            "Números generados:\n",
            "[21, 22, 12, 19, 11, 29, 4, 6, 17, 0]\n",
            "[15, 20, 1, 5, 27, 24, 23, 2, 26, 3]\n",
            "[16, 10, 8, 28, 14, 30, 25, 13, 9, 18]\n",
            "[21]\n"
          ]
        }
      ]
    },
    {
      "cell_type": "markdown",
      "source": [
        "(a) x_j+1 = (21x_j + 15)mod(31) con x_0 = 21"
      ],
      "metadata": {
        "id": "ruoCSMDxmm3g"
      }
    },
    {
      "cell_type": "code",
      "source": [
        "congruencia_lineal(21, 21, 15, 31, 100)"
      ],
      "metadata": {
        "id": "9j2xcHShnLxh",
        "outputId": "b7a1136c-2326-4796-aa98-fc61bb7426fc",
        "colab": {
          "base_uri": "https://localhost:8080/"
        }
      },
      "execution_count": null,
      "outputs": [
        {
          "output_type": "execute_result",
          "data": {
            "text/plain": [
              "30"
            ]
          },
          "metadata": {},
          "execution_count": 12
        }
      ]
    },
    {
      "cell_type": "markdown",
      "source": [
        "(b) x_j+1 = (13x_j + 9)mod(128) con x_0 = 7"
      ],
      "metadata": {
        "id": "LJMlcC1znkQF"
      }
    },
    {
      "cell_type": "code",
      "source": [
        "congruencia_lineal(7,13,9,128,140)\n"
      ],
      "metadata": {
        "id": "yWLmVo_1nnol",
        "outputId": "b39e25a3-9dad-44e1-82a8-f5962a1cf8a1",
        "colab": {
          "base_uri": "https://localhost:8080/"
        }
      },
      "execution_count": null,
      "outputs": [
        {
          "output_type": "execute_result",
          "data": {
            "text/plain": [
              "128"
            ]
          },
          "metadata": {},
          "execution_count": 13
        }
      ]
    },
    {
      "cell_type": "markdown",
      "source": [
        "(c) x_j+1 = (17x_j )mod(31) con x_0 = 23"
      ],
      "metadata": {
        "id": "MAbKHPGcoWP7"
      }
    },
    {
      "cell_type": "code",
      "source": [
        "congruencia_lineal(23,17,0,31,200)"
      ],
      "metadata": {
        "id": "foLnE3-boe4h",
        "outputId": "54edfa09-91a6-48af-c1de-dcadcbe22649",
        "colab": {
          "base_uri": "https://localhost:8080/"
        }
      },
      "execution_count": null,
      "outputs": [
        {
          "output_type": "execute_result",
          "data": {
            "text/plain": [
              "30"
            ]
          },
          "metadata": {},
          "execution_count": 14
        }
      ]
    },
    {
      "cell_type": "markdown",
      "source": [
        "(d) x_j+1 = (121 + x_j )mod(256) con x_0 = 17"
      ],
      "metadata": {
        "id": "mIV-3SwnoxEM"
      }
    },
    {
      "cell_type": "code",
      "source": [
        "congruencia_lineal(17,1,121,256,400)"
      ],
      "metadata": {
        "id": "HEsv_reyo2Hy",
        "outputId": "6aa46fdf-b9c1-4cfb-c917-667fbb696250",
        "colab": {
          "base_uri": "https://localhost:8080/"
        }
      },
      "execution_count": null,
      "outputs": [
        {
          "output_type": "execute_result",
          "data": {
            "text/plain": [
              "256"
            ]
          },
          "metadata": {},
          "execution_count": 15
        }
      ]
    }
  ]
}