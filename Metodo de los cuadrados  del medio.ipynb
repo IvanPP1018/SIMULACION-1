{
  "nbformat": 4,
  "nbformat_minor": 0,
  "metadata": {
    "colab": {
      "provenance": [],
      "authorship_tag": "ABX9TyOIcG73AJXAE+jAg8SzRqZ4",
      "include_colab_link": true
    },
    "kernelspec": {
      "name": "python3",
      "display_name": "Python 3"
    },
    "language_info": {
      "name": "python"
    }
  },
  "cells": [
    {
      "cell_type": "markdown",
      "metadata": {
        "id": "view-in-github",
        "colab_type": "text"
      },
      "source": [
        "<a href=\"https://colab.research.google.com/github/IvanPP1018/SIMULACION-1/blob/main/Metodo%20de%20los%20cuadrados%20%20del%20medio.ipynb\" target=\"_parent\"><img src=\"https://colab.research.google.com/assets/colab-badge.svg\" alt=\"Open In Colab\"/></a>"
      ]
    },
    {
      "cell_type": "code",
      "execution_count": 3,
      "metadata": {
        "colab": {
          "base_uri": "https://localhost:8080/"
        },
        "id": "KHFqqoheecLN",
        "outputId": "879e0462-70fe-4cda-86de-fb6e8085462c"
      },
      "outputs": [
        {
          "output_type": "stream",
          "name": "stdout",
          "text": [
            "Ingrese 4 digitos, la cual llamaremos semilla:\n",
            "Ingrese la semilla: 1420\n",
            "Ingrese el numero de corridas a generar: 100\n",
            "[0] La semilla X0 es: 1420; X0^2:2016400: Largo7; Pseudoaleatori:164; RandomRi: 0.0164\n",
            "[1] La semilla X0 es: 164; X0^2:26896: Largo5; Pseudoaleatori:6896; RandomRi: 0.6896\n",
            "[2] La semilla X0 es: 6896; X0^2:47554816: Largo8; Pseudoaleatori:5548; RandomRi: 0.5548\n",
            "[3] La semilla X0 es: 5548; X0^2:30780304: Largo8; Pseudoaleatori:7803; RandomRi: 0.7803\n",
            "[4] La semilla X0 es: 7803; X0^2:60886809: Largo8; Pseudoaleatori:8868; RandomRi: 0.8868\n",
            "[5] La semilla X0 es: 8868; X0^2:78641424: Largo8; Pseudoaleatori:6414; RandomRi: 0.6414\n",
            "[6] La semilla X0 es: 6414; X0^2:41139396: Largo8; Pseudoaleatori:1393; RandomRi: 0.1393\n",
            "[7] La semilla X0 es: 1393; X0^2:1940449: Largo7; Pseudoaleatori:9404; RandomRi: 0.9404\n",
            "[8] La semilla X0 es: 9404; X0^2:88435216: Largo8; Pseudoaleatori:4352; RandomRi: 0.4352\n",
            "[9] La semilla X0 es: 4352; X0^2:18939904: Largo8; Pseudoaleatori:9399; RandomRi: 0.9399\n",
            "[10] La semilla X0 es: 9399; X0^2:88341201: Largo8; Pseudoaleatori:3412; RandomRi: 0.3412\n",
            "[11] La semilla X0 es: 3412; X0^2:11641744: Largo8; Pseudoaleatori:6417; RandomRi: 0.6417\n",
            "[12] La semilla X0 es: 6417; X0^2:41177889: Largo8; Pseudoaleatori:1778; RandomRi: 0.1778\n",
            "[13] La semilla X0 es: 1778; X0^2:3161284: Largo7; Pseudoaleatori:1612; RandomRi: 0.1612\n",
            "[14] La semilla X0 es: 1612; X0^2:2598544: Largo7; Pseudoaleatori:5985; RandomRi: 0.5985\n",
            "[15] La semilla X0 es: 5985; X0^2:35820225: Largo8; Pseudoaleatori:8202; RandomRi: 0.8202\n",
            "[16] La semilla X0 es: 8202; X0^2:67272804: Largo8; Pseudoaleatori:2728; RandomRi: 0.2728\n",
            "[17] La semilla X0 es: 2728; X0^2:7441984: Largo7; Pseudoaleatori:4419; RandomRi: 0.4419\n",
            "[18] La semilla X0 es: 4419; X0^2:19527561: Largo8; Pseudoaleatori:5275; RandomRi: 0.5275\n",
            "[19] La semilla X0 es: 5275; X0^2:27825625: Largo8; Pseudoaleatori:8256; RandomRi: 0.8256\n",
            "[20] La semilla X0 es: 8256; X0^2:68161536: Largo8; Pseudoaleatori:1615; RandomRi: 0.1615\n",
            "[21] La semilla X0 es: 1615; X0^2:2608225: Largo7; Pseudoaleatori:6082; RandomRi: 0.6082\n",
            "[22] La semilla X0 es: 6082; X0^2:36990724: Largo8; Pseudoaleatori:9907; RandomRi: 0.9907\n",
            "[23] La semilla X0 es: 9907; X0^2:98148649: Largo8; Pseudoaleatori:1486; RandomRi: 0.1486\n",
            "[24] La semilla X0 es: 1486; X0^2:2208196: Largo7; Pseudoaleatori:2081; RandomRi: 0.2081\n",
            "[25] La semilla X0 es: 2081; X0^2:4330561: Largo7; Pseudoaleatori:3305; RandomRi: 0.3305\n",
            "[26] La semilla X0 es: 3305; X0^2:10923025: Largo8; Pseudoaleatori:9230; RandomRi: 0.923\n",
            "[27] La semilla X0 es: 9230; X0^2:85192900: Largo8; Pseudoaleatori:1929; RandomRi: 0.1929\n",
            "[28] La semilla X0 es: 1929; X0^2:3721041: Largo7; Pseudoaleatori:7210; RandomRi: 0.721\n",
            "[29] La semilla X0 es: 7210; X0^2:51984100: Largo8; Pseudoaleatori:9841; RandomRi: 0.9841\n",
            "[30] La semilla X0 es: 9841; X0^2:96845281: Largo8; Pseudoaleatori:8452; RandomRi: 0.8452\n",
            "[31] La semilla X0 es: 8452; X0^2:71436304: Largo8; Pseudoaleatori:4363; RandomRi: 0.4363\n",
            "[32] La semilla X0 es: 4363; X0^2:19035769: Largo8; Pseudoaleatori:357; RandomRi: 0.0357\n",
            "[33] La semilla X0 es: 357; X0^2:127449: Largo6; Pseudoaleatori:2744; RandomRi: 0.2744\n",
            "[34] La semilla X0 es: 2744; X0^2:7529536: Largo7; Pseudoaleatori:5295; RandomRi: 0.5295\n",
            "[35] La semilla X0 es: 5295; X0^2:28037025: Largo8; Pseudoaleatori:370; RandomRi: 0.037\n",
            "[36] La semilla X0 es: 370; X0^2:136900: Largo6; Pseudoaleatori:3690; RandomRi: 0.369\n",
            "[37] La semilla X0 es: 3690; X0^2:13616100: Largo8; Pseudoaleatori:6161; RandomRi: 0.6161\n",
            "[38] La semilla X0 es: 6161; X0^2:37957921: Largo8; Pseudoaleatori:9579; RandomRi: 0.9579\n",
            "[39] La semilla X0 es: 9579; X0^2:91757241: Largo8; Pseudoaleatori:7572; RandomRi: 0.7572\n",
            "[40] La semilla X0 es: 7572; X0^2:57335184: Largo8; Pseudoaleatori:3351; RandomRi: 0.3351\n",
            "[41] La semilla X0 es: 3351; X0^2:11229201: Largo8; Pseudoaleatori:2292; RandomRi: 0.2292\n",
            "[42] La semilla X0 es: 2292; X0^2:5253264: Largo7; Pseudoaleatori:2532; RandomRi: 0.2532\n",
            "[43] La semilla X0 es: 2532; X0^2:6411024: Largo7; Pseudoaleatori:4110; RandomRi: 0.411\n",
            "[44] La semilla X0 es: 4110; X0^2:16892100: Largo8; Pseudoaleatori:8921; RandomRi: 0.8921\n",
            "[45] La semilla X0 es: 8921; X0^2:79584241: Largo8; Pseudoaleatori:5842; RandomRi: 0.5842\n",
            "[46] La semilla X0 es: 5842; X0^2:34128964: Largo8; Pseudoaleatori:1289; RandomRi: 0.1289\n",
            "[47] La semilla X0 es: 1289; X0^2:1661521: Largo7; Pseudoaleatori:6615; RandomRi: 0.6615\n",
            "[48] La semilla X0 es: 6615; X0^2:43758225: Largo8; Pseudoaleatori:7582; RandomRi: 0.7582\n",
            "[49] La semilla X0 es: 7582; X0^2:57486724: Largo8; Pseudoaleatori:4867; RandomRi: 0.4867\n",
            "[50] La semilla X0 es: 4867; X0^2:23687689: Largo8; Pseudoaleatori:6876; RandomRi: 0.6876\n",
            "[51] La semilla X0 es: 6876; X0^2:47279376: Largo8; Pseudoaleatori:2793; RandomRi: 0.2793\n",
            "[52] La semilla X0 es: 2793; X0^2:7800849: Largo7; Pseudoaleatori:8008; RandomRi: 0.8008\n",
            "[53] La semilla X0 es: 8008; X0^2:64128064: Largo8; Pseudoaleatori:1280; RandomRi: 0.128\n",
            "[54] La semilla X0 es: 1280; X0^2:1638400: Largo7; Pseudoaleatori:6384; RandomRi: 0.6384\n",
            "[55] La semilla X0 es: 6384; X0^2:40755456: Largo8; Pseudoaleatori:7554; RandomRi: 0.7554\n",
            "[56] La semilla X0 es: 7554; X0^2:57062916: Largo8; Pseudoaleatori:629; RandomRi: 0.0629\n",
            "[57] La semilla X0 es: 629; X0^2:395641: Largo6; Pseudoaleatori:9564; RandomRi: 0.9564\n",
            "[58] La semilla X0 es: 9564; X0^2:91470096: Largo8; Pseudoaleatori:4700; RandomRi: 0.47\n",
            "[59] La semilla X0 es: 4700; X0^2:22090000: Largo8; Pseudoaleatori:900; RandomRi: 0.09\n",
            "[60] La semilla X0 es: 900; X0^2:810000: Largo6; Pseudoaleatori:1000; RandomRi: 0.1\n",
            "[61] La semilla X0 es: 1000; X0^2:1000000: Largo7; Pseudoaleatori:0; RandomRi: 0.0\n",
            "EL METODO LLEGO A SU LIMITE\n",
            "El programa finalizó\n"
          ]
        }
      ],
      "source": [
        "import sys\n",
        "\n",
        "print('Ingrese 4 digitos, la cual llamaremos semilla:')\n",
        "try:\n",
        "    semilla = int(input('Ingrese la semilla: '))\n",
        "\n",
        "    if semilla >= 1000 and semilla <= 9999:\n",
        "        corridas = int(input('Ingrese el numero de corridas a generar: '))\n",
        "        for i in range(corridas):\n",
        "            semilla_alcuadrado = semilla * semilla\n",
        "            largo_semillacuadrado = len(str(semilla_alcuadrado))\n",
        "            if largo_semillacuadrado == 8:\n",
        "                s = str(semilla_alcuadrado)\n",
        "                t = s[2:6]\n",
        "                v = int(t)\n",
        "                r = v / 10000\n",
        "            else:\n",
        "                if largo_semillacuadrado != 8:\n",
        "                    s = str(semilla_alcuadrado)\n",
        "                    t = s[1:5]\n",
        "                    v = int(t)\n",
        "                    r = v / 10000\n",
        "            print(f'[{i}] La semilla X0 es: {semilla}; X0^2:{semilla_alcuadrado}: Largo{largo_semillacuadrado}; Pseudoaleatori:{v}; RandomRi: {r}')\n",
        "            semilla = v\n",
        "\n",
        "            if v == 0:\n",
        "                print('EL METODO LLEGO A SU LIMITE')\n",
        "                break\n",
        "\n",
        "        print('El programa finalizó')\n",
        "    else:\n",
        "        print('Debe ingresar 4 digitos')\n",
        "\n",
        "except ValueError:\n",
        "    print('Tienes un error de tipo:', sys.exc_info()[0])\n",
        "    print('Introduce valores numericos')\n"
      ]
    }
  ]
}