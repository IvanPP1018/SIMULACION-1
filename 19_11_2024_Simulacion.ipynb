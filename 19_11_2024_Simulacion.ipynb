{
  "nbformat": 4,
  "nbformat_minor": 0,
  "metadata": {
    "colab": {
      "provenance": [],
      "authorship_tag": "ABX9TyO6osbG713MAxeSu67VQui0",
      "include_colab_link": true
    },
    "kernelspec": {
      "name": "python3",
      "display_name": "Python 3"
    },
    "language_info": {
      "name": "python"
    }
  },
  "cells": [
    {
      "cell_type": "markdown",
      "metadata": {
        "id": "view-in-github",
        "colab_type": "text"
      },
      "source": [
        "<a href=\"https://colab.research.google.com/github/IvanPP1018/SIMULACION-1/blob/main/19_11_2024_Simulacion.ipynb\" target=\"_parent\"><img src=\"https://colab.research.google.com/assets/colab-badge.svg\" alt=\"Open In Colab\"/></a>"
      ]
    },
    {
      "cell_type": "code",
      "execution_count": 1,
      "metadata": {
        "colab": {
          "base_uri": "https://localhost:8080/"
        },
        "id": "Fz7LtXnHzWrh",
        "outputId": "1d8bf86e-439a-48d8-c86c-fc8f1092f338"
      },
      "outputs": [
        {
          "output_type": "stream",
          "name": "stdout",
          "text": [
            "0.3413447460685429\n",
            "0.7856539233753036 0.02589227851957177\n",
            "0.740970567020598 0.00032739438610442\n",
            "98.73555204553764\n"
          ]
        }
      ],
      "source": [
        "from statistics import mean,variance\n",
        "from random import gauss,random\n",
        "from scipy.stats import norm\n",
        "def g(x):\n",
        "  return 1/(1+x**2)\n",
        "def f(x):\n",
        "  if x>0 and x<1:\n",
        "    return 1\n",
        "  else:\n",
        "    return 0\n",
        "def h(x,a):\n",
        "  if x>0 and x<1:\n",
        "    return norm.pdf(x,0,1)/a\n",
        "  else:\n",
        "    return 0\n",
        "a=norm.cdf(1,0,1)-0.5\n",
        "print(a)\n",
        "nr=10000\n",
        "l=[]\n",
        "l1=[]\n",
        "for i in range(nr):\n",
        "  z=random()\n",
        "  l.append(g(z))\n",
        "  z=a*random()+0.5\n",
        "  x=norm.ppf(z,0,1)\n",
        "  l1.append(g(z)*f(z)/h(z,a))\n",
        "\n",
        "m=mean(l)\n",
        "v=variance(l)\n",
        "print(m,v)\n",
        "m1=mean(l1)\n",
        "v1=variance(l1)\n",
        "print(m1,v1)\n",
        "print(100*(v-v1)/v)"
      ]
    },
    {
      "cell_type": "code",
      "source": [
        "from statistics import mean,variance\n",
        "from random import gauss,random\n",
        "from scipy.stats import norm\n",
        "def g(x):\n",
        "  return 1/(1+x**2)\n",
        "def f(x):\n",
        "  if x>0 and x<1:\n",
        "    return 1\n",
        "  else:\n",
        "    return 0\n",
        "def h(x,a,o):\n",
        "  if x>0 and x<1:\n",
        "    return norm.pdf(x,0,o)/a\n",
        "  else:\n",
        "    return 0\n",
        "o=0.82\n",
        "a=norm.cdf(1,0,o)-0.5\n",
        "print(a)\n",
        "nr=10000\n",
        "l=[]\n",
        "l1=[]\n",
        "for i in range(nr):\n",
        "  z=random()\n",
        "  l.append(g(z))\n",
        "  z=a*random()+0.5\n",
        "  x=norm.ppf(z,0,o)\n",
        "  l1.append(g(z)*f(z)/h(z,a,o))\n",
        "\n",
        "m=mean(l)\n",
        "v=variance(l)\n",
        "print(m,v)\n",
        "m1=mean(l1)\n",
        "v1=variance(l1)\n",
        "print(m1,v1)\n",
        "print(100*(v-v1)/v)"
      ],
      "metadata": {
        "colab": {
          "base_uri": "https://localhost:8080/"
        },
        "id": "4l3sBSr2zhVM",
        "outputId": "7b27fbc2-6254-4c5c-d375-b7d1dc931dfa"
      },
      "execution_count": 2,
      "outputs": [
        {
          "output_type": "stream",
          "name": "stdout",
          "text": [
            "0.3886750749607466\n",
            "0.7867299662674223 0.025907576444016985\n",
            "0.7762964591677004 0.00010093739845062334\n",
            "99.61039428497399\n"
          ]
        }
      ]
    },
    {
      "cell_type": "code",
      "source": [
        "from statistics import mean,variance\n",
        "from random import gauss,random\n",
        "from scipy.stats import norm\n",
        "from math import pi\n",
        "from scipy.optimize import minimize_scalar\n",
        "def g(x):\n",
        "  return 1/(1+x**2)\n",
        "def f(x):\n",
        "  if x>0 and x<1:\n",
        "    return 1\n",
        "  else:\n",
        "    return 0\n",
        "def h(x,a,o):\n",
        "  if x>0 and x<1:\n",
        "    return norm.pdf(x,0,o)/a\n",
        "  else:\n",
        "    return 0\n",
        "def ff(x):\n",
        "  a=norm.cdf(1,0,x)-0.5\n",
        "  nr=10000\n",
        "  l=[]\n",
        "  l1=[]\n",
        "  for i in range(nr):\n",
        "    z=random()\n",
        "    l.append(g(z))\n",
        "    z=a*random()+0.5\n",
        "    z=norm.ppf(z,0,x)\n",
        "    l1.append(g(z)*f(z)/h(z,a,x))\n",
        "  v=variance(l)\n",
        "  v1=variance(l1)\n",
        "  print(\"%10.4f\"%x,\"%10.4f\"%(100*(v-v1)/v))\n",
        "  return-100*(v-v1)/v\n",
        "re=minimize_scalar(ff,bounds=(0.6,1.3))\n",
        "print(re)"
      ],
      "metadata": {
        "colab": {
          "base_uri": "https://localhost:8080/"
        },
        "id": "I7sdAf_ozoLT",
        "outputId": "6034d4c4-debe-49df-ce99-8726e471cf29"
      },
      "execution_count": null,
      "outputs": [
        {
          "output_type": "stream",
          "name": "stdout",
          "text": [
            "    0.8674    98.3999\n",
            "    1.0326    86.5581\n",
            "    0.7652    96.2874\n",
            "    0.8463    99.0093\n",
            "    0.8332    99.1945\n",
            "    0.8232    99.1858\n",
            "    0.8289    99.1983\n"
          ]
        }
      ]
    }
  ]
}