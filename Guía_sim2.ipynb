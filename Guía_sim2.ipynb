{
  "nbformat": 4,
  "nbformat_minor": 0,
  "metadata": {
    "colab": {
      "provenance": [],
      "include_colab_link": true
    },
    "kernelspec": {
      "name": "python3",
      "display_name": "Python 3"
    },
    "language_info": {
      "name": "python"
    }
  },
  "cells": [
    {
      "cell_type": "markdown",
      "metadata": {
        "id": "view-in-github",
        "colab_type": "text"
      },
      "source": [
        "<a href=\"https://colab.research.google.com/github/IvanPP1018/SIMULACION-1/blob/main/Gu%C3%ADa_sim2.ipynb\" target=\"_parent\"><img src=\"https://colab.research.google.com/assets/colab-badge.svg\" alt=\"Open In Colab\"/></a>"
      ]
    },
    {
      "cell_type": "markdown",
      "source": [
        "1. Sea $g(x) = \\left\\{ \\begin{array}{lcc} x - 2 & si & x > 2 \\\\ \\\\ 0 & si & x \\leq 2 \\end{array} \\right.$ y X una variable aleatoria que sigue una distribución normal con media 0 y desviación estándar 1. \\\\\n",
        "A) Estime por simulación el valor esperado de $g(X)$. \\\\\n",
        "B) Use la técnica de variables antitéticas para reducir la varianza, ¿En qué porcentaje se redujo la varianza?"
      ],
      "metadata": {
        "id": "dMpe8CZnuS29"
      }
    },
    {
      "cell_type": "code",
      "source": [
        "from random import gauss\n",
        "from statistics import mean, variance\n",
        "def g(x):\n",
        "  if x>2:\n",
        "    return x-2\n",
        "  else:\n",
        "    return 0\n",
        "nr=100000\n",
        "l=[]\n",
        "l1=[]\n",
        "for i in range(nr):\n",
        "  z=gauss(0,1)\n",
        "  l.append(g(z))\n",
        "  l1.append((g(z)+g(-z))/2)\n",
        "m=mean(l)\n",
        "v=variance(l)\n",
        "print(m,v)\n",
        "m1=mean(l1)\n",
        "v1=variance(l1)\n",
        "print(m1,v1)\n",
        "print(100*(v-v1)/v)"
      ],
      "metadata": {
        "colab": {
          "base_uri": "https://localhost:8080/"
        },
        "id": "cJu1PDhDvU8f",
        "outputId": "47f54261-99fc-470f-d39f-7a1b9f22e708"
      },
      "execution_count": null,
      "outputs": [
        {
          "output_type": "stream",
          "name": "stdout",
          "text": [
            "0.008510583807451164 0.005766362108222788\n",
            "0.008323788561329376 0.0027999019912785237\n",
            "51.44422187281848\n"
          ]
        }
      ]
    },
    {
      "cell_type": "markdown",
      "source": [
        "2. Con las mismas hipótesis del problema 1, use la técnica de variables de control para reducir la varianza. Use como variable de control a $g(e^x)$. ¿En qué porcentaje se redujo la varianza?"
      ],
      "metadata": {
        "id": "CmsCaJrpvuyB"
      }
    },
    {
      "cell_type": "code",
      "source": [
        "from random import gauss\n",
        "from statistics import mean, variance\n",
        "from scipy.stats import pearsonr\n",
        "from math import exp\n",
        "def g(x):\n",
        "  if x>2:\n",
        "    return x-2\n",
        "  else:\n",
        "    return 0\n",
        "\n",
        "#MOVER h(x) PARA REDUCIR LA VARIANZA\n",
        "\n",
        "def h(x):\n",
        "  return g(exp(x))\n",
        "nr=100000\n",
        "l=[]\n",
        "l1=[]\n",
        "lc=[]\n",
        "for i in range(nr):\n",
        "  z=gauss(0,1)\n",
        "  l.append(g(z))\n",
        "  l1.append((g(z)+g(-z))/2)\n",
        "  lc.append(h(z))\n",
        "m=mean(l)\n",
        "v=variance(l)\n",
        "print(m,v)\n",
        "m1=mean(l1)\n",
        "v1=variance(l1)\n",
        "print(m1,v1)\n",
        "print(100*(v-v1)/v)\n",
        "r=pearsonr(l,lc)[0]\n",
        "print(100*r**2)"
      ],
      "metadata": {
        "colab": {
          "base_uri": "https://localhost:8080/"
        },
        "id": "BuN61ut2wXjL",
        "outputId": "2b6ee6a6-0e2a-4ff5-e941-b52087dcdc2b"
      },
      "execution_count": null,
      "outputs": [
        {
          "output_type": "stream",
          "name": "stdout",
          "text": [
            "0.008436662568772447 0.005658757030522389\n",
            "0.008533472387178954 0.0028159606656665815\n",
            "50.23711655266765\n",
            "71.11674494721818\n"
          ]
        }
      ]
    },
    {
      "cell_type": "markdown",
      "source": [
        "3. Sea $g(x) = \\left\\{ \\begin{array}{lcc} e^x - 2 & si & x > ln(2) \\\\ \\\\ 0 & si & x \\leq ln(2) \\end{array} \\right.$ y X una variable aleatoria que sigue una distribución normal con media 0 y desviación estándar 1. \\\\\n",
        "A) Estime por simulación el valor esperado de $g(X)$. \\\\\n",
        "B) Use la técnica de variables antitéticas para reducir la varianza, ¿En qué porcentaje se redujo la varianza?"
      ],
      "metadata": {
        "id": "OhzE0WuTwfLg"
      }
    },
    {
      "cell_type": "code",
      "source": [
        "#SOLIUCIÓN DEL PROFESOR\n",
        "from random import gauss\n",
        "from statistics import mean, variance\n",
        "from math import exp, log\n",
        "def g(x):\n",
        "  if x>log(2):\n",
        "    return exp(x)-2\n",
        "  else:\n",
        "    return 0\n",
        "l=[]\n",
        "l1=[]\n",
        "nr=100000\n",
        "for i in range(nr):\n",
        "  x=gauss(0,1)\n",
        "  l.append(g(x))\n",
        "  l1.append((g(x)+g(-x))/2)\n",
        "m=mean(l)\n",
        "v=variance(l)\n",
        "print(m,v)\n",
        "m1=mean(l1)\n",
        "v1=variance(l1)\n",
        "print(m1,v1)\n",
        "print(100*(v-v1)/v)"
      ],
      "metadata": {
        "colab": {
          "base_uri": "https://localhost:8080/"
        },
        "id": "HILxW0Ol8HAi",
        "outputId": "48934621-07b9-47c6-ecda-8b7a46664262"
      },
      "execution_count": null,
      "outputs": [
        {
          "output_type": "stream",
          "name": "stdout",
          "text": [
            "0.5354983680018143 3.224710611707874\n",
            "0.5290088983876028 1.448616406468541\n",
            "55.077630804789536\n"
          ]
        }
      ]
    },
    {
      "cell_type": "code",
      "source": [
        "from random import gauss\n",
        "from statistics import mean, variance\n",
        "import math\n",
        "\n",
        "# Definición de la función g(x) según el enunciado\n",
        "def g(x):\n",
        "    if x > math.log(2):  # ln(2)\n",
        "        return math.exp(x) - 2\n",
        "    else:\n",
        "        return 0\n",
        "\n",
        "nr = 100000  # Número de simulaciones\n",
        "l = []       # Lista para simulación estándar\n",
        "l1 = []      # Lista para simulación con variables antitéticas\n",
        "\n",
        "# Bucle de simulación\n",
        "for i in range(nr):\n",
        "    z = gauss(0, 1)  # Generar un número normal estándar\n",
        "    l.append(g(z))   # Evaluar g(z)\n",
        "    l1.append((g(z) + g(-z)) / 2)  # Evaluar promedio de g(z) y g(-z)\n",
        "\n",
        "# Cálculo de medias y varianzas\n",
        "m = mean(l)       # Media estándar\n",
        "v = variance(l)   # Varianza estándar\n",
        "m1 = mean(l1)     # Media con antitéticos\n",
        "v1 = variance(l1) # Varianza con antitéticos\n",
        "\n",
        "# Porcentaje de reducción de la varianza\n",
        "print(m, v)\n",
        "print(m1, v1)\n",
        "print(100 * (v - v1) / v)\n"
      ],
      "metadata": {
        "colab": {
          "base_uri": "https://localhost:8080/"
        },
        "id": "7G6KksTK4nBO",
        "outputId": "550a80ed-fcb6-4398-8a71-46191cf09113"
      },
      "execution_count": null,
      "outputs": [
        {
          "output_type": "stream",
          "name": "stdout",
          "text": [
            "0.5260610023573326 3.232553882381987\n",
            "0.5264358143046226 1.5091652232520796\n",
            "53.3135323288095\n"
          ]
        }
      ]
    },
    {
      "cell_type": "markdown",
      "source": [
        "4. Con las mismas hipótesis del problema 3, use la técnica de variables de control para reducir la varianza. Use como variable de control a $g(X)^2$, ¿En qué porcentaje se redujo la varianza?"
      ],
      "metadata": {
        "id": "qvTwUDAJxQqs"
      }
    },
    {
      "cell_type": "code",
      "source": [
        "#SOLIUCIÓN DEL PROFESOR\n",
        "from random import gauss\n",
        "from statistics import mean, variance\n",
        "from math import exp, log,sqrt, pi\n",
        "from scipy.stats import pearsonr\n",
        "import matplotlib.pyplot as plt\n",
        "\n",
        "def g(x):\n",
        "  if x>log(2):\n",
        "    return exp(x)-2\n",
        "  else:\n",
        "    return 0\n",
        "\n",
        "def fc(x):\n",
        "  return g(x)**2\n",
        "def phi(x):\n",
        "  return(1/sqrt(2*pi))*exp(-x**2/2)\n",
        "def h(x):\n",
        "  return (1/sqrt(2*pi))*exp(-x**2/2)\n",
        "l=[]\n",
        "l1=[]\n",
        "l2=[]\n",
        "nr=100000\n",
        "lc=[]\n",
        "for i in range(nr):\n",
        "  x=gauss(0,1)\n",
        "  l.append(g(x))\n",
        "  l1.append((g(x)+g(-x))/2)\n",
        "  lc.append(fc(x))\n",
        "  x=gauss(1.7,1)\n",
        "  l2.append(g(x)*phi(x)/h(x))\n",
        "m=mean(l)\n",
        "v=variance(l)\n",
        "print(m,v)\n",
        "m1=mean(l1)\n",
        "v1=variance(l1)\n",
        "print(m1,v1)\n",
        "print(100*(v-v1)/v)\n",
        "r=100*pearsonr(l,lc)[0]**2\n",
        "print(r)\n",
        "x1=0\n",
        "x2=3\n",
        "x=x1\n",
        "b=[]\n",
        "while x<x2:\n",
        "  b.append(x)\n",
        "  x=x*(x2-x1)/100\n",
        "ly=[]\n",
        "for x in b:\n",
        "  ly.append(g(x)*phi(x))\n",
        "plt.figure(figsize=(4,3))\n",
        "plt.plot(b, ly)\n",
        "plt.show()\n",
        "m=mean(l2)\n",
        "v=variance(l2)\n",
        "print(m,v)"
      ],
      "metadata": {
        "colab": {
          "base_uri": "https://localhost:8080/",
          "height": 280
        },
        "id": "xluPIdC9-X3F",
        "outputId": "ac7499da-ba34-47ca-b784-eaf45cc569b4"
      },
      "execution_count": null,
      "outputs": [
        {
          "output_type": "stream",
          "name": "stdout",
          "text": [
            "0.5439001557087589 3.649588273642722\n",
            "0.5425598373362673 1.6360217917642483\n",
            "55.172428529004875\n",
            "42.61569168209094\n"
          ]
        },
        {
          "output_type": "error",
          "ename": "KeyboardInterrupt",
          "evalue": "",
          "traceback": [
            "\u001b[0;31m---------------------------------------------------------------------------\u001b[0m",
            "\u001b[0;31mKeyboardInterrupt\u001b[0m                         Traceback (most recent call last)",
            "\u001b[0;32m<ipython-input-1-46626f302323>\u001b[0m in \u001b[0;36m<cell line: 45>\u001b[0;34m()\u001b[0m\n\u001b[1;32m     44\u001b[0m \u001b[0mb\u001b[0m\u001b[0;34m=\u001b[0m\u001b[0;34m[\u001b[0m\u001b[0;34m]\u001b[0m\u001b[0;34m\u001b[0m\u001b[0;34m\u001b[0m\u001b[0m\n\u001b[1;32m     45\u001b[0m \u001b[0;32mwhile\u001b[0m \u001b[0mx\u001b[0m\u001b[0;34m<\u001b[0m\u001b[0mx2\u001b[0m\u001b[0;34m:\u001b[0m\u001b[0;34m\u001b[0m\u001b[0;34m\u001b[0m\u001b[0m\n\u001b[0;32m---> 46\u001b[0;31m   \u001b[0mb\u001b[0m\u001b[0;34m.\u001b[0m\u001b[0mappend\u001b[0m\u001b[0;34m(\u001b[0m\u001b[0mx\u001b[0m\u001b[0;34m)\u001b[0m\u001b[0;34m\u001b[0m\u001b[0;34m\u001b[0m\u001b[0m\n\u001b[0m\u001b[1;32m     47\u001b[0m   \u001b[0mx\u001b[0m\u001b[0;34m=\u001b[0m\u001b[0mx\u001b[0m\u001b[0;34m*\u001b[0m\u001b[0;34m(\u001b[0m\u001b[0mx2\u001b[0m\u001b[0;34m-\u001b[0m\u001b[0mx1\u001b[0m\u001b[0;34m)\u001b[0m\u001b[0;34m/\u001b[0m\u001b[0;36m100\u001b[0m\u001b[0;34m\u001b[0m\u001b[0;34m\u001b[0m\u001b[0m\n\u001b[1;32m     48\u001b[0m \u001b[0mly\u001b[0m\u001b[0;34m=\u001b[0m\u001b[0;34m[\u001b[0m\u001b[0;34m]\u001b[0m\u001b[0;34m\u001b[0m\u001b[0;34m\u001b[0m\u001b[0m\n",
            "\u001b[0;31mKeyboardInterrupt\u001b[0m: "
          ]
        }
      ]
    },
    {
      "cell_type": "code",
      "source": [
        "from random import gauss\n",
        "from statistics import mean, variance\n",
        "import math\n",
        "\n",
        "# Definición de la función g(x)\n",
        "def g(x):\n",
        "    if x > math.log(2):  # ln(2)\n",
        "        return math.exp(x) - 2\n",
        "    else:\n",
        "        return 0\n",
        "\n",
        "nr = 100000  # Número de simulaciones\n",
        "l = []       # Lista para g(X)\n",
        "l2 = []      # Lista para g(X)^2\n",
        "\n",
        "# Bucle de simulación\n",
        "for i in range(nr):\n",
        "    z = gauss(0, 1)  # Generar un número normal estándar\n",
        "    gx = g(z)\n",
        "    l.append(gx)        # g(X)\n",
        "    l2.append(gx ** 2)  # g(X)^2\n",
        "\n",
        "# Cálculo de medias\n",
        "m = mean(l)        # Media de g(X)\n",
        "m2 = mean(l2)      # Media de g(X)^2\n",
        "v = variance(l)    # Varianza de g(X)\n",
        "v2 = variance(l2)  # Varianza de g(X)^2\n",
        "\n",
        "# Coeficiente de regresión c para la variable de control\n",
        "cov_g_g2 = sum((l[i] - m) * (l2[i] - m2) for i in range(nr)) / (nr - 1)\n",
        "c = cov_g_g2 / v2\n",
        "\n",
        "# Nueva estimación usando la técnica de variables de control\n",
        "adjusted_l = [l[i] - c * (l2[i] - m2) for i in range(nr)]\n",
        "m_adjusted = mean(adjusted_l)\n",
        "v_adjusted = variance(adjusted_l)\n",
        "\n",
        "# Porcentaje de reducción de la varianza\n",
        "reduccion_varianza = 100 * (v - v_adjusted) / v\n",
        "\n",
        "print(m, v)\n",
        "print(m_adjusted, v_adjusted)\n",
        "print(reduccion_varianza)\n"
      ],
      "metadata": {
        "colab": {
          "base_uri": "https://localhost:8080/"
        },
        "id": "r6kmAjkt5j-Q",
        "outputId": "3d8d7aae-46a9-4b30-9ee0-e9883d78370d"
      },
      "execution_count": null,
      "outputs": [
        {
          "output_type": "stream",
          "name": "stdout",
          "text": [
            "0.5397784671403169 3.363662889539407\n",
            "0.5397784671403169 1.6790698947132265\n",
            "50.0820994893711\n"
          ]
        }
      ]
    },
    {
      "cell_type": "markdown",
      "source": [
        "5. X sigue una distribución normal estándar, Y sigue una distribución normal con media 1 y varianza 1, y X y Y son independientes. \\\\\n",
        "A) Estime por simulación la probabilidad de que $X + Y > 2$. \\\\\n",
        "B) Use la variable aleatoria $E(I|Y)$, donde $I = \\left\\{ \\begin{array}{lcc} 1 & si & X + Y > 2 \\\\ \\\\ 0 & \\text{en caso contrario} \\end{array} \\right.$, para reducir la varianza por condicionamiento. ¿En qué porcentaje se redujo la varianza?"
      ],
      "metadata": {
        "id": "RD_0ynalmHRu"
      }
    },
    {
      "cell_type": "code",
      "source": [
        "from random import gauss\n",
        "from math import exp, sqrt\n",
        "from statistics import mean, variance\n",
        "from scipy.stats import pearsonr\n",
        "\n",
        "def I(x,y):\n",
        "  if x + y > 2:\n",
        "    return 1\n",
        "  else:\n",
        "    return 0\n",
        "\n",
        "nr = 1000000\n",
        "l = []\n",
        "\n",
        "for i in range(nr):\n",
        "  x = gauss(0,1)\n",
        "  y = gauss(1,1)\n",
        "  l.append(I(x,y))\n",
        "\n",
        "m = mean(l)\n",
        "v = variance(l)\n",
        "print(m,v)"
      ],
      "metadata": {
        "colab": {
          "base_uri": "https://localhost:8080/"
        },
        "id": "1pNuNjXdoLFF",
        "outputId": "eb2af3dc-9a0a-45ec-c451-93e18a44aa42"
      },
      "execution_count": null,
      "outputs": [
        {
          "output_type": "stream",
          "name": "stdout",
          "text": [
            "0.239183 0.18197467448567448\n"
          ]
        }
      ]
    },
    {
      "cell_type": "code",
      "source": [
        "from random import gauss\n",
        "from math import exp, sqrt\n",
        "from statistics import mean, variance\n",
        "from scipy.stats import pearsonr, norm\n",
        "\n",
        "def I(x,y):\n",
        "  if x + y > 2:\n",
        "    return 1\n",
        "  else:\n",
        "    return 0\n",
        "\n",
        "nr = 1000000\n",
        "l = []\n",
        "l1 = []\n",
        "\n",
        "for i in range(nr):\n",
        "  x = gauss(0,1)\n",
        "  y = gauss(1,1)\n",
        "  l.append(I(x,y))\n",
        "  q = 2 - y\n",
        "  l1.append(1 - norm.cdf(q, 0, 1))\n",
        "\n",
        "m = mean(l)\n",
        "v = variance(l)\n",
        "print(m,v)\n",
        "m1 = mean(l1)\n",
        "v1 = variance(l1)\n",
        "print(m1,v1)\n",
        "print(100 * (v - v1) / v)"
      ],
      "metadata": {
        "colab": {
          "base_uri": "https://localhost:8080/"
        },
        "id": "yQMWe58wpdDr",
        "outputId": "30fc8d77-c360-44c4-9d22-dc757a0b1e60"
      },
      "execution_count": null,
      "outputs": [
        {
          "output_type": "stream",
          "name": "stdout",
          "text": [
            "0.240296 0.18255401493801493\n",
            "0.23942866821981829 0.05560447651072219\n",
            "69.5408087685158\n"
          ]
        }
      ]
    },
    {
      "cell_type": "markdown",
      "source": [
        "6. X sigue una distribución normal estándar, Y sigue una distribución exponencial con parámetro igual a 2, y X y Y son independientes. \\\\\n",
        "A) Estime por simulación la probabilidad de que X + Y > 1. \\\\\n",
        "B) Use la variable aleatoria $E(I|Y)$ donde $I = \\left\\{ \\begin{array}{lcc} 1 & si & X + Y > 1 \\\\ \\\\ 0 & \\text{en caso contrario} \\end{array} \\right.$, para reducir la varianza por condicionamiento. ¿En qué porcentaje se redujo la varianza?"
      ],
      "metadata": {
        "id": "g1LuUeD8xoMz"
      }
    },
    {
      "cell_type": "code",
      "source": [
        "from random import gauss, expovariate\n",
        "from math import exp, sqrt\n",
        "from statistics import mean, variance\n",
        "from scipy.stats import norm\n",
        "def I(x, y):\n",
        "    if x + y > 1:\n",
        "        return 1\n",
        "    else:\n",
        "        return 0\n",
        "nr = 100000\n",
        "l = []\n",
        "l1 = []\n",
        "for i in range(nr):\n",
        "    x = gauss(0, 1)\n",
        "    y = expovariate(2)\n",
        "    l.append(I(x, y))\n",
        "    q = 1- y\n",
        "    l1.append(1 - norm.cdf(q, 0, 1))\n",
        "m = mean(l)\n",
        "v = variance(l)\n",
        "print(m, v)\n",
        "m1 = mean(l1)\n",
        "v1 = variance(l1)\n",
        "print(m1, v1)\n",
        "print(100*(v - v1)/v)"
      ],
      "metadata": {
        "colab": {
          "base_uri": "https://localhost:8080/"
        },
        "id": "MVuqI0vS5Brw",
        "outputId": "3299ceaf-377d-4887-ff3c-1a890b4a9683"
      },
      "execution_count": null,
      "outputs": [
        {
          "output_type": "stream",
          "name": "stdout",
          "text": [
            "0.31487 0.21572904039040391\n",
            "0.31662272278647957 0.028026135687874605\n",
            "87.00864026597633\n"
          ]
        }
      ]
    },
    {
      "cell_type": "markdown",
      "source": [
        "7. El precio de una acción sigue un movimiento Browniano geométrico, $P_t = P_0 e^{(\\mu - \\frac{\\sigma^2}{2})t + \\sigma \\sqrt{t}Z}$, donde Z sigue una distribución normal estándar, $\\mu = 0.001, \\sigma = 0.02, P_0 = 10$. \\\\\n",
        "A) Estime por simulación la esperanza de $P_{30}$. \\\\\n",
        "B) Use a Z como variable de control para reducir la varianza, ¿En qué porcentaje se redujo la varianza? \\\\\n",
        "C) ¿Cuál es el error porcentual del valor obtenido para $P_{30}$ obtenido utilizando la variable de control?"
      ],
      "metadata": {
        "id": "p-AWqJoMqjAJ"
      }
    },
    {
      "cell_type": "code",
      "source": [
        "from random import gauss\n",
        "from math import exp, sqrt\n",
        "from statistics import mean, variance, covariance\n",
        "from scipy.stats import pearsonr\n",
        "from numpy import cov\n",
        "\n",
        "def precio(p0, u, o, t):\n",
        "  z = gauss(0,1)\n",
        "  return p0 * exp((u - o**2 / 2) * t + o * sqrt(t) * z), z\n",
        "\n",
        "nr = 100000\n",
        "u = .001\n",
        "o = .02\n",
        "p0 = 10\n",
        "t = 30\n",
        "l = []\n",
        "lz = []\n",
        "for i in range(nr):\n",
        "  p, z = precio(p0, u, o, t)\n",
        "  l.append(p)\n",
        "  lz.append(z)\n",
        "\n",
        "m = mean(l)\n",
        "v = variance(l)\n",
        "print(m,v)\n",
        "r = pearsonr(l, lz)[0]\n",
        "por = 100 * (1 - r**2)\n",
        "print(por)\n",
        "v1 = v * (1 - por / 100)\n",
        "print(v1)\n",
        "p_ver = p0 * exp(u*t)\n",
        "print(p_ver)\n",
        "e1 = 100 * (m - p_ver) / p_ver\n",
        "print(e1)\n",
        "co = cov(l ,lz)\n",
        "print(co)\n",
        "cova = co[0,1]\n",
        "vy = co[1,1]\n",
        "c = -cova/vy\n",
        "print(c)\n",
        "ll = []\n",
        "for i in range(nr):\n",
        "  ll.append(l[i] * (1 + c * lz[i]))\n",
        "\n",
        "m1 = mean(ll)\n",
        "v1 = variance(ll)\n",
        "print(m1,v1)\n",
        "e2 = 100 * (m1 - p_ver) / p_ver\n",
        "print(e2)"
      ],
      "metadata": {
        "colab": {
          "base_uri": "https://localhost:8080/"
        },
        "id": "LrT-4NLQsJdM",
        "outputId": "2e2e419e-b57d-4b9f-c1fc-bb6caa1f8ff2"
      },
      "execution_count": null,
      "outputs": [
        {
          "output_type": "stream",
          "name": "stdout",
          "text": [
            "10.30308137268767 1.2727334350051251\n",
            "0.5902750329018658\n",
            "1.2652208073028957\n",
            "10.304545339535169\n",
            "-0.014207000884186548\n",
            "[[1.27273344 1.12047055]\n",
            " [1.12047055 0.99228075]]\n",
            "-1.1291870284510157\n",
            "9.048242575317065 115.55954251265035\n",
            "-12.191734063201034\n"
          ]
        }
      ]
    },
    {
      "cell_type": "markdown",
      "source": [
        "8. La variable aleatoria X sigue una distribución exponencial con parámetro 3. \\\\\n",
        "A) Estime por simulación el valor esperado de $\\sqrt(x)$. \\\\\n",
        "B) Use la técnica de variables antitéticas para reducir la varianza, ¿En qué porcentaje se redujo ésta? \\\\\n",
        "C) Use a la variable X como variable de control para reducir la varianza, ¿En qué porcentaje se redujo ésta? \\\\\n",
        "D) Calcule analíticamente el porcenaje obtenido en el inciso C)"
      ],
      "metadata": {
        "id": "_XWdOfEDvhPG"
      }
    },
    {
      "cell_type": "code",
      "source": [
        "from math import sqrt, exp, log\n",
        "from random import random\n",
        "from statistics import mean, variance\n",
        "from scipy.stats import pearsonr\n",
        "\n",
        "def g(x):\n",
        "  return sqrt(x)\n",
        "\n",
        "nr = 1000000\n",
        "l = []\n",
        "l1 = []\n",
        "\n",
        "for i in range(nr):\n",
        "  u = random()\n",
        "  x = -log(u)\n",
        "  l.append(g(x))\n",
        "  l1.append(x)\n",
        "\n",
        "m = mean(l)\n",
        "v = variance(l)\n",
        "print(m,v)\n",
        "r = pearsonr(l, l1)[0]\n",
        "por = 100 * r**2\n",
        "print(por)\n",
        "v1 = v * (1 - por / 100)\n",
        "print(v1)"
      ],
      "metadata": {
        "colab": {
          "base_uri": "https://localhost:8080/"
        },
        "id": "975HCAzzw9g7",
        "outputId": "e4cca9ac-a6cc-4c0f-b000-5d273aa5c99d"
      },
      "execution_count": null,
      "outputs": [
        {
          "output_type": "stream",
          "name": "stdout",
          "text": [
            "0.8859256663517632 0.21479657954413733\n",
            "91.50432128130815\n",
            "0.01824842729680928\n"
          ]
        }
      ]
    }
  ]
}