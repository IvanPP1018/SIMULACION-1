{
  "nbformat": 4,
  "nbformat_minor": 0,
  "metadata": {
    "colab": {
      "provenance": [],
      "include_colab_link": true
    },
    "kernelspec": {
      "name": "python3",
      "display_name": "Python 3"
    },
    "language_info": {
      "name": "python"
    }
  },
  "cells": [
    {
      "cell_type": "markdown",
      "metadata": {
        "id": "view-in-github",
        "colab_type": "text"
      },
      "source": [
        "<a href=\"https://colab.research.google.com/github/IvanPP1018/SIMULACION-1/blob/main/Gu%C3%ADa_sim2.ipynb\" target=\"_parent\"><img src=\"https://colab.research.google.com/assets/colab-badge.svg\" alt=\"Open In Colab\"/></a>"
      ]
    },
    {
      "cell_type": "markdown",
      "source": [
        "1. Sea $g(x) = \\left\\{ \\begin{array}{lcc} x - 2 & si & x > 2 \\\\ \\\\ 0 & si & x \\leq 2 \\end{array} \\right.$ y X una variable aleatoria que sigue una distribución normal con media 0 y desviación estándar 1. \\\\\n",
        "A) Estime por simulación el valor esperado de $g(X)$. \\\\\n",
        "B) Use la técnica de variables antitéticas para reducir la varianza, ¿En qué porcentaje se redujo la varianza?"
      ],
      "metadata": {
        "id": "dMpe8CZnuS29"
      }
    },
    {
      "cell_type": "code",
      "source": [
        "from random import gauss\n",
        "from statistics import mean, variance\n",
        "def g(x):\n",
        "  if x>2:\n",
        "    return x-2\n",
        "  else:\n",
        "    return 0\n",
        "nr=100000\n",
        "l=[]\n",
        "l1=[]\n",
        "for i in range(nr):\n",
        "  x=gauss(0,1)\n",
        "  l.append(g(x))\n",
        "  l1.append((g(x)+g(-x))/2)\n",
        "m=mean(l)\n",
        "v=variance(l)\n",
        "print(m,v)\n",
        "m1=mean(l1)\n",
        "v1=variance(l1)\n",
        "print(m1,v1)\n",
        "print(100*(v-v1)/v)"
      ],
      "metadata": {
        "colab": {
          "base_uri": "https://localhost:8080/"
        },
        "id": "cJu1PDhDvU8f",
        "outputId": "0be22680-73b0-4836-a716-bea921f21b52"
      },
      "execution_count": null,
      "outputs": [
        {
          "output_type": "stream",
          "name": "stdout",
          "text": [
            "0.008393999279529826 0.005503152820444457\n",
            "0.008469368951989393 0.0027716506648646296\n",
            "49.63522265694995\n"
          ]
        }
      ]
    },
    {
      "cell_type": "code",
      "source": [
        "from random import gauss  # Para generar números aleatorios normales estándar\n",
        "from statistics import mean, variance  # Para calcular media y varianza\n",
        "\n",
        "# Definición de la función g(x)\n",
        "def g(x):\n",
        "    if x > 2:\n",
        "        return x - 2  # Caso si x > 2\n",
        "    else:\n",
        "        return 0  # Caso si x <= 2\n",
        "\n",
        "nr = 100000  # Número de simulaciones\n",
        "l = []  # Lista para almacenar valores de g(X) sin reducción\n",
        "l1 = []  # Lista para almacenar valores de g(X) con reducción (antitéticas)\n",
        "\n",
        "# Ciclo para realizar las simulaciones\n",
        "for i in range(nr):\n",
        "    z = gauss(0, 1)  # Generar un número aleatorio normal estándar\n",
        "    l.append(g(z))  # Evaluar g(z) y almacenar en la lista\n",
        "    l1.append((g(z) + g(-z)) / 2)  # Evaluar el estimador con antitéticas y almacenar\n",
        "\n",
        "# Calcular media y varianza sin reducción\n",
        "m = mean(l)  # Media de g(X)\n",
        "v = variance(l)  # Varianza de g(X)\n",
        "print(m, v)  # Imprimir media y varianza sin reducción\n",
        "\n",
        "# Calcular media y varianza con reducción\n",
        "m1 = mean(l1)  # Media con reducción (antitéticas)\n",
        "v1 = variance(l1)  # Varianza con reducción\n",
        "print(m1, v1)  # Imprimir media y varianza con reducción\n",
        "\n",
        "# Calcular y mostrar la reducción porcentual de varianza\n",
        "print(100 * (v - v1) / v)"
      ],
      "metadata": {
        "id": "LJSi4z7bMo7S",
        "outputId": "2bda324d-aa91-4bf5-f42e-ed1db4e00306",
        "colab": {
          "base_uri": "https://localhost:8080/"
        }
      },
      "execution_count": null,
      "outputs": [
        {
          "output_type": "stream",
          "name": "stdout",
          "text": [
            "0.008253306838764145 0.005575405549735548\n",
            "0.008388776980022465 0.002799137497377385\n",
            "49.794907789081755\n"
          ]
        }
      ]
    },
    {
      "cell_type": "markdown",
      "source": [
        "2. Con las mismas hipótesis del problema 1, use la técnica de variables de control para reducir la varianza. Use como variable de control a $g(e^x)$. ¿En qué porcentaje se redujo la varianza?"
      ],
      "metadata": {
        "id": "CmsCaJrpvuyB"
      }
    },
    {
      "cell_type": "code",
      "source": [
        "from random import gauss\n",
        "from statistics import mean, variance\n",
        "from scipy.stats import pearsonr\n",
        "from math import exp\n",
        "def g(x):\n",
        "  if x>2:\n",
        "    return x-2\n",
        "  else:\n",
        "    return 0\n",
        "\n",
        "#MOVER h(x) PARA REDUCIR LA VARIANZA\n",
        "\n",
        "def f(x):\n",
        "  return g(exp(x))\n",
        "nr=100000\n",
        "l=[]\n",
        "l1=[]\n",
        "l2=[]\n",
        "for i in range(nr):\n",
        "  x=gauss(0,1)\n",
        "  l.append(g(x))\n",
        "  l1.append((g(x)+g(-x))/2)\n",
        "  l2.append(f(x))\n",
        "m=mean(l)\n",
        "v=variance(l)\n",
        "print(m,v)\n",
        "m1=mean(l1)\n",
        "v1=variance(l1)\n",
        "print(m1,v1)\n",
        "print(100*(v-v1)/v)\n",
        "r=100*pearsonr(l,l2)[0]**2\n",
        "print(r)"
      ],
      "metadata": {
        "colab": {
          "base_uri": "https://localhost:8080/"
        },
        "id": "BuN61ut2wXjL",
        "outputId": "6c1b57d7-a230-4b0f-9512-e725206567fb"
      },
      "execution_count": null,
      "outputs": [
        {
          "output_type": "stream",
          "name": "stdout",
          "text": [
            "0.008526674709763746 0.005607185532469404\n",
            "0.00877834332761069 0.0028739486263732543\n",
            "48.745255356164975\n",
            "71.75054599542213\n"
          ]
        }
      ]
    },
    {
      "cell_type": "code",
      "source": [
        "# Resuelto en clase\n",
        "#####################ESTE ESTA BIEN ######################\n",
        "\n",
        "from random import gauss\n",
        "from statistics import mean, variance\n",
        "from scipy.stats import pearsonr\n",
        "from math import exp\n",
        "def g(x):\n",
        "  if x>2:\n",
        "    return x-2\n",
        "  else:\n",
        "    return 0\n",
        "\n",
        "def f(x):\n",
        "  return g(exp(x))\n",
        "nr=100000\n",
        "l=[]\n",
        "l1=[]\n",
        "lc=[]\n",
        "for i in range(nr):\n",
        "  x=gauss(0,1)\n",
        "  l.append(g(x))\n",
        "  l1.append((g(x)+g(-x))/2)\n",
        "  lc.append(f(x))\n",
        "m=mean(l)\n",
        "v=variance(l)\n",
        "print(m,v)\n",
        "m1=mean(l1)\n",
        "v1=variance(l1)\n",
        "print(m1,v1)\n",
        "print(100*(v-v1)/v)\n",
        "r=pearsonr(l,lc)[0]\n",
        "print(100*r**2)"
      ],
      "metadata": {
        "colab": {
          "base_uri": "https://localhost:8080/"
        },
        "id": "HoX8v-BXGKT5",
        "outputId": "4761df96-c49c-4cee-f1bd-a26bb048a31f"
      },
      "execution_count": null,
      "outputs": [
        {
          "output_type": "stream",
          "name": "stdout",
          "text": [
            "0.008298680157914465 0.005482839240896421\n",
            "0.008587720499921115 0.0028237760449505178\n",
            "48.49792377846842\n",
            "71.19853565463704\n"
          ]
        }
      ]
    },
    {
      "cell_type": "code",
      "source": [
        "from random import gauss\n",
        "from statistics import mean, variance\n",
        "from math import exp\n",
        "\n",
        "# Definición de g(x)\n",
        "def g(x):\n",
        "    return x - 2 if x > 2 else 0\n",
        "\n",
        "# Definición de h(x) = g(e^x)\n",
        "def h(x):\n",
        "    return g(exp(x))\n",
        "\n",
        "nr = 100000  # Número de simulaciones\n",
        "l = []  # Almacenará g(X)\n",
        "lc = []  # Almacenará h(X)\n",
        "cov_terms = []  # Términos para calcular la covarianza\n",
        "adjusted = []  # Almacenará las estimaciones ajustadas\n",
        "\n",
        "# Simulación\n",
        "sum_l = 0  # Suma acumulativa de g(X) para la media\n",
        "sum_lc = 0  # Suma acumulativa de h(X) para la media\n",
        "for i in range(nr):\n",
        "    z = gauss(0, 1)  # Genera una muestra Z ~ N(0, 1)\n",
        "    gx = g(z)  # Calcula g(X)\n",
        "    hx = h(z)  # Calcula h(X)\n",
        "    l.append(gx)  # Guarda g(X)\n",
        "    lc.append(hx)  # Guarda h(X)\n",
        "    sum_l += gx  # Acumula g(X)\n",
        "    sum_lc += hx  # Acumula h(X)\n",
        "\n",
        "# Cálculo de las medias\n",
        "m = sum_l / nr  # Media de g(X)\n",
        "mean_lc = sum_lc / nr  # Media de h(X)\n",
        "\n",
        "# Cálculo de la covarianza, ajuste y varianza ajustada\n",
        "sum_cov = 0  # Acumulador para covarianza\n",
        "sum_adjusted_sq = 0  # Acumulador para calcular la varianza ajustada\n",
        "for i in range(nr):\n",
        "    cov_terms.append((l[i] - m) * (lc[i] - mean_lc))  # Términos para covarianza\n",
        "    sum_cov += cov_terms[-1]  # Acumula la covarianza\n",
        "var_lc = variance(lc)  # Varianza de h(X)\n",
        "beta = sum_cov / (nr * var_lc)  # Coeficiente beta\n",
        "\n",
        "for i in range(nr):\n",
        "    adjustment = l[i] - beta * (lc[i] - mean_lc)  # Ajusta g(X) usando h(X)\n",
        "    adjusted.append(adjustment)  # Guarda el valor ajustado\n",
        "    sum_adjusted_sq += (adjustment - m) ** 2  # Acumula para la varianza ajustada\n",
        "\n",
        "var_adjusted = sum_adjusted_sq / (nr - 1)  # Varianza ajustada\n",
        "v = variance(l)  # Varianza original\n",
        "\n",
        "# Reducción de varianza\n",
        "reduction_percentage = 100 * (v - var_adjusted) / v\n",
        "\n",
        "# Resultados\n",
        "print(\"Media original:\", m)\n",
        "print(\"Varianza original:\", v)\n",
        "print(\"Varianza ajustada:\", var_adjusted)\n",
        "print(\"Reducción de varianza (%):\", reduction_percentage)"
      ],
      "metadata": {
        "id": "9cr6nJ45lpKU",
        "outputId": "3bbf5c2c-81bb-4ba6-fbfd-2b0c6000e231",
        "colab": {
          "base_uri": "https://localhost:8080/"
        }
      },
      "execution_count": null,
      "outputs": [
        {
          "output_type": "stream",
          "name": "stdout",
          "text": [
            "Media original: 0.008360612712994648\n",
            "Varianza original: 0.0055170079979761305\n",
            "Varianza ajustada: 0.00159578345157563\n",
            "Reducción de varianza (%): 71.075201410601\n"
          ]
        }
      ]
    },
    {
      "cell_type": "markdown",
      "source": [
        "3. Sea $g(x) = \\left\\{ \\begin{array}{lcc} e^x - 2 & si & x > ln(2) \\\\ \\\\ 0 & si & x \\leq ln(2) \\end{array} \\right.$ y X una variable aleatoria que sigue una distribución normal con media 0 y desviación estándar 1. \\\\\n",
        "A) Estime por simulación el valor esperado de $g(X)$. \\\\\n",
        "B) Use la técnica de variables antitéticas para reducir la varianza, ¿En qué porcentaje se redujo la varianza?"
      ],
      "metadata": {
        "id": "OhzE0WuTwfLg"
      }
    },
    {
      "cell_type": "code",
      "source": [
        "#SOLIUCIÓN DEL PROFESOR\n",
        "from random import gauss\n",
        "from statistics import mean, variance\n",
        "from math import exp, log\n",
        "def g(x):\n",
        "  if x>log(2):\n",
        "    return exp(x)-2\n",
        "  else:\n",
        "    return 0\n",
        "l=[]\n",
        "l1=[]\n",
        "nr=100000\n",
        "for i in range(nr):\n",
        "  x=gauss(0,1)\n",
        "  l.append(g(x))\n",
        "  l1.append((g(x)+g(-x))/2)\n",
        "m=mean(l)\n",
        "v=variance(l)\n",
        "print(m,v)\n",
        "m1=mean(l1)\n",
        "v1=variance(l1)\n",
        "print(m1,v1)\n",
        "print(100*(v-v1)/v)"
      ],
      "metadata": {
        "colab": {
          "base_uri": "https://localhost:8080/"
        },
        "id": "HILxW0Ol8HAi",
        "outputId": "48934621-07b9-47c6-ecda-8b7a46664262"
      },
      "execution_count": null,
      "outputs": [
        {
          "output_type": "stream",
          "name": "stdout",
          "text": [
            "0.5354983680018143 3.224710611707874\n",
            "0.5290088983876028 1.448616406468541\n",
            "55.077630804789536\n"
          ]
        }
      ]
    },
    {
      "cell_type": "code",
      "source": [
        "from random import gauss\n",
        "from statistics import mean, variance\n",
        "import math\n",
        "\n",
        "# Definición de la función g(x) según el enunciado\n",
        "def g(x):\n",
        "    if x > math.log(2):  # ln(2)\n",
        "        return math.exp(x) - 2\n",
        "    else:\n",
        "        return 0\n",
        "\n",
        "nr = 100000  # Número de simulaciones\n",
        "l = []       # Lista para simulación estándar\n",
        "l1 = []      # Lista para simulación con variables antitéticas\n",
        "\n",
        "# Bucle de simulación\n",
        "for i in range(nr):\n",
        "    z = gauss(0, 1)  # Generar un número normal estándar\n",
        "    l.append(g(z))   # Evaluar g(z)\n",
        "    l1.append((g(z) + g(-z)) / 2)  # Evaluar promedio de g(z) y g(-z)\n",
        "\n",
        "# Cálculo de medias y varianzas\n",
        "m = mean(l)       # Media estándar\n",
        "v = variance(l)   # Varianza estándar\n",
        "m1 = mean(l1)     # Media con antitéticos\n",
        "v1 = variance(l1) # Varianza con antitéticos\n",
        "\n",
        "# Porcentaje de reducción de la varianza\n",
        "print(m, v)\n",
        "print(m1, v1)\n",
        "print(100 * (v - v1) / v)\n"
      ],
      "metadata": {
        "colab": {
          "base_uri": "https://localhost:8080/"
        },
        "id": "7G6KksTK4nBO",
        "outputId": "550a80ed-fcb6-4398-8a71-46191cf09113"
      },
      "execution_count": null,
      "outputs": [
        {
          "output_type": "stream",
          "name": "stdout",
          "text": [
            "0.5260610023573326 3.232553882381987\n",
            "0.5264358143046226 1.5091652232520796\n",
            "53.3135323288095\n"
          ]
        }
      ]
    },
    {
      "cell_type": "markdown",
      "source": [
        "4. Con las mismas hipótesis del problema 3, use la técnica de variables de control para reducir la varianza. Use como variable de control a $g(X)^2$, ¿En qué porcentaje se redujo la varianza?"
      ],
      "metadata": {
        "id": "qvTwUDAJxQqs"
      }
    },
    {
      "cell_type": "code",
      "source": [
        "#SOLIUCIÓN DEL PROFESOR\n",
        "from random import gauss\n",
        "from statistics import mean, variance\n",
        "from math import exp, log,sqrt, pi\n",
        "from scipy.stats import pearsonr\n",
        "import matplotlib.pyplot as plt\n",
        "\n",
        "def g(x):\n",
        "  if x>log(2):\n",
        "    return exp(x)-2\n",
        "  else:\n",
        "    return 0\n",
        "\n",
        "def fc(x):\n",
        "  return g(x)**2\n",
        "def phi(x):\n",
        "  return(1/sqrt(2*pi))*exp(-x**2/2)\n",
        "def h(x):\n",
        "  return (1/sqrt(2*pi))*exp(-x**2/2)\n",
        "l=[]\n",
        "l1=[]\n",
        "l2=[]\n",
        "nr=100000\n",
        "lc=[]\n",
        "for i in range(nr):\n",
        "  x=gauss(0,1)\n",
        "  l.append(g(x))\n",
        "  l1.append((g(x)+g(-x))/2)\n",
        "  lc.append(fc(x))\n",
        "  x=gauss(1.7,1)\n",
        "  l2.append(g(x)*phi(x)/h(x))\n",
        "m=mean(l)\n",
        "v=variance(l)\n",
        "print(m,v)\n",
        "m1=mean(l1)\n",
        "v1=variance(l1)\n",
        "print(m1,v1)\n",
        "print(100*(v-v1)/v)\n",
        "r=100*pearsonr(l,lc)[0]**2\n",
        "print(r)\n",
        "x1=0\n",
        "x2=3\n",
        "x=x1\n",
        "b=[]\n",
        "while x<x2:\n",
        "  b.append(x)\n",
        "  x=x+(x2-x1)/100\n",
        "ly=[]\n",
        "for x in b:\n",
        "  ly.append(g(x)*phi(x))\n",
        "plt.figure(figsize=(4,3))\n",
        "plt.plot(b, ly)\n",
        "plt.show()\n",
        "m=mean(l2)\n",
        "v=variance(l2)\n",
        "print(m,v)"
      ],
      "metadata": {
        "colab": {
          "base_uri": "https://localhost:8080/",
          "height": 378
        },
        "id": "xluPIdC9-X3F",
        "outputId": "edb17827-6e81-4cad-eb48-e54052ad0d6d"
      },
      "execution_count": null,
      "outputs": [
        {
          "output_type": "stream",
          "name": "stdout",
          "text": [
            "0.5290845446319364 3.0537414363107946\n",
            "0.5313126613388461 1.4178796802761942\n",
            "53.56909843719036\n",
            "52.06905216059102\n"
          ]
        },
        {
          "output_type": "display_data",
          "data": {
            "text/plain": [
              "<Figure size 400x300 with 1 Axes>"
            ],
            "image/png": "[encoded data removed]"
          },
          "metadata": {}
        },
        {
          "output_type": "stream",
          "name": "stdout",
          "text": [
            "7.132248177013722 150.85972715483015\n"
          ]
        }
      ]
    },
    {
      "cell_type": "code",
      "source": [
        "#SOLIUCIÓN DEL PROFESOR\n",
        "from random import gauss\n",
        "from statistics import mean, variance\n",
        "from math import exp, log,sqrt, pi\n",
        "from scipy.stats import pearsonr\n",
        "import matplotlib.pyplot as plt\n",
        "\n",
        "def g(x):\n",
        "  if x>log(2):\n",
        "    return exp(x)-2\n",
        "  else:\n",
        "    return 0\n",
        "\n",
        "def fc(x):\n",
        "  return g(x)**2\n",
        "\n",
        "l=[]\n",
        "l1=[]\n",
        "lc=[]\n",
        "nr=100000\n",
        "\n",
        "for i in range(nr):\n",
        "  z=gauss(0,1)\n",
        "  l.append(g(z))\n",
        "  l1.append((g(z)+g(-z))/2)\n",
        "  lc.append(fc(z))\n",
        "\n",
        "m=mean(l)\n",
        "v=variance(l)\n",
        "print(m,v)\n",
        "m1=mean(l1)\n",
        "v1=variance(l1)\n",
        "\n",
        "print(m1,v1)\n",
        "print(100*(v-v1)/v)\n",
        "r= pearsonr(l,lc)[0]\n",
        "print(100*r**2)"
      ],
      "metadata": {
        "colab": {
          "base_uri": "https://localhost:8080/"
        },
        "id": "zfa0x4wKQytf",
        "outputId": "b99103a2-3ebe-4296-e84e-bab4e77edcc3"
      },
      "execution_count": null,
      "outputs": [
        {
          "output_type": "stream",
          "name": "stdout",
          "text": [
            "0.5366369653238227 3.1601786205004\n",
            "0.5376329417156132 1.4920486879736892\n",
            "52.78593816518416\n",
            "63.08789030444125\n"
          ]
        }
      ]
    },
    {
      "cell_type": "code",
      "source": [
        "from random import gauss\n",
        "from statistics import mean, variance\n",
        "import math\n",
        "\n",
        "# Definición de la función g(x)\n",
        "def g(x):\n",
        "    if x > math.log(2):  # ln(2)\n",
        "        return math.exp(x) - 2\n",
        "    else:\n",
        "        return 0\n",
        "\n",
        "nr = 100000  # Número de simulaciones\n",
        "l = []       # Lista para g(X)\n",
        "l2 = []      # Lista para g(X)^2\n",
        "\n",
        "# Bucle de simulación\n",
        "for i in range(nr):\n",
        "    z = gauss(0, 1)  # Generar un número normal estándar\n",
        "    gx = g(z)\n",
        "    l.append(gx)        # g(X)\n",
        "    l2.append(gx ** 2)  # g(X)^2\n",
        "\n",
        "# Cálculo de medias\n",
        "m = mean(l)        # Media de g(X)\n",
        "m2 = mean(l2)      # Media de g(X)^2\n",
        "v = variance(l)    # Varianza de g(X)\n",
        "v2 = variance(l2)  # Varianza de g(X)^2\n",
        "\n",
        "# Coeficiente de regresión c para la variable de control\n",
        "cov_g_g2 = sum((l[i] - m) * (l2[i] - m2) for i in range(nr)) / (nr - 1)\n",
        "c = cov_g_g2 / v2\n",
        "\n",
        "# Nueva estimación usando la técnica de variables de control\n",
        "adjusted_l = [l[i] - c * (l2[i] - m2) for i in range(nr)]\n",
        "m_adjusted = mean(adjusted_l)\n",
        "v_adjusted = variance(adjusted_l)\n",
        "\n",
        "# Porcentaje de reducción de la varianza\n",
        "reduccion_varianza = 100 * (v - v_adjusted) / v\n",
        "\n",
        "print(m, v)\n",
        "print(m_adjusted, v_adjusted)\n",
        "print(reduccion_varianza)\n"
      ],
      "metadata": {
        "colab": {
          "base_uri": "https://localhost:8080/"
        },
        "id": "r6kmAjkt5j-Q",
        "outputId": "3d8d7aae-46a9-4b30-9ee0-e9883d78370d"
      },
      "execution_count": null,
      "outputs": [
        {
          "output_type": "stream",
          "name": "stdout",
          "text": [
            "0.5397784671403169 3.363662889539407\n",
            "0.5397784671403169 1.6790698947132265\n",
            "50.0820994893711\n"
          ]
        }
      ]
    },
    {
      "cell_type": "markdown",
      "source": [
        "5. X sigue una distribución normal estándar, Y sigue una distribución normal con media 1 y varianza 1, y X y Y son independientes. \\\\\n",
        "A) Estime por simulación la probabilidad de que $X + Y > 2$. \\\\\n",
        "B) Use la variable aleatoria $E(I|Y)$, donde $I = \\left\\{ \\begin{array}{lcc} 1 & si & X + Y > 2 \\\\ \\\\ 0 & \\text{en caso contrario} \\end{array} \\right.$, para reducir la varianza por condicionamiento. ¿En qué porcentaje se redujo la varianza?"
      ],
      "metadata": {
        "id": "RD_0ynalmHRu"
      }
    },
    {
      "cell_type": "code",
      "source": [
        "from random import gauss\n",
        "from math import exp, sqrt\n",
        "from statistics import mean, variance\n",
        "from scipy.stats import pearsonr\n",
        "\n",
        "def I(x,y):\n",
        "  if x + y > 2:\n",
        "    return 1\n",
        "  else:\n",
        "    return 0\n",
        "\n",
        "nr = 1000000\n",
        "l = []\n",
        "\n",
        "for i in range(nr):\n",
        "  x = gauss(0,1)\n",
        "  y = gauss(1,1)\n",
        "  l.append(I(x,y))\n",
        "\n",
        "m = mean(l)\n",
        "v = variance(l)\n",
        "print(m,v)"
      ],
      "metadata": {
        "colab": {
          "base_uri": "https://localhost:8080/"
        },
        "id": "1pNuNjXdoLFF",
        "outputId": "eb2af3dc-9a0a-45ec-c451-93e18a44aa42"
      },
      "execution_count": null,
      "outputs": [
        {
          "output_type": "stream",
          "name": "stdout",
          "text": [
            "0.239183 0.18197467448567448\n"
          ]
        }
      ]
    },
    {
      "cell_type": "code",
      "source": [
        "from random import gauss\n",
        "from math import exp, sqrt\n",
        "from statistics import mean, variance\n",
        "from scipy.stats import pearsonr, norm\n",
        "\n",
        "def I(x,y):\n",
        "  if x + y > 2:\n",
        "    return 1\n",
        "  else:\n",
        "    return 0\n",
        "\n",
        "nr = 1000000\n",
        "l = []\n",
        "l1 = []\n",
        "\n",
        "for i in range(nr):\n",
        "  x = gauss(0,1)\n",
        "  y = gauss(1,1)\n",
        "  l.append(I(x,y))\n",
        "  q = 2 - y\n",
        "  l1.append(1 - norm.cdf(q, 0, 1))\n",
        "\n",
        "m = mean(l)\n",
        "v = variance(l)\n",
        "print(m,v)\n",
        "m1 = mean(l1)\n",
        "v1 = variance(l1)\n",
        "print(m1,v1)\n",
        "print(100 * (v - v1) / v)"
      ],
      "metadata": {
        "colab": {
          "base_uri": "https://localhost:8080/"
        },
        "id": "yQMWe58wpdDr",
        "outputId": "0dfb4622-894e-4ef4-d967-bc39a9599b3c"
      },
      "execution_count": 8,
      "outputs": [
        {
          "output_type": "stream",
          "name": "stdout",
          "text": [
            "0.240731 0.18277976841876842\n",
            "0.23999774380330344 0.05574715185393794\n",
            "69.50037067219873\n"
          ]
        }
      ]
    },
    {
      "cell_type": "markdown",
      "source": [
        "6. X sigue una distribución normal estándar, Y sigue una distribución exponencial con parámetro igual a 2, y X y Y son independientes. \\\\\n",
        "A) Estime por simulación la probabilidad de que X + Y > 1. \\\\\n",
        "B) Use la variable aleatoria $E(I|Y)$ donde $I = \\left\\{ \\begin{array}{lcc} 1 & si & X + Y > 1 \\\\ \\\\ 0 & \\text{en caso contrario} \\end{array} \\right.$, para reducir la varianza por condicionamiento. ¿En qué porcentaje se redujo la varianza?"
      ],
      "metadata": {
        "id": "g1LuUeD8xoMz"
      }
    },
    {
      "cell_type": "code",
      "source": [
        "from random import gauss, expovariate\n",
        "from math import exp, sqrt\n",
        "from statistics import mean, variance\n",
        "from scipy.stats import norm\n",
        "def I(x, y):\n",
        "    if x + y > 1:\n",
        "        return 1\n",
        "    else:\n",
        "        return 0\n",
        "nr = 100000\n",
        "l = []\n",
        "l1 = []\n",
        "for i in range(nr):\n",
        "    x = gauss(0, 1)\n",
        "    y = expovariate(2)\n",
        "    l.append(I(x, y))\n",
        "    q = 1- y\n",
        "    l1.append(1 - norm.cdf(q, 0, 1))\n",
        "m = mean(l)\n",
        "v = variance(l)\n",
        "print(\"a)probabilidad:\",m)\n",
        "#print(m, v)\n",
        "m1 = mean(l1)\n",
        "v1 = variance(l1)\n",
        "print(\"E(X) y V(X) reducida:\")\n",
        "print(m1, v1)\n",
        "\n",
        "print(\"El porcentaje que se redujo la varianza es = \",100*(v - v1)/v)"
      ],
      "metadata": {
        "colab": {
          "base_uri": "https://localhost:8080/"
        },
        "id": "MVuqI0vS5Brw",
        "outputId": "155c7797-3784-4979-981e-89bd1b19c7d4"
      },
      "execution_count": 10,
      "outputs": [
        {
          "output_type": "stream",
          "name": "stdout",
          "text": [
            "a)probabilidad: 0.31783\n",
            "E(X) y V(X) reducida:\n",
            "0.3179993847111998 0.02850053831953608\n",
            "El porcentaje que se redujo la varianza es =  86.8549810717755\n"
          ]
        }
      ]
    },
    {
      "cell_type": "code",
      "source": [
        "#SOLUCIÓN DEL PROFESOR\n",
        "from random import gauss,expovariate\n",
        "from math import exp, sqrt\n",
        "from statistics import mean, variance\n",
        "from scipy.stats import pearsonr, norm\n",
        "\n",
        "def I(x,y):\n",
        "  if x + y > 1:\n",
        "    return 1\n",
        "  else:\n",
        "    return 0\n",
        "def EIY(y):\n",
        "  return 1-norm.cdf(1-y)\n",
        "\n",
        "def EIX(x):\n",
        "  if x < 1:\n",
        "    return exp(-2*(1-x))\n",
        "  else:\n",
        "    return 1\n",
        "\n",
        "nr = 1000000\n",
        "l = []\n",
        "l1 = []\n",
        "l2=[]\n",
        "for i in range(nr):\n",
        "  x = gauss(0,1)\n",
        "  y = expovariate(2)\n",
        "  l.append(I(x,y))\n",
        "  l1.append(EIY(y))\n",
        "  l2.append(EIX(x))\n",
        "\n",
        "m = mean(l)\n",
        "v = variance(l)\n",
        "print(m,v)\n",
        "m1 = mean(l1)\n",
        "v1 = variance(l1)\n",
        "print(m1,v1)\n",
        "print(100 * (v - v1) / v)\n",
        "m2=mean(l2)\n",
        "v2=variance(l2)\n",
        "print(m2,v2)\n",
        "print(100 * (v - v2) / v)"
      ],
      "metadata": {
        "id": "QoYeBHCOCtWo",
        "colab": {
          "base_uri": "https://localhost:8080/"
        },
        "outputId": "04109cff-ff45-47cd-8b96-fb6b4e832915"
      },
      "execution_count": null,
      "outputs": [
        {
          "output_type": "stream",
          "name": "stdout",
          "text": [
            "0.317511 0.21669798157698159\n",
            "0.31714593967506993 0.028229818630636932\n",
            "86.97273577483307\n",
            "0.31778361405074884 0.13187330006676393\n",
            "39.14419548023517\n"
          ]
        }
      ]
    },
    {
      "cell_type": "markdown",
      "source": [
        "7. El precio de una acción sigue un movimiento Browniano geométrico, $P_t = P_0 e^{(\\mu - \\frac{\\sigma^2}{2})t + \\sigma \\sqrt{t}Z}$, donde Z sigue una distribución normal estándar, $\\mu = 0.001, \\sigma = 0.02, P_0 = 10$. \\\\\n",
        "A) Estime por simulación la esperanza de $P_{30}$. \\\\\n",
        "B) Use a Z como variable de control para reducir la varianza, ¿En qué porcentaje se redujo la varianza? \\\\\n",
        "C) ¿Cuál es el error porcentual del valor obtenido para $P_{30}$ obtenido utilizando la variable de control?"
      ],
      "metadata": {
        "id": "p-AWqJoMqjAJ"
      }
    },
    {
      "cell_type": "code",
      "source": [
        "from random import gauss\n",
        "from math import exp, sqrt\n",
        "from statistics import mean, variance\n",
        "from scipy.stats import pearsonr\n",
        "from numpy import cov\n",
        "def precio(p0, u, o, t):\n",
        "    z = gauss(0, 1)\n",
        "    return p0*exp((u - o**2/2)*t + o*sqrt(t)*z), z\n",
        "nr = 100000\n",
        "t = 30\n",
        "u = 0.001\n",
        "o = 0.02\n",
        "p0 = 10\n",
        "l = []\n",
        "lz = []\n",
        "for i in range(nr):\n",
        "    p, z = precio(p0, u, o, t)\n",
        "    l.append(p)\n",
        "    lz.append(z)\n",
        "m = mean(l)\n",
        "v = variance(l)\n",
        "print('Resultado sin reducción de varianza:')\n",
        "print('E(x)=',m,',','V(x)', v)\n",
        "r = pearsonr(l, lz)[0]\n",
        "por = 100*r**2\n",
        "print('RP=',por)\n",
        "v1 = v*(1 - por/100)\n",
        "print('V(Z)=',v1)\n",
        "p_ver = p0*exp(u*t)\n",
        "print('Valor real:',p_ver)\n",
        "e1 = 100*(m - p_ver)/p_ver\n",
        "print('error=',e1)\n",
        "co = cov(l, lz)\n",
        "c = - co[0, 1]/co[1,1]\n",
        "print('c=',c)\n",
        "ll = []\n",
        "for i in range(nr):\n",
        "    ll.append(l[i] + c*lz[i])\n",
        "m1 = mean(ll)\n",
        "print('E(Z)=E(X+c(Y-u))=',m1)\n",
        "e2 = 100*(m1 - p_ver)/p_ver\n",
        "print('error=', e2)"
      ],
      "metadata": {
        "id": "KiaZtE8otbux",
        "outputId": "9508b822-7a54-48f8-af76-023fc3e50b63",
        "colab": {
          "base_uri": "https://localhost:8080/"
        }
      },
      "execution_count": 7,
      "outputs": [
        {
          "output_type": "stream",
          "name": "stdout",
          "text": [
            "Resultado sin reducción de varianza:\n",
            "E(x)= 10.308097868052664 , V(x) 1.2920266853317908\n",
            "RP= 99.40191850512264\n",
            "V(Z)= 0.007727372513846871\n",
            "Valor real: 10.304545339535169\n",
            "error= 0.03447535432607256\n",
            "c= -1.1292205981160535\n",
            "E(Z)=E(X+c(Y-u))= 10.304989593780126\n",
            "error= 0.004311245477788936\n"
          ]
        }
      ]
    },
    {
      "cell_type": "markdown",
      "source": [
        "8. La variable aleatoria X sigue una distribución exponencial con parámetro 3. \\\\\n",
        "A) Estime por simulación el valor esperado de $\\sqrt(x)$. \\\\\n",
        "B) Use la técnica de variables antitéticas para reducir la varianza, ¿En qué porcentaje se redujo ésta? \\\\\n",
        "C) Use a la variable X como variable de control para reducir la varianza, ¿En qué porcentaje se redujo ésta? \\\\\n",
        "D) Calcule analíticamente el porcenaje obtenido en el inciso C)"
      ],
      "metadata": {
        "id": "_XWdOfEDvhPG"
      }
    },
    {
      "cell_type": "code",
      "source": [
        "from random import random\n",
        "from math import log,sqrt\n",
        "from statistics import mean,variance\n",
        "from scipy.stats import pearsonr\n",
        "nr=100000\n",
        "l=[]\n",
        "l1=[]\n",
        "l2=[]\n",
        "for i in range(nr):\n",
        "    u=random()\n",
        "    x=-log(u)/3\n",
        "    x1=-log(1-u)/3\n",
        "    l.append(sqrt(x))\n",
        "    l1.append((sqrt(x1)+sqrt(x))/2)\n",
        "    l2.append(x)\n",
        "m=mean(l)\n",
        "v=variance(l)\n",
        "m1=mean(l1)\n",
        "v1=variance(l1)\n",
        "print(\"A)\",'a.',m,'b.',m1)\n",
        "print(v,v1,\"B)\",'RP=',100*(v-v1)/v)\n",
        "print(\"C)\",'c.',100*pearsonr(l,l2)[0]**2)"
      ],
      "metadata": {
        "colab": {
          "base_uri": "https://localhost:8080/"
        },
        "id": "975HCAzzw9g7",
        "outputId": "35a51ab0-af19-4cc9-8b3a-e3ce36bdd011"
      },
      "execution_count": 13,
      "outputs": [
        {
          "output_type": "stream",
          "name": "stdout",
          "text": [
            "A) a. 0.512437976334617 b. 0.5117976102384932\n",
            "0.07194794009801657 0.0018974156489944952 B) RP= 97.36279364439122\n",
            "C) c. 91.49309850146321\n"
          ]
        }
      ]
    }
  ]
}