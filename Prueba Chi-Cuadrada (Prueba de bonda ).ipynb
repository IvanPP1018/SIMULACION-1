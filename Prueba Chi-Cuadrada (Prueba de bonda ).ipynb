{
  "nbformat": 4,
  "nbformat_minor": 0,
  "metadata": {
    "colab": {
      "provenance": [],
      "authorship_tag": "ABX9TyOrhddPHp5ivZBdH06DRMa9",
      "include_colab_link": true
    },
    "kernelspec": {
      "name": "python3",
      "display_name": "Python 3"
    },
    "language_info": {
      "name": "python"
    }
  },
  "cells": [
    {
      "cell_type": "markdown",
      "metadata": {
        "id": "view-in-github",
        "colab_type": "text"
      },
      "source": [
        "<a href=\"https://colab.research.google.com/github/IvanPP1018/SIMULACION-1/blob/main/Prueba%20Chi-Cuadrada%20(Prueba%20de%20bonda%20).ipynb\" target=\"_parent\"><img src=\"https://colab.research.google.com/assets/colab-badge.svg\" alt=\"Open In Colab\"/></a>"
      ]
    },
    {
      "cell_type": "code",
      "execution_count": 1,
      "metadata": {
        "colab": {
          "base_uri": "https://localhost:8080/"
        },
        "id": "S5sgWujqjcpB",
        "outputId": "cde9214c-2b43-45b9-83ce-a7507c30d91a"
      },
      "outputs": [
        {
          "output_type": "stream",
          "name": "stdout",
          "text": [
            "Escriba el nivel de aceptación: 0.9\n",
            "+-----------+-----------------+----------------+------------+------------------+--------------+\n",
            "| Categoría | Frec. Observada | Frec. Esperada | Diferencia | Dif. al Cuadrado | Chi-cuadrado |\n",
            "+-----------+-----------------+----------------+------------+------------------+--------------+\n",
            "|   0-0.19  |        19       |      19.8      |    -0.8    |       0.64       |    0.0323    |\n",
            "|  0.2-0.39 |        18       |      19.8      |    -1.8    |       3.24       |    0.1636    |\n",
            "|  0.4-0.59 |        21       |      19.8      |    1.2     |       1.44       |    0.0727    |\n",
            "|  0.6-0.79 |        21       |      19.8      |    1.2     |       1.44       |    0.0727    |\n",
            "|   0.8-1   |        20       |      19.8      |    0.2     |       0.04       |    0.002     |\n",
            "+-----------+-----------------+----------------+------------+------------------+--------------+\n",
            "\n",
            "H_o = No hay diferencia de frecuencias observadas y en conjunto de frecuencias esperadas\n",
            "H_a = Hay una diferencia entre los conjuntos observado y esperado de frecuencias\n",
            "\n",
            "No se rechaza H_o, es una distribución uniforme, X^2 < 7.779440339734858\n",
            "\n",
            "Número de categorías k =  5\n",
            "Grados de libertad k-1 =  4\n",
            "X^2 =  0.3433\n",
            "Nivel de significancia:  0.1\n",
            "El valor crítico es:  7.7794\n"
          ]
        }
      ],
      "source": [
        "#SIMULACION I\n",
        "\n",
        "#Prueba Chi-Cuadrada (prueba de bondad)\n",
        "\n",
        "#El ejercicio se basa en : Determinar si la siguiente lista de 100 números de 2 dígitos tiene una distribución uniforme con un nivel de aceptación de 90 %.\n",
        "\n",
        "#Como primer caso cargamos de forma directa la tabla proporcionada en el ejercicio o mejor dicho los 100 numeros.\n",
        "\n",
        "# Se carga la lista de 100 numeros.\n",
        "datos = [0.78, 0.98, 0.24, 0.73, 0.43, 0.16, 0.78, 0.47, 0.18, 0.55,\n",
        "         0.04, 0.29, 0.68, 0.77, 0.16, 0.03, 0.79, 0.22, 0.37, 0.80,\n",
        "         0.96, 0.26, 0.91, 0.55, 0.75, 0.55, 0.64, 0.39, 0.53, 0.45,\n",
        "         0.61, 0.14, 0.38, 0.12, 0.40, 0.74, 0.78, 0.98, 0.27, 0.60,\n",
        "         0.43, 0.67, 0.62, 0.32, 0.53, 0.54, 0.24, 0.29, 0.18, 0.08,\n",
        "         0.82, 0.94, 0.19, 0.98, 0.41, 1.00, 0.74, 0.92, 0.14, 0.43,\n",
        "         0.83, 0.88, 0.18, 0.21, 0.50, 0.13, 0.43, 0.69, 0.08, 0.12,\n",
        "         0.22, 0.50, 0.16, 0.11, 0.18, 0.89, 0.80, 0.42, 0.29, 0.87,\n",
        "         0.83, 0.79, 0.65, 0.28, 0.78, 0.49, 0.36, 0.86, 0.87, 0.64,\n",
        "         0.51, 0.07, 0.18, 0.94, 0.50, 0.22, 0.66, 0.91, 0.48, 0.24]\n",
        "\n",
        "# Número de categorías\n",
        "num_categorias = 5\n",
        "# Intervalos de categorías\n",
        "categorias = [\"0-0.19\", \"0.2-0.39\", \"0.4-0.59\", \"0.6-0.79\", \"0.8-1\"]\n",
        "\n",
        "# Crear una lista de listas con un 0 como elemento\n",
        "listas_categorias = [[0] for _ in range(num_categorias)]\n",
        "\n",
        "# Clasificar los datos en cada lista\n",
        "for dato in datos:\n",
        "    # Si el dato cae dentro de un rango, se agrega a la lista correspondiente\n",
        "    if dato < 0.19:\n",
        "        listas_categorias[0].append(dato)\n",
        "    elif dato >= 0.2 and dato < 0.4:\n",
        "        listas_categorias[1].append(dato)\n",
        "    elif dato >= 0.4 and dato < 0.6:\n",
        "        listas_categorias[2].append(dato)\n",
        "    elif dato >= 0.6 and dato < 0.8:\n",
        "        listas_categorias[3].append(dato)\n",
        "    elif dato >= 0.8 and dato <= 1:\n",
        "        listas_categorias[4].append(dato)\n",
        "\n",
        "# Eliminar los 0 iniciales\n",
        "for i in range(num_categorias):\n",
        "    listas_categorias[i].pop(0)\n",
        "\n",
        "# Contar el tamaño de cada lista (frecuencia observada)\n",
        "frecuencia_observada = [len(sublista) for sublista in listas_categorias]\n",
        "\n",
        "# Calcular la frecuencia esperada\n",
        "total_datos = sum(frecuencia_observada)\n",
        "frecuencia_esperada = [round(total_datos / num_categorias, 4)] * num_categorias\n",
        "\n",
        "# Calcular la diferencia entre las frecuencias observadas y esperadas\n",
        "diferencia_frecuencias = [round(obs - esp, 2) for obs, esp in zip(frecuencia_observada, frecuencia_esperada)]\n",
        "\n",
        "# Calcular el cuadrado de la diferencia\n",
        "cuadrados_diferencia = [round(diff ** 2, 2) for diff in diferencia_frecuencias]\n",
        "\n",
        "# Calcular el estadístico de chi-cuadrado\n",
        "chi_cuadrado = [round((diff ** 2) / (total_datos / num_categorias), 4) for diff in diferencia_frecuencias]\n",
        "\n",
        "# Sumar los estadísticos de chi-cuadrado\n",
        "suma_chi_cuadrado = sum(chi_cuadrado)\n",
        "\n",
        "# Realizar la prueba de bondad\n",
        "\n",
        "# Nivel de aceptación\n",
        "nivel_aceptacion = float(input(\"Escriba el nivel de aceptación: \"))\n",
        "# Nivel de significancia\n",
        "nivel_significancia = 1 - nivel_aceptacion\n",
        "nivel_significancia = round(nivel_significancia, 2)\n",
        "# Grados de libertad\n",
        "grados_libertad = num_categorias - 1\n",
        "# Valor crítico\n",
        "import scipy.stats\n",
        "valor_critico = scipy.stats.chi2.ppf(nivel_aceptacion, grados_libertad)\n",
        "\n",
        "# Mostrar los resultados en una tabla\n",
        "from prettytable import PrettyTable\n",
        "\n",
        "tabla_resultados = PrettyTable([\"Categoría\", \"Frec. Observada\", \"Frec. Esperada\", \"Diferencia\", \"Dif. al Cuadrado\", \"Chi-cuadrado\"])\n",
        "for x in range(num_categorias):\n",
        "    tabla_resultados.add_row([categorias[x], frecuencia_observada[x], frecuencia_esperada[x], diferencia_frecuencias[x], cuadrados_diferencia[x], chi_cuadrado[x]])\n",
        "\n",
        "print(tabla_resultados)\n",
        "\n",
        "print(\"\")\n",
        "print(\"H_o = No hay diferencia de frecuencias observadas y en conjunto de frecuencias esperadas\")\n",
        "print(\"H_a = Hay una diferencia entre los conjuntos observado y esperado de frecuencias\")\n",
        "print(\"\")\n",
        "\n",
        "# Evaluación\n",
        "if suma_chi_cuadrado < valor_critico:\n",
        "    print(\"No se rechaza H_o, es una distribución uniforme, X^2 <\", valor_critico)\n",
        "else:\n",
        "    print(\"Se rechaza, X^2 >\", valor_critico)\n",
        "\n",
        "print(\"\")\n",
        "print(\"Número de categorías k = \", num_categorias)\n",
        "print(\"Grados de libertad k-1 = \", grados_libertad)\n",
        "print(\"X^2 = \", suma_chi_cuadrado)\n",
        "print(\"Nivel de significancia: \", nivel_significancia)\n",
        "print(\"El valor crítico es: \", round(valor_critico, 4))\n",
        "\n"
      ]
    },
    {
      "cell_type": "markdown",
      "source": [
        "El código clasifica un conjunto de datos en categorías basadas en intervalos predefinidos. Luego, calcula la frecuencia observada y esperada para cada categoría, y determina si hay una diferencia significativa entre estas frecuencias utilizando el estadístico de chi-cuadrado. Finalmente, compara el estadístico calculado con un valor crítico para determinar si se rechaza la hipótesis nula de que los datos siguen una distribución uniforme en los intervalos especificados."
      ],
      "metadata": {
        "id": "pTz2ficRmAhV"
      }
    }
  ]
}