{
  "nbformat": 4,
  "nbformat_minor": 0,
  "metadata": {
    "colab": {
      "provenance": [],
      "authorship_tag": "ABX9TyNr9dRZASNsSo2zTj3AgeyD",
      "include_colab_link": true
    },
    "kernelspec": {
      "name": "python3",
      "display_name": "Python 3"
    },
    "language_info": {
      "name": "python"
    }
  },
  "cells": [
    {
      "cell_type": "markdown",
      "metadata": {
        "id": "view-in-github",
        "colab_type": "text"
      },
      "source": [
        "<a href=\"https://colab.research.google.com/github/IvanPP1018/SIMULACION-1/blob/main/Pruebas_examen_y_guia.ipynb\" target=\"_parent\"><img src=\"https://colab.research.google.com/assets/colab-badge.svg\" alt=\"Open In Colab\"/></a>"
      ]
    },
    {
      "cell_type": "markdown",
      "source": [
        "**Guia examen**"
      ],
      "metadata": {
        "id": "G34jS-gznXpA"
      }
    },
    {
      "cell_type": "code",
      "source": [
        "from random import gauss\n",
        "from math import exp, sqrt\n",
        "from statistics import mean\n",
        "\n",
        "def precio(p0, t, u, o):\n",
        "    # Calcula el precio usando el modelo de movimiento Browniano geométrico\n",
        "    return p0 * exp((u - o**2 / 2) * t + o * sqrt(t) * gauss(0, 1))\n",
        "\n",
        "def tiempo(p0, o, u, pl):\n",
        "    # Calcula el tiempo hasta que el precio supera el límite pl\n",
        "    p = p0\n",
        "    t = 0\n",
        "    while p < pl:\n",
        "        p = precio(p, 1, u, o)  # Incrementamos día a día\n",
        "        t += 1\n",
        "    return t\n",
        "\n",
        "# Parámetros iniciales\n",
        "n = 100000  # Número de simulaciones\n",
        "p0 = 10  # Precio inicial\n",
        "u = 0.002  # Media\n",
        "o = 0.01  # Volatilidad\n",
        "pl = 10.5  # Precio límite\n",
        "\n",
        "# Simulamos y calculamos el valor esperado del tiempo\n",
        "tiempos = [tiempo(p0, o, u, pl) for _ in range(n)]\n",
        "D = mean(tiempos)\n",
        "print(f'(a) Deben de pasar {D:.2f} días para que la acción supere el precio de {pl}.')\n"
      ],
      "metadata": {
        "colab": {
          "base_uri": "https://localhost:8080/"
        },
        "id": "JA3kPXyG1wn_",
        "outputId": "c0c1d999-6800-44a5-fa30-eda1c46c6ee3"
      },
      "execution_count": null,
      "outputs": [
        {
          "output_type": "stream",
          "name": "stdout",
          "text": [
            "(a) Deben de pasar 28.28 días para que la acción supere el precio de 10.5.\n"
          ]
        }
      ]
    },
    {
      "cell_type": "code",
      "source": [
        "from random import gauss\n",
        "from math import exp, sqrt\n",
        "from statistics import mean, variance\n",
        "from scipy.stats import pearsonr\n",
        "\n",
        "def precio_con_control(p0, t, u, o):\n",
        "    # Calcula el precio y la variable de control (gauss(0,1))\n",
        "    y = gauss(0, 1)  # Variable auxiliar gaussiana\n",
        "    P = p0 * exp((u - o**2 / 2) * t + o * sqrt(t) * y)\n",
        "    return P, y\n",
        "\n",
        "def tiempo_con_control(p0, o, u, pl):\n",
        "    # Calcula el tiempo hasta que el precio supera el límite, junto con la suma de variables de control\n",
        "    p = p0\n",
        "    t = 0\n",
        "    suma_y = 0  # Suma de las variables de control\n",
        "    while p < pl:\n",
        "        p, y = precio_con_control(p, 1, u, o)\n",
        "        t += 1\n",
        "        suma_y += y\n",
        "    return t, suma_y\n",
        "\n",
        "# Parámetros iniciales\n",
        "n = 100000  # Número de simulaciones\n",
        "p0 = 10  # Precio inicial\n",
        "u = 0.002  # Media\n",
        "o = 0.01  # Volatilidad\n",
        "pl = 10.5  # Precio límite\n",
        "\n",
        "# Simulamos y calculamos con control\n",
        "tiempos_control = []\n",
        "control_vars = []\n",
        "for _ in range(n):\n",
        "    t, y_sum = tiempo_con_control(p0, o, u, pl)\n",
        "    tiempos_control.append(t)\n",
        "    control_vars.append(y_sum)\n",
        "\n",
        "# Calculamos la reducción de varianza\n",
        "var_original = variance(tiempos_control)\n",
        "# Usamos la correlación para estimar la varianza ajustada\n",
        "correlacion = pearsonr(tiempos_control, control_vars)[0]\n",
        "var_ajustada = var_original * (1 - correlacion**2)\n",
        "reduccion_varianza = 100 * (1 - var_ajustada / var_original)\n",
        "\n",
        "print(f'(b) Reducción de varianza: {reduccion_varianza:.2f}%')\n"
      ],
      "metadata": {
        "colab": {
          "base_uri": "https://localhost:8080/"
        },
        "id": "B8XYEzCy1yYL",
        "outputId": "1ece6d99-226e-47c2-81f5-deb2aae460bb"
      },
      "execution_count": null,
      "outputs": [
        {
          "output_type": "stream",
          "name": "stdout",
          "text": [
            "(b) Reducción de varianza: 98.97%\n"
          ]
        }
      ]
    },
    {
      "cell_type": "markdown",
      "source": [
        "**Ejercicio 2**\n"
      ],
      "metadata": {
        "id": "YzWJKIG9zkEr"
      }
    },
    {
      "cell_type": "code",
      "source": [
        "from random import random, expovariate\n",
        "from statistics import mean\n",
        "from math import sqrt\n",
        "\n",
        "# Número de simulaciones\n",
        "n = 100000\n",
        "resultados = []\n",
        "\n",
        "for _ in range(n):\n",
        "    # Generar X usando su función de densidad\n",
        "    u = random()\n",
        "    x = (3 * u + 1) ** 2  # Transformación inversa de la función de densidad f_X(x)\n",
        "\n",
        "    # Generar Y con distribución exponencial de parámetro 3\n",
        "    y = expovariate(3)\n",
        "\n",
        "    # Indicador: I = 1 si X + Y > 3, de lo contrario 0\n",
        "    if x + y > 3:\n",
        "        resultados.append(1)\n",
        "    else:\n",
        "        resultados.append(0)\n",
        "\n",
        "# Calcular la probabilidad estimada\n",
        "probabilidad = mean(resultados)\n",
        "print(f\"(a) Probabilidad de que X + Y > 3: {probabilidad:.4f}\")\n"
      ],
      "metadata": {
        "colab": {
          "base_uri": "https://localhost:8080/"
        },
        "id": "cvSmwGh53m6Y",
        "outputId": "f2ce2d33-e88f-43e5-d7b8-b585c4fe0b9f"
      },
      "execution_count": null,
      "outputs": [
        {
          "output_type": "stream",
          "name": "stdout",
          "text": [
            "(a) Probabilidad de que X + Y > 3: 0.7875\n"
          ]
        }
      ]
    },
    {
      "cell_type": "code",
      "source": [
        "from statistics import variance\n",
        "\n",
        "# Número de simulaciones\n",
        "n = 10000\n",
        "indicadores = []\n",
        "condicionales = []\n",
        "\n",
        "for _ in range(n):\n",
        "    # Generar Y con distribución exponencial de parámetro 3\n",
        "    y = expovariate(3)\n",
        "\n",
        "    # Calcular el valor esperado condicional E[I_Y | Y]\n",
        "    if y < 3:\n",
        "        EIY = 2 - sqrt(3 - y)\n",
        "    else:\n",
        "        EIY = 0\n",
        "    condicionales.append(EIY)\n",
        "\n",
        "    # Generar X usando su función de densidad\n",
        "    u = random()\n",
        "    x = (3 * u + 1) ** 2\n",
        "\n",
        "    # Indicador: I = 1 si X + Y > 3, de lo contrario 0\n",
        "    if x + y > 3:\n",
        "        indicadores.append(1)\n",
        "    else:\n",
        "        indicadores.append(0)\n",
        "\n",
        "# Calcular la reducción de varianza\n",
        "var_original = variance(indicadores)\n",
        "var_condicional = variance(condicionales)\n",
        "reduccion_varianza = 100 * (var_original - var_condicional) / var_original\n",
        "\n",
        "print(f\"(b) Reducción de varianza: {reduccion_varianza:.2f}%\")\n"
      ],
      "metadata": {
        "colab": {
          "base_uri": "https://localhost:8080/"
        },
        "id": "8TeOZ7Mk3sFC",
        "outputId": "fde47a2b-d6e6-4ca6-9d20-7f6fa29d3acf"
      },
      "execution_count": null,
      "outputs": [
        {
          "output_type": "stream",
          "name": "stdout",
          "text": [
            "(b) Reducción de varianza: 92.07%\n"
          ]
        }
      ]
    },
    {
      "cell_type": "code",
      "source": [
        "#la variable aleatoria x  con funcion de densidad  1/(2*\\sqrt(x))\n",
        "#y sigue distribución exponencial con parametro 3\n",
        "#x,y independientes\n",
        "\n",
        "#A) PROBABILIDAD DE QUE X+Y>3\n",
        "from random import random,expovariate\n",
        "from statistics import mean\n",
        "import numpy as np\n",
        "from math import sqrt\n",
        "n=100000\n",
        "l=[]\n",
        "for i in range(n):\n",
        "    #variable x,basado en su funcion de densidad:\n",
        "    u=random()\n",
        "    x=(u+1)**2\n",
        "    #variable y:\n",
        "    y=expovariate(3)\n",
        "    if x+y>3:\n",
        "        I=1\n",
        "    else:\n",
        "        I=0\n",
        "    l.append(I)\n",
        "print('A)Probabilidad de que x+y>3:', mean(l))\n",
        "\n",
        "\n",
        "#B) USA VARIABLE ALEATORIA E(I|Y) PARA REDUCIR LA VARIANZA POR CONDICIONAMIENTO\n",
        "#¿CUANTO REDUJO?\n",
        "from statistics import variance\n",
        "nr=10000\n",
        "l=[]\n",
        "l1=[]\n",
        "for i in range(nr):\n",
        "    #variable x:\n",
        "    u=random()\n",
        "    x=(u+1)**2\n",
        "    #variable y:\n",
        "    y=expovariate(3)\n",
        "\n",
        "    if x+y>3:\n",
        "        I=1\n",
        "    else:\n",
        "        I=0\n",
        "    l.append(I)\n",
        "\n",
        "    #P(X+Y>3)\n",
        "    #X tiene funcion de densidad: 0 si x<0 ; x^2/4 si 0<x<2 ; ; 1 si x>2\n",
        "    #Y sigue una distribución 1/1/3*e^-y/3\n",
        "\n",
        "    #Se esta buscando: P(X>3-Y)   (con despeje)\n",
        "    #P(X>3-Y)=\\int_(3-y)^4 \\sqrt(x)-1 dx    =    e^(-(5-y))\n",
        "    #\\integral_limite obtenido ^ infinito  (distribución que sigue x) dx\n",
        "\n",
        "    if y<3:\n",
        "        #EIY=16/3-2/3*(3-y)**(3/2)-(1+y)\n",
        "        EIY=2-sqrt(3-y)\n",
        "    else:\n",
        "        EIY=0\n",
        "    l1.append(EIY)\n",
        "\n",
        "\n",
        "m=mean(l)\n",
        "m1=mean(l1)\n",
        "print('\\nB)Medias',m)\n",
        "v=variance(l)\n",
        "v1=variance(l1)\n",
        "print('Varianzas',v,v1)\n",
        "print('Reducción de varianza',100*(v-v1)/v,'%')\n"
      ],
      "metadata": {
        "colab": {
          "base_uri": "https://localhost:8080/"
        },
        "id": "EU0CQ_JTzjDV",
        "outputId": "549ca29f-8378-41c5-a057-8abd5e1bf201"
      },
      "execution_count": 2,
      "outputs": [
        {
          "output_type": "stream",
          "name": "stdout",
          "text": [
            "A)Probabilidad de que x+y>3: 0.37009\n",
            "\n",
            "B)Medias 0.3613\n",
            "Varianzas 0.2307853885388539 0.01218404514781568\n",
            "Reducción de varianza 94.72061674919925 %\n"
          ]
        }
      ]
    }
  ]
}