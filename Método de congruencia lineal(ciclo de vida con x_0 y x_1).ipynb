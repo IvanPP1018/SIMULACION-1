{
  "nbformat": 4,
  "nbformat_minor": 0,
  "metadata": {
    "colab": {
      "provenance": [],
      "authorship_tag": "ABX9TyPCGvTu6JShSgTvRWh7t5eo",
      "include_colab_link": true
    },
    "kernelspec": {
      "name": "python3",
      "display_name": "Python 3"
    },
    "language_info": {
      "name": "python"
    }
  },
  "cells": [
    {
      "cell_type": "markdown",
      "metadata": {
        "id": "view-in-github",
        "colab_type": "text"
      },
      "source": [
        "<a href=\"https://colab.research.google.com/github/IvanPP1018/SIMULACION-1/blob/main/M%C3%A9todo%20de%20congruencia%20lineal(ciclo%20de%20vida%20con%20x_0%20y%20x_1).ipynb\" target=\"_parent\"><img src=\"https://colab.research.google.com/assets/colab-badge.svg\" alt=\"Open In Colab\"/></a>"
      ]
    },
    {
      "cell_type": "code",
      "source": [
        "def congruencia_lineal(x0, x1, a, b, m, n):\n",
        "    # Lista para almacenar los números generados\n",
        "    numeros_generados = []\n",
        "\n",
        "    # Diccionario para almacenar el índice de la primera aparición de cada número generado\n",
        "    indice_primera_aparicion = {}\n",
        "\n",
        "    # Primeros dos números generados\n",
        "    numeros_generados.append(x0)\n",
        "    numeros_generados.append(x1)\n",
        "    indice_primera_aparicion[x0] = 0  # Guardar el índice de la primera aparición de x0\n",
        "    indice_primera_aparicion[x1] = 1  # Guardar el índice de la primera aparición de x1\n",
        "\n",
        "    # Generar más números\n",
        "    for i in range(2, n):\n",
        "        # Siguiente número generado\n",
        "        xn = (a * numeros_generados[-1] + b * numeros_generados[-2]) % m\n",
        "        numeros_generados.append(xn)\n",
        "        # Verificar si xn ya ha sido generado antes\n",
        "        if xn in indice_primera_aparicion:\n",
        "            ciclo_inicio = indice_primera_aparicion[xn]\n",
        "            ciclo_fin = i\n",
        "            ciclo_vida = ciclo_fin - ciclo_inicio\n",
        "            return ciclo_vida\n",
        "        else:\n",
        "            indice_primera_aparicion[xn] = i\n",
        "\n",
        "    return None  # Si no se encuentra ningún ciclo, devolvemos None\n",
        "\n",
        "# Solicitar al usuario que ingrese los parámetros\n",
        "x0 = int(input(\"Ingrese el valor de x0: \"))\n",
        "x1 = int(input(\"Ingrese el valor de x1: \"))\n",
        "a = int(input(\"Ingrese el coeficiente a: \"))\n",
        "b = int(input(\"Ingrese el coeficiente b: \"))\n",
        "m = int(input(\"Ingrese el módulo m: \"))\n",
        "n = int(input(\"Ingrese el número de iteraciones n: \"))\n",
        "\n",
        "# Calcular ciclo de vida\n",
        "ciclo_vida = congruencia_lineal(x0, x1, a, b, m, n)\n",
        "\n",
        "# Mostrar el ciclo de vida\n",
        "if ciclo_vida is not None:\n",
        "    print(\"El ciclo de vida es:\", ciclo_vida)\n",
        "else:\n",
        "    print(\"No se encontró un ciclo de vida en las primeras\", n, \"iteraciones.\")\n"
      ],
      "metadata": {
        "colab": {
          "base_uri": "https://localhost:8080/"
        },
        "id": "s4nhfcl3swjh",
        "outputId": "3b95b2f8-4023-4716-eba9-f3679e025424"
      },
      "execution_count": 13,
      "outputs": [
        {
          "output_type": "stream",
          "name": "stdout",
          "text": [
            "Ingrese el valor de x0: 21\n",
            "Ingrese el valor de x1: 43\n",
            "Ingrese el coeficiente a: 21\n",
            "Ingrese el coeficiente b: 15\n",
            "Ingrese el módulo m: 64\n",
            "Ingrese el número de iteraciones n: 100\n",
            "El ciclo de vida es: 6\n"
          ]
        }
      ]
    },
    {
      "cell_type": "markdown",
      "source": [
        "(e) x_j+1 = (21x_j + 15x_j−1)mod(64) con x_0 = 21 y x_j = 43"
      ],
      "metadata": {
        "id": "UU-Oo-Pas8c4"
      }
    },
    {
      "cell_type": "code",
      "source": [
        "congruencia_lineal(21,43,21,15,64,100)"
      ],
      "metadata": {
        "colab": {
          "base_uri": "https://localhost:8080/"
        },
        "id": "dREyvioWtGwH",
        "outputId": "8343b63e-6736-48bc-99bb-1d6cae97fe26"
      },
      "execution_count": 14,
      "outputs": [
        {
          "output_type": "execute_result",
          "data": {
            "text/plain": [
              "6"
            ]
          },
          "metadata": {},
          "execution_count": 14
        }
      ]
    }
  ]
}