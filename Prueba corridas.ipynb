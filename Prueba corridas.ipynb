{
  "nbformat": 4,
  "nbformat_minor": 0,
  "metadata": {
    "colab": {
      "provenance": [],
      "authorship_tag": "ABX9TyPfpZuILRlHqu8DKqhv+F1r",
      "include_colab_link": true
    },
    "kernelspec": {
      "name": "python3",
      "display_name": "Python 3"
    },
    "language_info": {
      "name": "python"
    }
  },
  "cells": [
    {
      "cell_type": "markdown",
      "metadata": {
        "id": "view-in-github",
        "colab_type": "text"
      },
      "source": [
        "<a href=\"https://colab.research.google.com/github/IvanPP1018/SIMULACION-1/blob/main/Prueba%20corridas.ipynb\" target=\"_parent\"><img src=\"https://colab.research.google.com/assets/colab-badge.svg\" alt=\"Open In Colab\"/></a>"
      ]
    },
    {
      "cell_type": "code",
      "execution_count": null,
      "metadata": {
        "id": "ST8S3gIkg3i-"
      },
      "outputs": [],
      "source": [
        "#Lista de valores\n",
        "lista_valores = [0.048, 0.591, 0.478, 0.166, 0.932, 0.926, 0.007, 0.551, 0.362, 0.533,\n",
        "   0.368, 0.437, 0.178, 0.411, 0.545, 0.787, 0.594, 0.086, 0.951, 0.772,\n",
        "   0.298, 0.199, 0.157, 0.401, 0.631]\n",
        "\n",
        "print(\"Prueba de Corridas\")  # Es una prueba de independencia\n",
        "n = len(lista_valores)\n",
        "corridas = []\n",
        "i = 1\n",
        "j = 0\n",
        "while i < n and j <= (n - 1):\n",
        "    diferencia = lista_valores[i] - lista_valores[j]\n",
        "    if diferencia <= 0:\n",
        "        corridas.append(0)  # se agrega un 0 si x_i <= x_i-1\n",
        "        i += 1\n",
        "        j += 1\n",
        "    else:\n",
        "        corridas.append(1)  # 1 en caso contrario\n",
        "        i += 1\n",
        "        j += 1\n",
        "\n",
        "total_corridas = 0\n",
        "if corridas[0] == 1:\n",
        "    total_corridas += 1\n",
        "else:\n",
        "    total_corridas += 1\n",
        "for k in range(len(corridas) - 1):\n",
        "    if corridas[k + 1] != corridas[k]:\n",
        "        total_corridas += 1\n",
        "\n",
        "relleno = [\"....\"]\n",
        "corridas = relleno + corridas\n",
        "\n",
        "# Tabla\n",
        "from prettytable import PrettyTable\n",
        "\n",
        "tabla_corridas = PrettyTable([\"n\", \"X_i\", \"i_corridas\"])\n",
        "\n",
        "for x in range(n):\n",
        "    tabla_corridas.add_row([x, lista_valores[x], corridas[x]])  # datos\n",
        "print(tabla_corridas)\n",
        "\n",
        "# Hipótesis\n",
        "print(\"H_o = Los números de la muestra son independientes\")\n",
        "media = ((2 * n) - 1) / 3\n",
        "varianza = ((16 * n) - 29) / 90\n",
        "from math import sqrt\n",
        "\n",
        "Z = (total_corridas - media) / sqrt(varianza)\n",
        "\n",
        "# Comparación con un nivel de significancia\n",
        "nivel_significancia = float(input(\"Nivel de aceptación: \"))\n",
        "valor_critico = 1.96  # Para un nivel de significancia de 0.05 (aproximadamente)\n",
        "\n",
        "print(\"Corridas observadas:\", total_corridas)\n",
        "print(\"Media:\", round(media, 4))\n",
        "print(\"Varianza:\", round(varianza, 4))\n",
        "print(\"Valor de Z_o:\", round(Z, 4))\n",
        "\n",
        "if abs(Z) > valor_critico:\n",
        "    print(\"Se rechaza H0: Los números de la muestra no son independientes\")\n",
        "else:\n",
        "    print(\"No se rechaza H0: Los números de la muestra son independientes\")\n"
      ]
    },
    {
      "cell_type": "markdown",
      "source": [
        "El código lleva a cabo una prueba estadística para determinar si los números en la lista de valores son independientes o no, utilizando la Prueba de Corridas y comparando el estadístico de prueba Z con un valor crítico."
      ],
      "metadata": {
        "id": "QpXx0g-bhHeN"
      }
    }
  ]
}