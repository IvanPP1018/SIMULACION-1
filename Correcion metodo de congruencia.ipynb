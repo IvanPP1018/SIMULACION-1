{
  "nbformat": 4,
  "nbformat_minor": 0,
  "metadata": {
    "colab": {
      "provenance": [],
      "authorship_tag": "ABX9TyMYLuevBecYxkw9306p614g",
      "include_colab_link": true
    },
    "kernelspec": {
      "name": "python3",
      "display_name": "Python 3"
    },
    "language_info": {
      "name": "python"
    }
  },
  "cells": [
    {
      "cell_type": "markdown",
      "metadata": {
        "id": "view-in-github",
        "colab_type": "text"
      },
      "source": [
        "<a href=\"https://colab.research.google.com/github/IvanPP1018/SIMULACION-1/blob/main/Correcion%20metodo%20de%20congruencia.ipynb\" target=\"_parent\"><img src=\"https://colab.research.google.com/assets/colab-badge.svg\" alt=\"Open In Colab\"/></a>"
      ]
    },
    {
      "cell_type": "code",
      "execution_count": 3,
      "metadata": {
        "colab": {
          "base_uri": "https://localhost:8080/"
        },
        "id": "WiRqERmQRA9l",
        "outputId": "a73aaf69-57b4-49de-eb7f-a4537220b42c"
      },
      "outputs": [
        {
          "output_type": "stream",
          "name": "stdout",
          "text": [
            "Ingrese el valor inicial (semilla): 6\n",
            "Ingrese el coeficiente multiplicativo (a): 5\n",
            "Ingrese el coeficiente aditivo (b): 5\n",
            "Ingrese el módulo (m): 16\n",
            "Ingrese el número de iteraciones (n): 10\n",
            "Números generados por el método de congruencia lineal:\n",
            "[6, 3, 4, 9, 2, 15, 0, 5, 14, 11]\n"
          ]
        }
      ],
      "source": [
        "def congruencia_lineal(semilla, a, b, m, n):\n",
        "\n",
        "    # Lista para almacenar los números generados\n",
        "    numeros_generados = []\n",
        "\n",
        "    # Primer número generado\n",
        "    xn=semilla\n",
        "    # xn = (a * semilla + b) % m\n",
        "    numeros_generados.append(xn)\n",
        "\n",
        "    # Generar más números\n",
        "    for i in range(1, n):\n",
        "        # Siguiente número generado\n",
        "        xn = (a * xn + b) % m\n",
        "        numeros_generados.append(xn)\n",
        "\n",
        "    return numeros_generados\n",
        "\n",
        "# Solicitar al usuario que ingrese los parámetros\n",
        "semilla = int(input(\"Ingrese el valor inicial (semilla): \"))\n",
        "a = int(input(\"Ingrese el coeficiente multiplicativo (a): \"))\n",
        "b = int(input(\"Ingrese el coeficiente aditivo (b): \"))\n",
        "m = int(input(\"Ingrese el módulo (m): \"))\n",
        "n = int(input(\"Ingrese el número de iteraciones (n): \"))\n",
        "\n",
        "# Generar números usando el método de congruencia lineal\n",
        "numeros_generados = congruencia_lineal(semilla, a, b, m, n)\n",
        "\n",
        "# Mostrar los números generados\n",
        "print(\"Números generados por el método de congruencia lineal:\")\n",
        "print(numeros_generados)\n"
      ]
    }
  ]
}